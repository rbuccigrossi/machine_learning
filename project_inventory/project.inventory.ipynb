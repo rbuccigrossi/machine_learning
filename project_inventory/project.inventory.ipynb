{
 "cells": [
  {
   "cell_type": "markdown",
   "metadata": {},
   "source": [
    "# Federal Project Inventory Classification\n",
    "Can we use a TFIDF (term frequency) model to automatically classify Federal projects by the categories listed in https://fpi.omb.gov ?\n",
    "\n",
    "Using scikit-learn, we will\n",
    "1. Download and prepare the data from https://fpi.omb.gov/explore-the-pilot-data/summary-of-all-data/\n",
    "2. Split the data into a training set (80%) and a test set (20%)\n",
    "3. Create \"features\" of word vectors (count words or word phrases in the two texts) using TfidfVectorizer\n",
    "4. Determine which features best differentiate between the two books using SelectKBest\n",
    "5. Train a stochastic gradient descent classifier (SGDClassifier) \n",
    "6. Test the performance of the classifier against the test set \n",
    "\n",
    "## Downloading the data\n",
    "\n",
    "``` bash\n",
    "# Download the data\n",
    "wget https://fpi.omb.gov/wp-content/uploads/2021/01/Federal_Program_Inventory_Pilot_Data_2021-01-14.csv\n",
    "\n",
    "# Move to a date independent form\n",
    "mv Federal_Program_Inventory_Pilot_Data_2021-01-14.csv Federal_Program_Inventory_Pilot_Data.csv\n",
    "```"
   ]
  },
  {
   "cell_type": "markdown",
   "metadata": {},
   "source": [
    "## Key Imports"
   ]
  },
  {
   "cell_type": "code",
   "execution_count": 1,
   "metadata": {},
   "outputs": [],
   "source": [
    "import os\n",
    "import pandas as pd\n",
    "import numpy as np\n",
    "from sklearn.model_selection import train_test_split, RandomizedSearchCV, GridSearchCV\n",
    "from sklearn.pipeline import Pipeline\n",
    "from sklearn.feature_extraction.text import TfidfVectorizer\n",
    "from sklearn.feature_selection import SelectKBest\n",
    "from sklearn.linear_model import SGDClassifier\n",
    "from sklearn import metrics\n",
    "import matplotlib.pyplot as plt\n",
    "%matplotlib inline"
   ]
  },
  {
   "cell_type": "markdown",
   "metadata": {},
   "source": [
    "## Import our Labeled Text into a DataFrame"
   ]
  },
  {
   "cell_type": "code",
   "execution_count": 2,
   "metadata": {},
   "outputs": [
    {
     "data": {
      "text/html": [
       "<div>\n",
       "<style scoped>\n",
       "    .dataframe tbody tr th:only-of-type {\n",
       "        vertical-align: middle;\n",
       "    }\n",
       "\n",
       "    .dataframe tbody tr th {\n",
       "        vertical-align: top;\n",
       "    }\n",
       "\n",
       "    .dataframe thead th {\n",
       "        text-align: right;\n",
       "    }\n",
       "</style>\n",
       "<table border=\"1\" class=\"dataframe\">\n",
       "  <thead>\n",
       "    <tr style=\"text-align: right;\">\n",
       "      <th></th>\n",
       "      <th>Category</th>\n",
       "    </tr>\n",
       "  </thead>\n",
       "  <tbody>\n",
       "    <tr>\n",
       "      <th>0</th>\n",
       "      <td>Broadband</td>\n",
       "    </tr>\n",
       "    <tr>\n",
       "      <th>1</th>\n",
       "      <td>Economic Development</td>\n",
       "    </tr>\n",
       "    <tr>\n",
       "      <th>2</th>\n",
       "      <td>Opioid Epidemic Response</td>\n",
       "    </tr>\n",
       "    <tr>\n",
       "      <th>3</th>\n",
       "      <td>STEM Education</td>\n",
       "    </tr>\n",
       "    <tr>\n",
       "      <th>4</th>\n",
       "      <td>Workforce Development</td>\n",
       "    </tr>\n",
       "    <tr>\n",
       "      <th>5</th>\n",
       "      <td>Native American</td>\n",
       "    </tr>\n",
       "    <tr>\n",
       "      <th>6</th>\n",
       "      <td>Flood Risk</td>\n",
       "    </tr>\n",
       "    <tr>\n",
       "      <th>7</th>\n",
       "      <td>A.I. R&amp;D/Quantum R&amp;D</td>\n",
       "    </tr>\n",
       "    <tr>\n",
       "      <th>8</th>\n",
       "      <td>Global Health</td>\n",
       "    </tr>\n",
       "    <tr>\n",
       "      <th>9</th>\n",
       "      <td>Homelessness</td>\n",
       "    </tr>\n",
       "    <tr>\n",
       "      <th>10</th>\n",
       "      <td>HIV/AIDS</td>\n",
       "    </tr>\n",
       "    <tr>\n",
       "      <th>11</th>\n",
       "      <td>Transportation Infrastructure</td>\n",
       "    </tr>\n",
       "  </tbody>\n",
       "</table>\n",
       "</div>"
      ],
      "text/plain": [
       "                         Category\n",
       "0                       Broadband\n",
       "1            Economic Development\n",
       "2        Opioid Epidemic Response\n",
       "3                  STEM Education\n",
       "4           Workforce Development\n",
       "5                 Native American\n",
       "6                      Flood Risk\n",
       "7            A.I. R&D/Quantum R&D\n",
       "8                   Global Health\n",
       "9                    Homelessness\n",
       "10                       HIV/AIDS\n",
       "11  Transportation Infrastructure"
      ]
     },
     "execution_count": 2,
     "metadata": {},
     "output_type": "execute_result"
    }
   ],
   "source": [
    "# Read the CSV File into a dataframe\n",
    "\n",
    "labeled_data = pd.read_csv('Federal_Program_Inventory_Pilot_Data.csv',encoding='cp1252',\n",
    "                           usecols=['Agency','Program Name','Program Description','Mission/Purpose',\n",
    "                                    'Recipients','Associated Categories'])\n",
    "\n",
    "# Remove duplicate rows\n",
    "labeled_data = labeled_data.drop_duplicates().reset_index(drop=True)\n",
    "\n",
    "# Get the categories\n",
    "categories = pd.read_csv('Federal_Program_Inventory_Pilot_Data.csv',usecols=['Category'])\n",
    "categories = categories.drop_duplicates().reset_index(drop=True)\n",
    "categories"
   ]
  },
  {
   "cell_type": "code",
   "execution_count": 3,
   "metadata": {},
   "outputs": [
    {
     "name": "stdout",
     "output_type": "stream",
     "text": [
      "Category = Transportation Infrastructure\n"
     ]
    },
    {
     "data": {
      "text/html": [
       "<div>\n",
       "<style scoped>\n",
       "    .dataframe tbody tr th:only-of-type {\n",
       "        vertical-align: middle;\n",
       "    }\n",
       "\n",
       "    .dataframe tbody tr th {\n",
       "        vertical-align: top;\n",
       "    }\n",
       "\n",
       "    .dataframe thead th {\n",
       "        text-align: right;\n",
       "    }\n",
       "</style>\n",
       "<table border=\"1\" class=\"dataframe\">\n",
       "  <thead>\n",
       "    <tr style=\"text-align: right;\">\n",
       "      <th></th>\n",
       "      <th>Agency</th>\n",
       "      <th>Program Name</th>\n",
       "      <th>Program Description</th>\n",
       "      <th>Mission/Purpose</th>\n",
       "      <th>Recipients</th>\n",
       "      <th>Associated Categories</th>\n",
       "      <th>text</th>\n",
       "      <th>categories</th>\n",
       "      <th>label</th>\n",
       "    </tr>\n",
       "  </thead>\n",
       "  <tbody>\n",
       "    <tr>\n",
       "      <th>0</th>\n",
       "      <td>Appalachian Regional Commission</td>\n",
       "      <td>Area Development Base Program</td>\n",
       "      <td>ARC’s Area Development Base Program relies on ...</td>\n",
       "      <td>Area and regional development</td>\n",
       "      <td>Nonprofit with 501(c)(3) Status; Domestic Loca...</td>\n",
       "      <td>Broadband; Economic Development; Opioid Epidem...</td>\n",
       "      <td>Appalachian Regional Commission Area Developme...</td>\n",
       "      <td>[Broadband, Economic Development, Opioid Epide...</td>\n",
       "      <td>Other</td>\n",
       "    </tr>\n",
       "    <tr>\n",
       "      <th>1</th>\n",
       "      <td>Appalachian Regional Commission</td>\n",
       "      <td>INSPIRE Initiative</td>\n",
       "      <td>The INvestments Supporting Partnerships In Rec...</td>\n",
       "      <td>Area and regional development</td>\n",
       "      <td>U.S. State Government (including the District ...</td>\n",
       "      <td>Opioid Epidemic Response</td>\n",
       "      <td>Appalachian Regional Commission INSPIRE Initia...</td>\n",
       "      <td>[Opioid Epidemic Response]</td>\n",
       "      <td>Other</td>\n",
       "    </tr>\n",
       "    <tr>\n",
       "      <th>2</th>\n",
       "      <td>Appalachian Regional Commission</td>\n",
       "      <td>POWER Initiative</td>\n",
       "      <td>The POWER (Partnerships for Opportunity and Wo...</td>\n",
       "      <td>Area and regional development</td>\n",
       "      <td>U.S. State Government (including the District ...</td>\n",
       "      <td>Broadband; Economic Development; Opioid Epidem...</td>\n",
       "      <td>Appalachian Regional Commission POWER Initiati...</td>\n",
       "      <td>[Broadband, Economic Development, Opioid Epide...</td>\n",
       "      <td>Other</td>\n",
       "    </tr>\n",
       "    <tr>\n",
       "      <th>3</th>\n",
       "      <td>Appalachian Regional Commission</td>\n",
       "      <td>Special Regional Initiative for Distress</td>\n",
       "      <td>ARC targets special resources to the most econ...</td>\n",
       "      <td>Area and regional development</td>\n",
       "      <td>U.S. State Government (including the District ...</td>\n",
       "      <td>Broadband; Economic Development; Workforce Dev...</td>\n",
       "      <td>Appalachian Regional Commission Special Region...</td>\n",
       "      <td>[Broadband, Economic Development, Workforce De...</td>\n",
       "      <td>Other</td>\n",
       "    </tr>\n",
       "    <tr>\n",
       "      <th>4</th>\n",
       "      <td>Corporation for National and Community Service</td>\n",
       "      <td>AmeriCorps NCCC</td>\n",
       "      <td>AmeriCorps NCCC is a full-time, team-based, re...</td>\n",
       "      <td>Elementary, secondary, and vocational education</td>\n",
       "      <td>U.S. State Government (including the District ...</td>\n",
       "      <td>STEM Education</td>\n",
       "      <td>Corporation for National and Community Service...</td>\n",
       "      <td>[STEM Education]</td>\n",
       "      <td>Other</td>\n",
       "    </tr>\n",
       "    <tr>\n",
       "      <th>5</th>\n",
       "      <td>Corporation for National and Community Service</td>\n",
       "      <td>AmeriCorps Seniors</td>\n",
       "      <td>For decades, volunteers age 55+ have been serv...</td>\n",
       "      <td>Elementary, secondary, and vocational education</td>\n",
       "      <td>U.S. State Government (including the District ...</td>\n",
       "      <td>Native American</td>\n",
       "      <td>Corporation for National and Community Service...</td>\n",
       "      <td>[Native American]</td>\n",
       "      <td>Other</td>\n",
       "    </tr>\n",
       "  </tbody>\n",
       "</table>\n",
       "</div>"
      ],
      "text/plain": [
       "                                           Agency  \\\n",
       "0                 Appalachian Regional Commission   \n",
       "1                 Appalachian Regional Commission   \n",
       "2                 Appalachian Regional Commission   \n",
       "3                 Appalachian Regional Commission   \n",
       "4  Corporation for National and Community Service   \n",
       "5  Corporation for National and Community Service   \n",
       "\n",
       "                               Program Name  \\\n",
       "0             Area Development Base Program   \n",
       "1                        INSPIRE Initiative   \n",
       "2                          POWER Initiative   \n",
       "3  Special Regional Initiative for Distress   \n",
       "4                           AmeriCorps NCCC   \n",
       "5                        AmeriCorps Seniors   \n",
       "\n",
       "                                 Program Description  \\\n",
       "0  ARC’s Area Development Base Program relies on ...   \n",
       "1  The INvestments Supporting Partnerships In Rec...   \n",
       "2  The POWER (Partnerships for Opportunity and Wo...   \n",
       "3  ARC targets special resources to the most econ...   \n",
       "4  AmeriCorps NCCC is a full-time, team-based, re...   \n",
       "5  For decades, volunteers age 55+ have been serv...   \n",
       "\n",
       "                                   Mission/Purpose  \\\n",
       "0                    Area and regional development   \n",
       "1                    Area and regional development   \n",
       "2                    Area and regional development   \n",
       "3                    Area and regional development   \n",
       "4  Elementary, secondary, and vocational education   \n",
       "5  Elementary, secondary, and vocational education   \n",
       "\n",
       "                                          Recipients  \\\n",
       "0  Nonprofit with 501(c)(3) Status; Domestic Loca...   \n",
       "1  U.S. State Government (including the District ...   \n",
       "2  U.S. State Government (including the District ...   \n",
       "3  U.S. State Government (including the District ...   \n",
       "4  U.S. State Government (including the District ...   \n",
       "5  U.S. State Government (including the District ...   \n",
       "\n",
       "                               Associated Categories  \\\n",
       "0  Broadband; Economic Development; Opioid Epidem...   \n",
       "1                           Opioid Epidemic Response   \n",
       "2  Broadband; Economic Development; Opioid Epidem...   \n",
       "3  Broadband; Economic Development; Workforce Dev...   \n",
       "4                                     STEM Education   \n",
       "5                                    Native American   \n",
       "\n",
       "                                                text  \\\n",
       "0  Appalachian Regional Commission Area Developme...   \n",
       "1  Appalachian Regional Commission INSPIRE Initia...   \n",
       "2  Appalachian Regional Commission POWER Initiati...   \n",
       "3  Appalachian Regional Commission Special Region...   \n",
       "4  Corporation for National and Community Service...   \n",
       "5  Corporation for National and Community Service...   \n",
       "\n",
       "                                          categories  label  \n",
       "0  [Broadband, Economic Development, Opioid Epide...  Other  \n",
       "1                         [Opioid Epidemic Response]  Other  \n",
       "2  [Broadband, Economic Development, Opioid Epide...  Other  \n",
       "3  [Broadband, Economic Development, Workforce De...  Other  \n",
       "4                                   [STEM Education]  Other  \n",
       "5                                  [Native American]  Other  "
      ]
     },
     "execution_count": 3,
     "metadata": {},
     "output_type": "execute_result"
    }
   ],
   "source": [
    "# For our first test, let's join the Agency, Program Name, Program Description, Mission/Purpose, and Recipients \n",
    "# into a single Text field and see if we can determine \"Broadband\"\n",
    "labeled_data['text'] = labeled_data[['Agency','Program Name','Program Description','Mission/Purpose',\n",
    "                                    'Recipients']].agg(' '.join, axis=1)\n",
    "\n",
    "labeled_data['categories'] = labeled_data['Associated Categories'].str.split('; ')\n",
    "\n",
    "# Let's pick a specific label\n",
    "pos_label = categories[\"Category\"][11]\n",
    "print(\"Category = \" + pos_label)\n",
    "\n",
    "# Now let's label 'Broadband' (here we're cheating and doing a simple substring)\n",
    "labeled_data['label'] = np.where(labeled_data['Associated Categories'].str.contains(pos_label),pos_label,'Other')\n",
    "\n",
    "# Display the first 6 rows to show that we successfully read it\n",
    "labeled_data.head(6)\n"
   ]
  },
  {
   "cell_type": "markdown",
   "metadata": {},
   "source": [
    "## Split our Data into Training and Test Sets"
   ]
  },
  {
   "cell_type": "code",
   "execution_count": 4,
   "metadata": {},
   "outputs": [],
   "source": [
    "# Now let's split our data into a training set and test set\n",
    "training_data, test_data = train_test_split(labeled_data, test_size=0.2, stratify=labeled_data['label'])"
   ]
  },
  {
   "cell_type": "code",
   "execution_count": 5,
   "metadata": {},
   "outputs": [
    {
     "data": {
      "text/plain": [
       "Other                            534\n",
       "Transportation Infrastructure     34\n",
       "Name: label, dtype: int64"
      ]
     },
     "execution_count": 5,
     "metadata": {},
     "output_type": "execute_result"
    }
   ],
   "source": [
    "# Make sure our data is split 80/20 and that we have examples of both labels in our sets\n",
    "training_data['label'].value_counts()\n"
   ]
  },
  {
   "cell_type": "code",
   "execution_count": 6,
   "metadata": {},
   "outputs": [
    {
     "data": {
      "text/plain": [
       "Other                            135\n",
       "Transportation Infrastructure      8\n",
       "Name: label, dtype: int64"
      ]
     },
     "execution_count": 6,
     "metadata": {},
     "output_type": "execute_result"
    }
   ],
   "source": [
    "test_data['label'].value_counts()"
   ]
  },
  {
   "cell_type": "markdown",
   "metadata": {},
   "source": [
    "## Create a Classifier Pipeline and Fit Against Test Data\n",
    "Note: There are many \"hyperparameters\" that can be used to improve the quality of our classifier.\n",
    "For this demo, we're picking simple options (leaving most at the defaults). We will explore\n",
    "improving the options in another notebook."
   ]
  },
  {
   "cell_type": "code",
   "execution_count": 7,
   "metadata": {},
   "outputs": [],
   "source": [
    "# Now let's make a classifier with 3 steps:\n",
    "#   1. Vectorize the text as individual words with English stop words\n",
    "#   2. Select the best K=100 features\n",
    "#   3. SGDClassification\n",
    "estimator = Pipeline([('vectorizer', TfidfVectorizer(stop_words='english')),\n",
    "                      ('select', SelectKBest(k=100)),\n",
    "                      ('classifier', SGDClassifier())])"
   ]
  },
  {
   "cell_type": "code",
   "execution_count": 8,
   "metadata": {},
   "outputs": [],
   "source": [
    "# This powerful line will initialize the vectorizer, select the k=10 best features\n",
    "# and find the weights of the features to best separate (classify) the two\n",
    "# classes of book segments\n",
    "estimator.fit(training_data['text'],training_data['label']);"
   ]
  },
  {
   "cell_type": "markdown",
   "metadata": {},
   "source": [
    "## Check the Accuracy of the Classifier Against the Training Data\n",
    "\n",
    "Here we are going to make predicitions using our classifier against our training set. This should be\n",
    "pretty accurate if we have enough quality features. Sklearn provides a nice report to tell us if our\n",
    "classification performs well, but it requires some definitions:\n",
    "\n",
    "\"precision\" is the ratio of true positive predictions over all positive predictions \n",
    "\n",
    "    precision = TruePos / (TruePos + FalsePos)\n",
    "    \n",
    "\"recall\" is the ratio of true positive predictions over all actual positive items\n",
    "\n",
    "    recall = TruePos / (TruePos + FalseNeg)\n",
    "  \n",
    "The f1-score is the harmonic mean of precision and recall \n",
    "\n",
    "    f1-score = ( 2 / (1/recall) + (1/precision) ) = 2 * (precision * recall) / (precision + recall)\n",
    "             = TruePos / (TrusPos + ((FalsNeg + FalsePos)/2)))"
   ]
  },
  {
   "cell_type": "code",
   "execution_count": 9,
   "metadata": {},
   "outputs": [],
   "source": [
    "pred = estimator.predict(training_data['text'])"
   ]
  },
  {
   "cell_type": "code",
   "execution_count": 10,
   "metadata": {},
   "outputs": [
    {
     "name": "stdout",
     "output_type": "stream",
     "text": [
      "                               precision    recall  f1-score   support\n",
      "\n",
      "                        Other       1.00      1.00      1.00       534\n",
      "Transportation Infrastructure       0.97      0.94      0.96        34\n",
      "\n",
      "                     accuracy                           0.99       568\n",
      "                    macro avg       0.98      0.97      0.98       568\n",
      "                 weighted avg       0.99      0.99      0.99       568\n",
      "\n"
     ]
    }
   ],
   "source": [
    "print(metrics.classification_report(training_data['label'],pred))"
   ]
  },
  {
   "cell_type": "markdown",
   "metadata": {},
   "source": [
    "## Check the Accuracy of the Classifier Against the Test Data\n",
    "\n",
    "And now for the moment of truth: Does our classifier do well against the test data we set aside from the beginning?\n"
   ]
  },
  {
   "cell_type": "code",
   "execution_count": 11,
   "metadata": {},
   "outputs": [],
   "source": [
    "pred = estimator.predict(test_data['text'])"
   ]
  },
  {
   "cell_type": "code",
   "execution_count": 12,
   "metadata": {},
   "outputs": [
    {
     "name": "stdout",
     "output_type": "stream",
     "text": [
      "                               precision    recall  f1-score   support\n",
      "\n",
      "                        Other       1.00      0.97      0.98       135\n",
      "Transportation Infrastructure       0.67      1.00      0.80         8\n",
      "\n",
      "                     accuracy                           0.97       143\n",
      "                    macro avg       0.83      0.99      0.89       143\n",
      "                 weighted avg       0.98      0.97      0.97       143\n",
      "\n"
     ]
    }
   ],
   "source": [
    "print(metrics.classification_report(test_data['label'],pred))"
   ]
  },
  {
   "cell_type": "markdown",
   "metadata": {},
   "source": [
    "## Plot Precision and Recall Vs. the Threshold\n",
    "The classifier creates a score based upon coefficients it calculated for each feature. If the total score for a piece of text is over a threshold (designed to be \"0\"), then that text is determined to be in the positive class (\"Romeo and Juliet\" in our example).\n",
    "\n",
    "But the threshold is a natural tradeoff between precision and recall. If we set our threshold lower, we'd catch more false negatives (improving recall) but also let more false positives in (hurting precision). Similarly, if we increase our threshold, we'd remove false positives (improving precision) but create more false negatives (hurting recall).  We can plot this relationship between recall and the threshold and between precision and the threshold:"
   ]
  },
  {
   "cell_type": "code",
   "execution_count": 13,
   "metadata": {},
   "outputs": [
    {
     "data": {
      "image/png": "[encoded data removed]",
      "text/plain": [
       "<Figure size 1152x576 with 1 Axes>"
      ]
     },
     "metadata": {
      "needs_background": "light"
     },
     "output_type": "display_data"
    }
   ],
   "source": [
    "def plot_precision_recall_vs_threshold(precisions, recalls, thresholds):\n",
    "    \"\"\"\n",
    "    Modified from:\n",
    "    Hands-On Machine learning with Scikit-Learn\n",
    "    and TensorFlow; p.89\n",
    "    \"\"\"\n",
    "    font = {'family' : 'Dejavu Sans',\n",
    "            'weight' : 'medium',\n",
    "            'size'   : 18}\n",
    "\n",
    "    plt.rc('font', **font)\n",
    "    \n",
    "    plt.figure(figsize=(16, 8))\n",
    "    plt.title(\"Precision and Recall Scores as a function of the decision threshold\",fontdict=font)\n",
    "    plt.plot(thresholds, precisions[:-1], \"b--\", label=\"Precision\")\n",
    "    plt.plot(thresholds, recalls[:-1], \"g-\", label=\"Recall\")\n",
    "    plt.ylabel(\"Score\",fontdict=font)\n",
    "    plt.xlabel(\"Decision Threshold\",fontdict=font)\n",
    "    plt.legend(loc='best',fontsize=16)\n",
    "    \n",
    "    \n",
    "# Calculate a \"score\" (a decision threshold)\n",
    "try:\n",
    "    # Get the index of the class that is \"Broadband\"\n",
    "    positive_class_col = list(estimator.classes_).index(pos_label)\n",
    "    scores = estimator.predict_proba(test_data['text'])[:, positive_class_col]\n",
    "except AttributeError:\n",
    "    scores = estimator.decision_function(test_data['text'])\n",
    "\n",
    "precisions, recalls, thresholds = metrics.precision_recall_curve(test_data['label'], scores, pos_label=pos_label)    \n",
    "plot_precision_recall_vs_threshold(precisions, recalls, thresholds)\n",
    "plt.show()"
   ]
  },
  {
   "cell_type": "markdown",
   "metadata": {},
   "source": [
    "## What are the chosen features and their coefficients?\n",
    "With a little work, we can ask the pipeline what features it chose and what coefficients it assigned to those features. Intuitively, a positive coefficient means that the word belongs to Romeo and Juliet. A negative coefficient means that the word belongs to Moby Dick."
   ]
  },
  {
   "cell_type": "code",
   "execution_count": 14,
   "metadata": {},
   "outputs": [
    {
     "data": {
      "text/html": [
       "<div>\n",
       "<style scoped>\n",
       "    .dataframe tbody tr th:only-of-type {\n",
       "        vertical-align: middle;\n",
       "    }\n",
       "\n",
       "    .dataframe tbody tr th {\n",
       "        vertical-align: top;\n",
       "    }\n",
       "\n",
       "    .dataframe thead th {\n",
       "        text-align: right;\n",
       "    }\n",
       "</style>\n",
       "<table border=\"1\" class=\"dataframe\">\n",
       "  <thead>\n",
       "    <tr style=\"text-align: right;\">\n",
       "      <th></th>\n",
       "      <th>features</th>\n",
       "      <th>coef</th>\n",
       "    </tr>\n",
       "  </thead>\n",
       "  <tbody>\n",
       "    <tr>\n",
       "      <th>39</th>\n",
       "      <td>highway</td>\n",
       "      <td>3.718185</td>\n",
       "    </tr>\n",
       "    <tr>\n",
       "      <th>98</th>\n",
       "      <td>vessel</td>\n",
       "      <td>3.170629</td>\n",
       "    </tr>\n",
       "    <tr>\n",
       "      <th>42</th>\n",
       "      <td>improvement</td>\n",
       "      <td>2.989121</td>\n",
       "    </tr>\n",
       "    <tr>\n",
       "      <th>92</th>\n",
       "      <td>transportation</td>\n",
       "      <td>2.589548</td>\n",
       "    </tr>\n",
       "    <tr>\n",
       "      <th>51</th>\n",
       "      <td>marad</td>\n",
       "      <td>2.578469</td>\n",
       "    </tr>\n",
       "    <tr>\n",
       "      <th>...</th>\n",
       "      <td>...</td>\n",
       "      <td>...</td>\n",
       "    </tr>\n",
       "    <tr>\n",
       "      <th>35</th>\n",
       "      <td>governments</td>\n",
       "      <td>-0.556874</td>\n",
       "    </tr>\n",
       "    <tr>\n",
       "      <th>32</th>\n",
       "      <td>fra</td>\n",
       "      <td>-0.835080</td>\n",
       "    </tr>\n",
       "    <tr>\n",
       "      <th>11</th>\n",
       "      <td>construction</td>\n",
       "      <td>-1.276399</td>\n",
       "    </tr>\n",
       "    <tr>\n",
       "      <th>79</th>\n",
       "      <td>safety</td>\n",
       "      <td>-1.656616</td>\n",
       "    </tr>\n",
       "    <tr>\n",
       "      <th>76</th>\n",
       "      <td>roads</td>\n",
       "      <td>-1.985717</td>\n",
       "    </tr>\n",
       "  </tbody>\n",
       "</table>\n",
       "<p>100 rows × 2 columns</p>\n",
       "</div>"
      ],
      "text/plain": [
       "          features      coef\n",
       "39         highway  3.718185\n",
       "98          vessel  3.170629\n",
       "42     improvement  2.989121\n",
       "92  transportation  2.589548\n",
       "51           marad  2.578469\n",
       "..             ...       ...\n",
       "35     governments -0.556874\n",
       "32             fra -0.835080\n",
       "11    construction -1.276399\n",
       "79          safety -1.656616\n",
       "76           roads -1.985717\n",
       "\n",
       "[100 rows x 2 columns]"
      ]
     },
     "execution_count": 14,
     "metadata": {},
     "output_type": "execute_result"
    }
   ],
   "source": [
    "features = estimator.named_steps['vectorizer'].get_feature_names()\n",
    "mask = estimator.named_steps['select'].get_support()\n",
    "new_features = [ feature for bool, feature in zip (mask, features) if bool ]\n",
    "nf = pd.DataFrame({'features': new_features, 'coef': estimator.named_steps['classifier'].coef_[0] })\n",
    "nf.sort_values(['coef'], ascending=0)"
   ]
  },
  {
   "cell_type": "markdown",
   "metadata": {},
   "source": [
    "# Let's try parameter tuning"
   ]
  },
  {
   "cell_type": "code",
   "execution_count": 15,
   "metadata": {},
   "outputs": [
    {
     "name": "stdout",
     "output_type": "stream",
     "text": [
      "Fitting 5 folds for each of 70 candidates, totalling 350 fits\n"
     ]
    },
    {
     "name": "stderr",
     "output_type": "stream",
     "text": [
      "[Parallel(n_jobs=-1)]: Using backend LokyBackend with 2 concurrent workers.\n",
      "[Parallel(n_jobs=-1)]: Done 122 tasks      | elapsed:    4.1s\n",
      "[Parallel(n_jobs=-1)]: Done 350 out of 350 | elapsed:   10.4s finished\n"
     ]
    }
   ],
   "source": [
    "param_dist = {\n",
    "      \"vectorizer__ngram_range\":[(1,1), (1,2)],\n",
    "      \"select__k\":[10,50,100,200,500,1000,1500],\n",
    "      \"classifier__loss\": ['hinge', 'log', 'modified_huber', 'squared_hinge', 'perceptron']\n",
    "}\n",
    "\n",
    "pipe = Pipeline([('vectorizer', TfidfVectorizer(stop_words='english')),\n",
    "          ('select', SelectKBest()),\n",
    "          ('classifier', SGDClassifier())])\n",
    "\n",
    "#search = RandomizedSearchCV(pipe, \n",
    "#                                   param_distributions = param_dist,\n",
    "#                                   n_iter = 500,\n",
    "#                                   cv = 5,\n",
    "#                                   n_jobs = -1,\n",
    "#                                   verbose = 1)\n",
    "\n",
    "search = GridSearchCV(pipe, \n",
    "                      param_grid = param_dist,\n",
    "                      cv = 5,\n",
    "                      n_jobs = -1,\n",
    "                      verbose = 1)\n",
    "\n",
    "\n",
    "search.fit(training_data['text'],training_data['label']);\n",
    "estimator = search.best_estimator_"
   ]
  },
  {
   "cell_type": "code",
   "execution_count": 16,
   "metadata": {},
   "outputs": [
    {
     "data": {
      "text/plain": [
       "{'classifier__loss': 'modified_huber',\n",
       " 'select__k': 1500,\n",
       " 'vectorizer__ngram_range': (1, 2)}"
      ]
     },
     "execution_count": 16,
     "metadata": {},
     "output_type": "execute_result"
    }
   ],
   "source": [
    "# So what parameters did it choose?\n",
    "search.best_params_"
   ]
  },
  {
   "cell_type": "code",
   "execution_count": 17,
   "metadata": {},
   "outputs": [
    {
     "name": "stdout",
     "output_type": "stream",
     "text": [
      "                               precision    recall  f1-score   support\n",
      "\n",
      "                        Other       1.00      1.00      1.00       534\n",
      "Transportation Infrastructure       1.00      1.00      1.00        34\n",
      "\n",
      "                     accuracy                           1.00       568\n",
      "                    macro avg       1.00      1.00      1.00       568\n",
      "                 weighted avg       1.00      1.00      1.00       568\n",
      "\n"
     ]
    }
   ],
   "source": [
    "pred = estimator.predict(training_data['text'])\n",
    "print(metrics.classification_report(training_data['label'],pred))"
   ]
  },
  {
   "cell_type": "code",
   "execution_count": 18,
   "metadata": {},
   "outputs": [
    {
     "name": "stdout",
     "output_type": "stream",
     "text": [
      "                               precision    recall  f1-score   support\n",
      "\n",
      "                        Other       1.00      0.99      1.00       135\n",
      "Transportation Infrastructure       0.89      1.00      0.94         8\n",
      "\n",
      "                     accuracy                           0.99       143\n",
      "                    macro avg       0.94      1.00      0.97       143\n",
      "                 weighted avg       0.99      0.99      0.99       143\n",
      "\n"
     ]
    }
   ],
   "source": [
    "pred = estimator.predict(test_data['text'])\n",
    "print(metrics.classification_report(test_data['label'],pred))"
   ]
  },
  {
   "cell_type": "code",
   "execution_count": 19,
   "metadata": {},
   "outputs": [
    {
     "data": {
      "text/html": [
       "<div>\n",
       "<style scoped>\n",
       "    .dataframe tbody tr th:only-of-type {\n",
       "        vertical-align: middle;\n",
       "    }\n",
       "\n",
       "    .dataframe tbody tr th {\n",
       "        vertical-align: top;\n",
       "    }\n",
       "\n",
       "    .dataframe thead th {\n",
       "        text-align: right;\n",
       "    }\n",
       "</style>\n",
       "<table border=\"1\" class=\"dataframe\">\n",
       "  <thead>\n",
       "    <tr style=\"text-align: right;\">\n",
       "      <th></th>\n",
       "      <th>features</th>\n",
       "      <th>coef</th>\n",
       "    </tr>\n",
       "  </thead>\n",
       "  <tbody>\n",
       "    <tr>\n",
       "      <th>647</th>\n",
       "      <td>highway</td>\n",
       "      <td>3.434113</td>\n",
       "    </tr>\n",
       "    <tr>\n",
       "      <th>658</th>\n",
       "      <td>highway projects</td>\n",
       "      <td>2.841871</td>\n",
       "    </tr>\n",
       "    <tr>\n",
       "      <th>804</th>\n",
       "      <td>lono</td>\n",
       "      <td>2.553484</td>\n",
       "    </tr>\n",
       "    <tr>\n",
       "      <th>1418</th>\n",
       "      <td>transportation</td>\n",
       "      <td>2.433357</td>\n",
       "    </tr>\n",
       "    <tr>\n",
       "      <th>338</th>\n",
       "      <td>department transportation</td>\n",
       "      <td>2.182727</td>\n",
       "    </tr>\n",
       "    <tr>\n",
       "      <th>...</th>\n",
       "      <td>...</td>\n",
       "      <td>...</td>\n",
       "    </tr>\n",
       "    <tr>\n",
       "      <th>384</th>\n",
       "      <td>educational institution</td>\n",
       "      <td>-1.493586</td>\n",
       "    </tr>\n",
       "    <tr>\n",
       "      <th>997</th>\n",
       "      <td>private educational</td>\n",
       "      <td>-1.493586</td>\n",
       "    </tr>\n",
       "    <tr>\n",
       "      <th>1191</th>\n",
       "      <td>research</td>\n",
       "      <td>-1.565162</td>\n",
       "    </tr>\n",
       "    <tr>\n",
       "      <th>894</th>\n",
       "      <td>nonprofit</td>\n",
       "      <td>-1.654213</td>\n",
       "    </tr>\n",
       "    <tr>\n",
       "      <th>1445</th>\n",
       "      <td>tribal</td>\n",
       "      <td>-2.542302</td>\n",
       "    </tr>\n",
       "  </tbody>\n",
       "</table>\n",
       "<p>1500 rows × 2 columns</p>\n",
       "</div>"
      ],
      "text/plain": [
       "                       features      coef\n",
       "647                     highway  3.434113\n",
       "658            highway projects  2.841871\n",
       "804                        lono  2.553484\n",
       "1418             transportation  2.433357\n",
       "338   department transportation  2.182727\n",
       "...                         ...       ...\n",
       "384     educational institution -1.493586\n",
       "997         private educational -1.493586\n",
       "1191                   research -1.565162\n",
       "894                   nonprofit -1.654213\n",
       "1445                     tribal -2.542302\n",
       "\n",
       "[1500 rows x 2 columns]"
      ]
     },
     "execution_count": 19,
     "metadata": {},
     "output_type": "execute_result"
    }
   ],
   "source": [
    "features = estimator.named_steps['vectorizer'].get_feature_names()\n",
    "mask = estimator.named_steps['select'].get_support()\n",
    "new_features = [ feature for bool, feature in zip (mask, features) if bool ]\n",
    "nf = pd.DataFrame({'features': new_features, 'coef': estimator.named_steps['classifier'].coef_[0] })\n",
    "nf.sort_values(['coef'], ascending=0)"
   ]
  },
  {
   "cell_type": "code",
   "execution_count": 20,
   "metadata": {},
   "outputs": [
    {
     "data": {
      "text/plain": [
       "0.9911970190964137"
      ]
     },
     "execution_count": 20,
     "metadata": {},
     "output_type": "execute_result"
    }
   ],
   "source": [
    "search.best_score_"
   ]
  },
  {
   "cell_type": "code",
   "execution_count": null,
   "metadata": {},
   "outputs": [],
   "source": []
  }
 ],
 "metadata": {
  "kernelspec": {
   "display_name": "Python 3",
   "language": "python",
   "name": "python3"
  },
  "language_info": {
   "codemirror_mode": {
    "name": "ipython",
    "version": 3
   },
   "file_extension": ".py",
   "mimetype": "text/x-python",
   "name": "python",
   "nbconvert_exporter": "python",
   "pygments_lexer": "ipython3",
   "version": "3.6.8"
  }
 },
 "nbformat": 4,
 "nbformat_minor": 2
}
