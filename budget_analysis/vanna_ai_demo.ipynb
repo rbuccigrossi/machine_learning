{
 "cells": [
  {
   "cell_type": "markdown",
   "id": "036cf09c",
   "metadata": {},
   "source": [
    "# VANNA AI Demo with NASA Oct 22-23 IT Spend Data (from Sam.gov)\n",
    "\n",
    "Here we experiment with LLM generation of SQL through the open source VANNA project (vanna.ai).\n",
    "\n",
    "We begin with a real world problem: Tracking the IT Spend of government agencies. Specifically, there are two code systems in use, NAICS and PSC. So here we will use Vanna to compare IT spending according to NAICS codes and PSC codes by NASA from October 2022 to 2023.\n",
    "\n",
    "Specifically, IT spending according to NAICS codes begins with \"54\", while for PSC codes begins with \"D\". So we pulled the data for NASA from Sam.gov twice, once for NAICS codes that begin with \"54\" and once for PSC codes that begin with \"D\". We will then use Vanna to look at the overlap and differences in the data."
   ]
  },
  {
   "cell_type": "markdown",
   "id": "e5d7a53d",
   "metadata": {},
   "source": [
    "## First let's import the CSV files into a local sqlite database"
   ]
  },
  {
   "cell_type": "code",
   "execution_count": 2,
   "id": "0252521e",
   "metadata": {},
   "outputs": [],
   "source": [
    "import csv\n",
    "import sqlite3\n",
    "\n",
    "# Connect to a local file\n",
    "connection = sqlite3.connect('nasa_spend_10_22_23.db')\n",
    "cursor = connection.cursor()"
   ]
  },
  {
   "cell_type": "code",
   "execution_count": 3,
   "id": "1de10855",
   "metadata": {},
   "outputs": [
    {
     "data": {
      "text/plain": [
       "<sqlite3.Cursor at 0x7f75c58cc740>"
      ]
     },
     "execution_count": 3,
     "metadata": {},
     "output_type": "execute_result"
    }
   ],
   "source": [
    "# Create the NASA NAICS IT SPEND table\n",
    "cursor.execute('''\n",
    "CREATE TABLE nasa_naics_it_spend(\n",
    " id INTEGER PRIMARY KEY AUTOINCREMENT,\n",
    " contracting_depratment_id TEXT,\n",
    " contracting_department_name TEXT,\n",
    " contracting_office_id TEXT,\n",
    " contracting_office_name TEXT,\n",
    " naics_code TEXT,\n",
    " naics_description TEXT,\n",
    " psc_code TEXT,\n",
    " psc_description TEXT,\n",
    " description_of_requirement TEXT,\n",
    " ultimate_parent_legal_business_name TEXT,\n",
    " ultimate_parent_unique_entity_id TEXT,\n",
    " dollars_obligated REAL);\n",
    "''')"
   ]
  },
  {
   "cell_type": "code",
   "execution_count": 4,
   "id": "0e04cddb",
   "metadata": {},
   "outputs": [
    {
     "data": {
      "text/plain": [
       "<sqlite3.Cursor at 0x7f75c58cc740>"
      ]
     },
     "execution_count": 4,
     "metadata": {},
     "output_type": "execute_result"
    }
   ],
   "source": [
    "# open the NAICS IT SPEND CSV file\n",
    "file = open('NASA_NAICS_IT_SPEND_Oct_22_to_23.csv')\n",
    "contents = csv.reader(file)\n",
    "next(contents, None) # skip the header\n",
    "insert_records = '''INSERT INTO nasa_naics_it_spend (contracting_depratment_id, contracting_department_name, \n",
    " contracting_office_id, contracting_office_name, naics_code, naics_description, psc_code, psc_description,\n",
    " description_of_requirement, ultimate_parent_legal_business_name, ultimate_parent_unique_entity_id,\n",
    " dollars_obligated) values (?, ?, ?, ?, ?, ?, ?, ?, ?, ?, ?, ?)\n",
    "'''\n",
    "cursor.executemany(insert_records,contents)"
   ]
  },
  {
   "cell_type": "code",
   "execution_count": 5,
   "id": "3765b58e",
   "metadata": {},
   "outputs": [
    {
     "data": {
      "text/plain": [
       "[(1054609028.0799993,)]"
      ]
     },
     "execution_count": 5,
     "metadata": {},
     "output_type": "execute_result"
    }
   ],
   "source": [
    "# Test by summing up all expenses\n",
    "rows = cursor.execute(\"select sum(dollars_obligated) from nasa_naics_it_spend\").fetchall()\n",
    "rows"
   ]
  },
  {
   "cell_type": "code",
   "execution_count": 6,
   "id": "7029dd0b",
   "metadata": {},
   "outputs": [
    {
     "data": {
      "text/plain": [
       "<sqlite3.Cursor at 0x7f75c58cc740>"
      ]
     },
     "execution_count": 6,
     "metadata": {},
     "output_type": "execute_result"
    }
   ],
   "source": [
    "# Create the NASA PSC IT SPEND table\n",
    "cursor.execute('''\n",
    "CREATE TABLE nasa_psc_it_spend(\n",
    " id INTEGER PRIMARY KEY AUTOINCREMENT,\n",
    " contracting_depratment_id TEXT,\n",
    " contracting_department_name TEXT,\n",
    " contracting_office_id TEXT,\n",
    " contracting_office_name TEXT,\n",
    " naics_code TEXT,\n",
    " naics_description TEXT,\n",
    " psc_code TEXT,\n",
    " psc_description TEXT,\n",
    " description_of_requirement TEXT,\n",
    " ultimate_parent_legal_business_name TEXT,\n",
    " ultimate_parent_unique_entity_id TEXT,\n",
    " dollars_obligated REAL);\n",
    "''')"
   ]
  },
  {
   "cell_type": "code",
   "execution_count": 7,
   "id": "21fcf283",
   "metadata": {},
   "outputs": [
    {
     "data": {
      "text/plain": [
       "<sqlite3.Cursor at 0x7f75c58cc740>"
      ]
     },
     "execution_count": 7,
     "metadata": {},
     "output_type": "execute_result"
    }
   ],
   "source": [
    "# open the PSC IT SPEND CSV file\n",
    "file = open('NASA_PSC_IT_SPEND_Oct_22_to_23.csv')\n",
    "contents = csv.reader(file)\n",
    "next(contents, None) # skip the header\n",
    "insert_records = '''INSERT INTO nasa_psc_it_spend (contracting_depratment_id, contracting_department_name, \n",
    " contracting_office_id, contracting_office_name, naics_code, naics_description, psc_code, psc_description,\n",
    " description_of_requirement, ultimate_parent_legal_business_name, ultimate_parent_unique_entity_id,\n",
    " dollars_obligated) values (?, ?, ?, ?, ?, ?, ?, ?, ?, ?, ?, ?)\n",
    "'''\n",
    "cursor.executemany(insert_records,contents)"
   ]
  },
  {
   "cell_type": "code",
   "execution_count": 8,
   "id": "ab290e39",
   "metadata": {},
   "outputs": [
    {
     "data": {
      "text/plain": [
       "[(1119386991.0599995,)]"
      ]
     },
     "execution_count": 8,
     "metadata": {},
     "output_type": "execute_result"
    }
   ],
   "source": [
    "# Test by summing up all expenses\n",
    "rows = cursor.execute(\"select sum(dollars_obligated) from nasa_psc_it_spend\").fetchall()\n",
    "rows"
   ]
  },
  {
   "cell_type": "markdown",
   "id": "9336306d",
   "metadata": {},
   "source": [
    "# So now we have a database. Let's connect to Vanna and teach it about our system"
   ]
  },
  {
   "cell_type": "code",
   "execution_count": null,
   "id": "4e5b9254",
   "metadata": {},
   "outputs": [],
   "source": []
  }
 ],
 "metadata": {
  "kernelspec": {
   "display_name": "py310",
   "language": "python",
   "name": "py310"
  },
  "language_info": {
   "codemirror_mode": {
    "name": "ipython",
    "version": 3
   },
   "file_extension": ".py",
   "mimetype": "text/x-python",
   "name": "python",
   "nbconvert_exporter": "python",
   "pygments_lexer": "ipython3",
   "version": "3.10.11"
  }
 },
 "nbformat": 4,
 "nbformat_minor": 5
}
