{
 "cells": [
  {
   "cell_type": "markdown",
   "metadata": {},
   "source": [
    "# Federal Project Inventory Model Use\n",
    "Let's use our stored (pickled) a model to identify categories given a program text (see fpi_create_model).\n",
    "\n",
    "## Key Imports"
   ]
  },
  {
   "cell_type": "code",
   "execution_count": 1,
   "metadata": {},
   "outputs": [],
   "source": [
    "import os\n",
    "import pandas as pd\n",
    "import numpy as np\n",
    "import pickle\n",
    "from sklearn.model_selection import train_test_split, RandomizedSearchCV, GridSearchCV\n",
    "from sklearn.pipeline import Pipeline\n",
    "from sklearn.feature_extraction.text import TfidfVectorizer\n",
    "from sklearn.feature_selection import SelectKBest\n",
    "from sklearn.linear_model import SGDClassifier\n",
    "from sklearn import metrics\n",
    "import matplotlib.pyplot as plt\n",
    "%matplotlib inline"
   ]
  },
  {
   "cell_type": "markdown",
   "metadata": {},
   "source": [
    "## Define a function that will apply our estimators and use the probability to sort the categories"
   ]
  },
  {
   "cell_type": "code",
   "execution_count": 2,
   "metadata": {},
   "outputs": [],
   "source": [
    "def predict_categories(text,estimators):\n",
    "    \"\"\"\n",
    "    Given text and a dictionary of estimators, apply the estimators on the text and sort the result\n",
    "    by the calculated probability\n",
    "    \"\"\"\n",
    "    results = []\n",
    "    for category, estimator in estimators.items():\n",
    "        results.append((category, estimator.predict_proba([text])[0][1]))\n",
    "    return sorted(results, key = lambda x: -x[1])\n",
    "        "
   ]
  },
  {
   "cell_type": "markdown",
   "metadata": {},
   "source": [
    "## Now load and test the estimators"
   ]
  },
  {
   "cell_type": "code",
   "execution_count": 3,
   "metadata": {},
   "outputs": [],
   "source": [
    "import pickle\n",
    "\n",
    "estimators = pickle.load(open(\"fpi_estimators.pkl\", \"rb\"))"
   ]
  },
  {
   "cell_type": "code",
   "execution_count": 4,
   "metadata": {},
   "outputs": [
    {
     "data": {
      "text/plain": [
       "[('Broadband', 1.0),\n",
       " ('Native American', 0.18675433316759743),\n",
       " ('STEM Education', 0.060783335729622176),\n",
       " ('Homelessness', 0.03067793481331821),\n",
       " ('HIV/AIDS', 0.005351769501626025),\n",
       " ('Economic Development', 0.0),\n",
       " ('Opioid Epidemic Response', 0.0),\n",
       " ('Workforce Development', 0.0),\n",
       " ('Flood Risk', 0.0),\n",
       " ('A.I. R&D/Quantum R&D', 0.0),\n",
       " ('Global Health', 0.0),\n",
       " ('Transportation Infrastructure', 0.0)]"
      ]
     },
     "execution_count": 4,
     "metadata": {},
     "output_type": "execute_result"
    }
   ],
   "source": [
    "predict_categories(\"Area Development Base Program Provides access to broadband by funding for the cost of constructing, improving, and acquiring facilities and equipment for broadband service in rural communities of 20,000 inhabitants or less. Direct loans are made at the cost of money to the Treasury for the life of the facilities financed.\", estimators)"
   ]
  }
 ],
 "metadata": {
  "kernelspec": {
   "display_name": "Python 3",
   "language": "python",
   "name": "python3"
  },
  "language_info": {
   "codemirror_mode": {
    "name": "ipython",
    "version": 3
   },
   "file_extension": ".py",
   "mimetype": "text/x-python",
   "name": "python",
   "nbconvert_exporter": "python",
   "pygments_lexer": "ipython3",
   "version": "3.6.8"
  }
 },
 "nbformat": 4,
 "nbformat_minor": 2
}
