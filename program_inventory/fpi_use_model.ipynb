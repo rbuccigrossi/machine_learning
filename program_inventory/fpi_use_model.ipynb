{
 "cells": [
  {
   "cell_type": "markdown",
   "metadata": {},
   "source": [
    "# Federal Project Inventory Model Use\n",
    "Let's use our stored (pickled) a model to identify categories given a program text (see fpi_create_model).\n",
    "\n",
    "## Key Imports"
   ]
  },
  {
   "cell_type": "code",
   "execution_count": 1,
   "metadata": {},
   "outputs": [],
   "source": [
    "import os\n",
    "import pandas as pd\n",
    "import numpy as np\n",
    "import pickle\n",
    "from sklearn.model_selection import train_test_split, RandomizedSearchCV, GridSearchCV\n",
    "from sklearn.pipeline import Pipeline\n",
    "from sklearn.feature_extraction.text import TfidfVectorizer\n",
    "from sklearn.feature_selection import SelectKBest\n",
    "from sklearn.linear_model import SGDClassifier\n",
    "from sklearn import metrics\n",
    "import matplotlib.pyplot as plt\n",
    "%matplotlib inline"
   ]
  },
  {
   "cell_type": "markdown",
   "metadata": {},
   "source": [
    "## Define a function that will apply our estimators and use the probability to sort the categories"
   ]
  },
  {
   "cell_type": "code",
   "execution_count": 2,
   "metadata": {},
   "outputs": [],
   "source": [
    "def predict_categories(text,estimators):\n",
    "    \"\"\"\n",
    "    Given text and a dictionary of estimators, apply the estimators on the text and sort the result\n",
    "    by the calculated probability\n",
    "    \"\"\"\n",
    "    results = []\n",
    "    for category, estimator in estimators.items():\n",
    "        results.append((category, estimator.predict_proba([text])[0][1]))\n",
    "    return sorted(results, key = lambda x: -x[1])\n",
    "        "
   ]
  },
  {
   "cell_type": "markdown",
   "metadata": {},
   "source": [
    "## Now load and test the estimators"
   ]
  },
  {
   "cell_type": "code",
   "execution_count": 3,
   "metadata": {},
   "outputs": [],
   "source": [
    "import pickle\n",
    "\n",
    "estimators = pickle.load(open(\"fpi_estimators.pkl\", \"rb\"))"
   ]
  },
  {
   "cell_type": "code",
   "execution_count": 4,
   "metadata": {
    "scrolled": true
   },
   "outputs": [
    {
     "data": {
      "text/plain": [
       "[('Broadband', 1.0),\n",
       " ('Native American', 0.18675433316759743),\n",
       " ('STEM Education', 0.060783335729622176),\n",
       " ('Homelessness', 0.03067793481331821),\n",
       " ('HIV/AIDS', 0.005351769501626025),\n",
       " ('Economic Development', 0.0),\n",
       " ('Opioid Epidemic Response', 0.0),\n",
       " ('Workforce Development', 0.0),\n",
       " ('Flood Risk', 0.0),\n",
       " ('A.I. R&D/Quantum R&D', 0.0),\n",
       " ('Global Health', 0.0),\n",
       " ('Transportation Infrastructure', 0.0)]"
      ]
     },
     "execution_count": 4,
     "metadata": {},
     "output_type": "execute_result"
    }
   ],
   "source": [
    "predict_categories(\"Area Development Base Program Provides access to broadband by funding for the cost of constructing, improving, and acquiring facilities and equipment for broadband service in rural communities of 20,000 inhabitants or less. Direct loans are made at the cost of money to the Treasury for the life of the facilities financed.\", estimators)"
   ]
  },
  {
   "cell_type": "code",
   "execution_count": 5,
   "metadata": {},
   "outputs": [
    {
     "data": {
      "text/plain": [
       "[('Native American', 1.0),\n",
       " ('Homelessness', 1.0),\n",
       " ('STEM Education', 0.011778859833706391),\n",
       " ('HIV/AIDS', 0.005351769501626025),\n",
       " ('Broadband', 0.0),\n",
       " ('Economic Development', 0.0),\n",
       " ('Opioid Epidemic Response', 0.0),\n",
       " ('Workforce Development', 0.0),\n",
       " ('Flood Risk', 0.0),\n",
       " ('A.I. R&D/Quantum R&D', 0.0),\n",
       " ('Global Health', 0.0),\n",
       " ('Transportation Infrastructure', 0.0)]"
      ]
     },
     "execution_count": 5,
     "metadata": {},
     "output_type": "execute_result"
    }
   ],
   "source": [
    "predict_categories(\"I have no idea how to convince this system to mark this text as native american, but I'm guessing. What happens if I also discuss tribal issues and housing? Homelessness and poverty is a concern with native american populations. Housing is important.\",estimators)"
   ]
  },
  {
   "cell_type": "markdown",
   "metadata": {},
   "source": [
    "### Let's find out what contributed to the \"HIV/AIDS\" Category"
   ]
  },
  {
   "cell_type": "code",
   "execution_count": 6,
   "metadata": {},
   "outputs": [],
   "source": [
    "estimator = estimators[\"HIV/AIDS\"]"
   ]
  },
  {
   "cell_type": "code",
   "execution_count": 7,
   "metadata": {},
   "outputs": [
    {
     "data": {
      "text/html": [
       "<div>\n",
       "<style scoped>\n",
       "    .dataframe tbody tr th:only-of-type {\n",
       "        vertical-align: middle;\n",
       "    }\n",
       "\n",
       "    .dataframe tbody tr th {\n",
       "        vertical-align: top;\n",
       "    }\n",
       "\n",
       "    .dataframe thead th {\n",
       "        text-align: right;\n",
       "    }\n",
       "</style>\n",
       "<table border=\"1\" class=\"dataframe\">\n",
       "  <thead>\n",
       "    <tr style=\"text-align: right;\">\n",
       "      <th></th>\n",
       "      <th>features</th>\n",
       "      <th>coef</th>\n",
       "    </tr>\n",
       "  </thead>\n",
       "  <tbody>\n",
       "    <tr>\n",
       "      <th>7</th>\n",
       "      <td>rwhap</td>\n",
       "      <td>3.948828</td>\n",
       "    </tr>\n",
       "    <tr>\n",
       "      <th>0</th>\n",
       "      <td>aids</td>\n",
       "      <td>3.172479</td>\n",
       "    </tr>\n",
       "    <tr>\n",
       "      <th>1</th>\n",
       "      <td>disparities</td>\n",
       "      <td>2.889398</td>\n",
       "    </tr>\n",
       "    <tr>\n",
       "      <th>4</th>\n",
       "      <td>infections</td>\n",
       "      <td>1.574515</td>\n",
       "    </tr>\n",
       "    <tr>\n",
       "      <th>3</th>\n",
       "      <td>hopwa</td>\n",
       "      <td>1.466146</td>\n",
       "    </tr>\n",
       "    <tr>\n",
       "      <th>2</th>\n",
       "      <td>hiv</td>\n",
       "      <td>1.446405</td>\n",
       "    </tr>\n",
       "    <tr>\n",
       "      <th>8</th>\n",
       "      <td>ryan</td>\n",
       "      <td>1.227302</td>\n",
       "    </tr>\n",
       "    <tr>\n",
       "      <th>9</th>\n",
       "      <td>white</td>\n",
       "      <td>1.227302</td>\n",
       "    </tr>\n",
       "    <tr>\n",
       "      <th>5</th>\n",
       "      <td>people</td>\n",
       "      <td>0.942982</td>\n",
       "    </tr>\n",
       "    <tr>\n",
       "      <th>6</th>\n",
       "      <td>persons</td>\n",
       "      <td>0.436049</td>\n",
       "    </tr>\n",
       "  </tbody>\n",
       "</table>\n",
       "</div>"
      ],
      "text/plain": [
       "      features      coef\n",
       "7        rwhap  3.948828\n",
       "0         aids  3.172479\n",
       "1  disparities  2.889398\n",
       "4   infections  1.574515\n",
       "3        hopwa  1.466146\n",
       "2          hiv  1.446405\n",
       "8         ryan  1.227302\n",
       "9        white  1.227302\n",
       "5       people  0.942982\n",
       "6      persons  0.436049"
      ]
     },
     "execution_count": 7,
     "metadata": {},
     "output_type": "execute_result"
    }
   ],
   "source": [
    "features = estimator.named_steps['vectorizer'].get_feature_names()\n",
    "mask = estimator.named_steps['select'].get_support()\n",
    "new_features = [ feature for bool, feature in zip (mask, features) if bool ]\n",
    "nf = pd.DataFrame({'features': new_features, 'coef': estimator.named_steps['classifier'].coef_[0] })\n",
    "nf.sort_values(['coef'], ascending=0)"
   ]
  },
  {
   "cell_type": "markdown",
   "metadata": {},
   "source": [
    "## Define a function that lists the features found in a string"
   ]
  },
  {
   "cell_type": "code",
   "execution_count": 8,
   "metadata": {},
   "outputs": [],
   "source": [
    "from collections import Counter\n",
    "\n",
    "def why_category(text,estimators,category):\n",
    "    \"\"\"\n",
    "    Given text and a dictionary of estimators, apply the estimators on the text and sort the result\n",
    "    by the calculated probability\n",
    "    \"\"\"\n",
    "    results = {}\n",
    "    # Remove simple punctuation, make lowercase, and add a beginning and trailing space\n",
    "    text = \" \" + text.replace(',','').replace('.','').lower() + \" \"\n",
    "    # find the right estimator\n",
    "    for est_cat, estimator in estimators.items():\n",
    "        if (est_cat == category):\n",
    "            # Get features and weights from the estimator\n",
    "            features = estimator.named_steps['vectorizer'].get_feature_names()\n",
    "            mask = estimator.named_steps['select'].get_support()\n",
    "            new_features = [ feature for bool, feature in zip (mask, features) if bool ]\n",
    "            nf = pd.DataFrame({'features': new_features, 'coef': estimator.named_steps['classifier'].coef_[0] })\n",
    "            pd.options.display.max_rows=500\n",
    "            # print(nf.sort_values(['coef'], ascending=0))\n",
    "            # Now loop through each feature and count up occurences (including beginning and trailing spaces)\n",
    "            for _, row in nf.iterrows():\n",
    "                freq = text.count(\" \" + row['features'] + \" \")\n",
    "                if (freq > 0):\n",
    "                    results[row['features']] = [freq, row['coef']]\n",
    "    # Return results sorted by product of freq and coefficient\n",
    "    return {k: v for k,v in sorted(results.items(), \n",
    "                                   key=lambda item: (item[1][0] * item[1][1]),\n",
    "                                   reverse=True)}"
   ]
  },
  {
   "cell_type": "code",
   "execution_count": 9,
   "metadata": {},
   "outputs": [
    {
     "data": {
      "text/plain": [
       "{'agricultural': [3, 3.4828719235181715],\n",
       " 'make': [1, 4.394272513061505],\n",
       " 'basic': [1, 0.9584552385331951],\n",
       " 'ways': [1, -0.5572511085798203],\n",
       " 'research': [5, -0.6482604186745564]}"
      ]
     },
     "execution_count": 9,
     "metadata": {},
     "output_type": "execute_result"
    }
   ],
   "source": [
    "wc = why_category(\"Agricultural Research Basic and Applied Research AGRICULTURAL RESEARCH SERVICE, AGRICULTURE, DEPARTMENT OF To make agricultural research discoveries, evaluate alternative ways of attaining research goals, and provide scientific technical information.\",\n",
    "                 estimators,\n",
    "                 \"Native American\")\n",
    "wc"
   ]
  },
  {
   "cell_type": "code",
   "execution_count": null,
   "metadata": {},
   "outputs": [],
   "source": []
  }
 ],
 "metadata": {
  "kernelspec": {
   "display_name": "Python 3",
   "language": "python",
   "name": "python3"
  },
  "language_info": {
   "codemirror_mode": {
    "name": "ipython",
    "version": 3
   },
   "file_extension": ".py",
   "mimetype": "text/x-python",
   "name": "python",
   "nbconvert_exporter": "python",
   "pygments_lexer": "ipython3",
   "version": "3.6.8"
  }
 },
 "nbformat": 4,
 "nbformat_minor": 2
}
