{
 "cells": [
  {
   "cell_type": "markdown",
   "id": "7d34b9a2",
   "metadata": {},
   "source": [
    "## Using Large Language Model & Vector Database for Categorization\n",
    "\n",
    "### Set OPENAI_API_KEY before running jupyter\n",
    "You need an API key set up from: https://platform.openai.com/account/api-keys\n",
    "\n",
    "    export OPENAI_API_KEY=\"secret key from site\""
   ]
  },
  {
   "cell_type": "code",
   "execution_count": 1,
   "id": "ebe27363",
   "metadata": {},
   "outputs": [
    {
     "name": "stdout",
     "output_type": "stream",
     "text": [
      "3.10.11 (main, Apr  5 2023, 14:15:30) [GCC 7.5.0]\n"
     ]
    }
   ],
   "source": [
    "import sys\n",
    "print (sys.version)"
   ]
  },
  {
   "cell_type": "markdown",
   "id": "3b8582b5",
   "metadata": {},
   "source": [
    "Log into openai with OPEN_API_KEY"
   ]
  },
  {
   "cell_type": "code",
   "execution_count": 2,
   "id": "48375e63",
   "metadata": {},
   "outputs": [],
   "source": [
    "import os\n",
    "import openai\n",
    "\n",
    "# get API key from top-right dropdown on OpenAI website\n",
    "openai.api_key = os.getenv(\"OPENAI_API_KEY\") or \"OPENAI_API_KEY\"\n",
    "\n",
    "# openai.Engine.list()  # check we have authenticated"
   ]
  },
  {
   "cell_type": "markdown",
   "id": "4be80515",
   "metadata": {},
   "source": [
    "Connect to Pinecone with PINECONE_API_KEY and PINECONE_ENVIRONMENT"
   ]
  },
  {
   "cell_type": "code",
   "execution_count": 4,
   "id": "8b8a0728",
   "metadata": {},
   "outputs": [],
   "source": [
    "import pinecone\n",
    "from tqdm import tqdm\n",
    "\n",
    "api_key = os.getenv(\"PINECONE_API_KEY\") or \"PINECONE_API_KEY\"\n",
    "# find your environment next to the api key in pinecone console\n",
    "env = os.getenv(\"PINECONE_ENVIRONMENT\") or \"PINECONE_ENVIRONMENT\"\n",
    "\n",
    "pinecone.init(api_key=api_key, enviroment=env)\n",
    "# pinecone.whoami()"
   ]
  },
  {
   "cell_type": "markdown",
   "id": "cdacb257",
   "metadata": {},
   "source": [
    "Create a sample embedding so that we know the embedding length"
   ]
  },
  {
   "cell_type": "code",
   "execution_count": 6,
   "id": "7b93229c",
   "metadata": {},
   "outputs": [
    {
     "data": {
      "text/plain": [
       "1536"
      ]
     },
     "execution_count": 6,
     "metadata": {},
     "output_type": "execute_result"
    }
   ],
   "source": [
    "embed_model = \"text-embedding-ada-002\"\n",
    "\n",
    "res = openai.Embedding.create(\n",
    "    input=[\"This is sample test that will determine the length\"],\n",
    "    engine=embed_model\n",
    ")\n",
    "\n",
    "embedding_length = len(res['data'][0]['embedding'])\n",
    "embedding_length"
   ]
  },
  {
   "cell_type": "code",
   "execution_count": 9,
   "id": "709551ce",
   "metadata": {},
   "outputs": [],
   "source": [
    "index_name = 'openai-fpi-categorization'\n",
    "\n",
    "# Create the index if it doesn't exist already\n",
    "if index_name not in pinecone.list_indexes():\n",
    "    # if does not exist, create index\n",
    "    pinecone.create_index(\n",
    "        index_name,\n",
    "        dimension=embedding_length,\n",
    "        metric='cosine'\n",
    "    )"
   ]
  },
  {
   "cell_type": "code",
   "execution_count": 10,
   "id": "dfd86fa8",
   "metadata": {},
   "outputs": [
    {
     "data": {
      "text/plain": [
       "{'dimension': 1536,\n",
       " 'index_fullness': 0.0,\n",
       " 'namespaces': {},\n",
       " 'total_vector_count': 0}"
      ]
     },
     "execution_count": 10,
     "metadata": {},
     "output_type": "execute_result"
    }
   ],
   "source": [
    "# connect to index\n",
    "index = pinecone.Index(index_name)\n",
    "# view index stats \n",
    "index_stats = index.describe_index_stats()\n",
    "index_stats"
   ]
  },
  {
   "cell_type": "markdown",
   "id": "2e401cd4",
   "metadata": {},
   "source": [
    "## Populate the Vector Database\n",
    "### Key Imports"
   ]
  },
  {
   "cell_type": "code",
   "execution_count": 11,
   "id": "9890e69a",
   "metadata": {},
   "outputs": [],
   "source": [
    "import pandas as pd\n",
    "import numpy as np\n",
    "from sklearn.model_selection import train_test_split"
   ]
  },
  {
   "cell_type": "markdown",
   "id": "5dce1f37",
   "metadata": {},
   "source": [
    "### Import our Labeled Text into a DataFrame"
   ]
  },
  {
   "cell_type": "code",
   "execution_count": 12,
   "id": "bf5c8922",
   "metadata": {},
   "outputs": [
    {
     "data": {
      "text/plain": [
       "['Broadband',\n",
       " 'Economic Development',\n",
       " 'Opioid Epidemic Response',\n",
       " 'STEM Education',\n",
       " 'Workforce Development',\n",
       " 'Native American',\n",
       " 'Flood Risk',\n",
       " 'A.I. R&D/Quantum R&D',\n",
       " 'Global Health',\n",
       " 'Homelessness',\n",
       " 'HIV/AIDS',\n",
       " 'Transportation Infrastructure']"
      ]
     },
     "execution_count": 12,
     "metadata": {},
     "output_type": "execute_result"
    }
   ],
   "source": [
    "# Read the CSV File into a dataframe\n",
    "\n",
    "labeled_data = pd.read_csv('Federal_Program_Inventory_Pilot_Data.csv',encoding='cp1252',\n",
    "                           usecols=['Agency','Program Name','Program Description','Mission/Purpose',\n",
    "                                    'Recipients','Beneficiaries','Associated Categories'])\n",
    "\n",
    "# Remove duplicate rows\n",
    "labeled_data = labeled_data.drop_duplicates().reset_index(drop=True)\n",
    "\n",
    "# Get the categories\n",
    "categories = pd.read_csv('Federal_Program_Inventory_Pilot_Data.csv',encoding='cp1252',\n",
    "                         usecols=['Category'])\n",
    "categories = categories.drop_duplicates().reset_index(drop=True)\n",
    "categories = [r[\"Category\"] for _, r in categories.iterrows()]\n",
    "categories"
   ]
  },
  {
   "cell_type": "markdown",
   "id": "396f3221",
   "metadata": {},
   "source": [
    "### Let's create our comparison string and our category list"
   ]
  },
  {
   "cell_type": "code",
   "execution_count": 13,
   "id": "0c1efaae",
   "metadata": {},
   "outputs": [],
   "source": [
    "# Let's join the Agency, Program Name, Program Description, Mission/Purpose, and Beneficiaries\n",
    "# into a single Text field (make it human readable for the LLM)\n",
    "labeled_data['text'] = (\"Program Name: \" + labeled_data['Program Name'] + \"\\n\" +\n",
    "                        \"Agency: \" + labeled_data['Agency'] + \"\\n\" +\n",
    "                        \"Mission/Purpose: \" + labeled_data['Mission/Purpose'] + \"\\n\" +\n",
    "                        \"Program Description: \" + labeled_data['Program Description'] + \"\\n\" +\n",
    "                        \"Recipients: \" + labeled_data['Recipients'] + \"\\n\" +\n",
    "                        \"Beneficiaries: \" + labeled_data['Beneficiaries'])\n",
    "\n",
    "# Let's generate the list of categories for each entry\n",
    "labeled_data['categories'] = labeled_data['Associated Categories'].str.split('; ')"
   ]
  },
  {
   "cell_type": "code",
   "execution_count": 15,
   "id": "fa40eef6",
   "metadata": {},
   "outputs": [
    {
     "name": "stdout",
     "output_type": "stream",
     "text": [
      "Program Name: POWER Initiative\n",
      "Agency: Appalachian Regional Commission\n",
      "Mission/Purpose: Area and regional development\n",
      "Program Description: The POWER (Partnerships for Opportunity and Workforce and Economic Revitalization) Initiative helps communities and regions that have been affected by job losses in coal mining, coal power plant operations, and coal-related supply chain industries due to the changing economics of America’s energy production. The POWER Initiative funds projects that cultivate economic diversity, enhance job training and re-employment opportunities, create jobs in existing or new industries, attract new sources of investment, and strengthen the Region’s broadband infrastructure.\n",
      "Recipients: U.S. State Government (including the District of Columbia); Public/State Controlled Institution; Nonprofit with 501(c)(3) Status; Domestic Local Government (includes territories unless otherwise specified)\n",
      "Beneficiaries: State; Rural; Other public institution/organization; Public nonprofit institution/organization; Local\n"
     ]
    }
   ],
   "source": [
    "print(labeled_data['text'][2])"
   ]
  },
  {
   "cell_type": "code",
   "execution_count": 17,
   "id": "083ce56a",
   "metadata": {},
   "outputs": [],
   "source": [
    "# Set up arrays of labeled data and calculate the embeddings\n",
    "labeled_text = labeled_data['text'].tolist()\n",
    "labeled_categories = labeled_data['categories'].tolist()\n",
    "embeddings = openai.Embedding.create(input=labeled_text, engine=embed_model)"
   ]
  },
  {
   "cell_type": "code",
   "execution_count": 18,
   "id": "a94e6d9d",
   "metadata": {},
   "outputs": [
    {
     "name": "stdout",
     "output_type": "stream",
     "text": [
      "0\n",
      "50\n",
      "100\n",
      "150\n",
      "200\n",
      "250\n",
      "300\n",
      "350\n",
      "400\n",
      "450\n",
      "500\n",
      "550\n",
      "600\n",
      "650\n",
      "700\n"
     ]
    }
   ],
   "source": [
    "if (index_stats.total_vector_count == 0):\n",
    "    to_upsert = [('fpi-'+str(i), embeddings['data'][i]['embedding'], \n",
    "                  {'text':labeled_text[i], 'categories':labeled_categories[i]})\n",
    "                 for i in range(len(labeled_text))]\n",
    "    # Insert in groups of 50\n",
    "    for i in range(0, len(to_upsert), 50):\n",
    "        print(i)\n",
    "        index.upsert(vectors=to_upsert[i:i+50])"
   ]
  },
  {
   "cell_type": "code",
   "execution_count": 19,
   "id": "7404eb84",
   "metadata": {},
   "outputs": [
    {
     "data": {
      "text/plain": [
       "{'dimension': 1536,\n",
       " 'index_fullness': 0.0,\n",
       " 'namespaces': {'': {'vector_count': 711}},\n",
       " 'total_vector_count': 711}"
      ]
     },
     "execution_count": 19,
     "metadata": {},
     "output_type": "execute_result"
    }
   ],
   "source": [
    "# view index stats \n",
    "index_stats = index.describe_index_stats()\n",
    "index_stats"
   ]
  },
  {
   "cell_type": "code",
   "execution_count": 20,
   "id": "e9fe255d",
   "metadata": {},
   "outputs": [],
   "source": [
    "# Let's try a to search our index!\n",
    "query = \" economic and community development, empowering Appalachian communities to work with their state governments\"\n",
    "qe = openai.Embedding.create(input=[query], engine=embed_model)\n",
    "res = index.query(qe['data'][0]['embedding'], top_k=5, include_metadata=True)\n",
    "# res"
   ]
  },
  {
   "cell_type": "code",
   "execution_count": 21,
   "id": "2a1141b4",
   "metadata": {},
   "outputs": [],
   "source": [
    "# res"
   ]
  },
  {
   "cell_type": "code",
   "execution_count": 22,
   "id": "38e2c9c4",
   "metadata": {},
   "outputs": [
    {
     "data": {
      "text/plain": [
       "'Program Name: Planning Assistance to States\\nAgency: Corps of Engineers--Civil Works\\nMission/Purpose: Water resources\\nProgram Description: The Corps uses this funding to provide technical assistance to states, local governments, Indian tribes, and regional and interstate water resources authorities to assist them in their water resources planning efforts.  The Corps would use the requested funds for work related to flood risk management.  The Corps also is able under this program to provide technical analysis to support a broader effort by a state, regional, or interstate authority that is evaluating options involving a range of issues across a large watershed.\\nRecipients: U.S. Federal Government\\nBeneficiaries: State; U.S. Citizen; U.S. Territories; Local'"
      ]
     },
     "execution_count": 22,
     "metadata": {},
     "output_type": "execute_result"
    }
   ],
   "source": [
    "labeled_text[24]"
   ]
  },
  {
   "cell_type": "code",
   "execution_count": 67,
   "id": "931c9110",
   "metadata": {},
   "outputs": [],
   "source": [
    "# Let's try a to search our index!\n",
    "key = 168\n",
    "query = labeled_text[key]\n",
    "qe = openai.Embedding.create(input=[query], engine=embed_model)\n",
    "res = index.query(qe['data'][0]['embedding'], top_k=5, include_metadata=True)\n",
    "# res"
   ]
  },
  {
   "cell_type": "code",
   "execution_count": 68,
   "id": "2822d725",
   "metadata": {},
   "outputs": [
    {
     "name": "stdout",
     "output_type": "stream",
     "text": [
      "You are natural language processing categorization tool.\n",
      "Given examples of nearest-neighbor US grant programs and their categories. You will assign zero to many categories to a new grant program.\n",
      "The category choices are ['Broadband','Economic Development','Opioid Epidemic Response','STEM Education','Workforce Development','Native American','Flood Risk','A.I. R&D/Quantum R&D','Global Health','Homelessness','HIV/AIDS','Transportation Infrastructure'])\n",
      "The following are pre-categorized programs and their known categories:\n",
      "\n",
      "Program Name: Student Support and Academic Enrichment State Grants\n",
      "Agency: Department of Education\n",
      "Mission/Purpose: Elementary, secondary, and vocational education\n",
      "Program Description: The program supports formula grants that are intended to improve academic achievement by increasing the capacity of States and local educational agencies (LEAs) to provide students with access to a well-rounded education and improve school conditions and use of technology.\n",
      "Recipients: U.S. State Government (including the District of Columbia)\n",
      "Beneficiaries: Education (0-8); Education (9-12)\n",
      "\n",
      "Categories: Native American\n",
      "\n",
      "---\n",
      "\n",
      "Program Name: Upward Bound Math and Science Program\n",
      "Agency: Department of Education\n",
      "Mission/Purpose: Higher education\n",
      "Program Description: The Upward Bound Math and Science program is designed to strengthen the math and science skills of participating students. The goal of the program is to help students recognize and develop their potential to excel in math and science and to encourage them to pursue postsecondary degrees in math and science, and ultimately careers in the math and science profession.\n",
      "Recipients: U.S. State Government (including the District of Columbia); Private Educational Institution, Nonprofit; Public/State Controlled Institution; Domestic Local Government (includes territories unless otherwise specified)\n",
      "Beneficiaries: Education (9-12)\n",
      "\n",
      "Categories: STEM Education\n",
      "\n",
      "---\n",
      "\n",
      "Program Name: Supporting Effective Instruction State Grants\n",
      "Agency: Department of Education\n",
      "Mission/Purpose: Elementary, secondary, and vocational education\n",
      "Program Description: Supports activities designed to increase student achievement by improving the effectiveness of teachers, principals, and other school leaders; increase the number of teachers, principals, and other school leaders who are effective in improving student academic achievement in schools; provide low-income and minority students greater access to effective teachers, principals, and other school leaders; and reduce class size. \n",
      "\n",
      "Recipients: U.S. State Government (including the District of Columbia)\n",
      "Beneficiaries: Education (0-8); Education (9-12)\n",
      "\n",
      "Categories: Native American\n",
      "\n",
      "---\n",
      "\n",
      "Program Name: TRIO\n",
      "Agency: Department of Education\n",
      "Mission/Purpose: Higher education\n",
      "Program Description: The Federal TRIO Programs (TRIO) are Federal outreach and student services programs designed to identify and provide services for individuals from disadvantaged backgrounds.\n",
      "Recipients: Public/State Controlled Institution; Private Educational Institution, Nonprofit\n",
      "Beneficiaries: Education (9-12); Education (13+)\n",
      "\n",
      "Categories: Native American\n",
      "\n",
      "---\n",
      "\n",
      "Please use the above categorized programs to assign categories to the following program description: \n",
      "\n",
      "Program text: Program Name: GEAR UP\n",
      "Agency: Department of Education\n",
      "Mission/Purpose: Higher education\n",
      "Program Description: This discretionary grant program is designed to increase the number of low-income students who are prepared to enter and succeed in postsecondary education.\n",
      "Recipients: Public/State Controlled Institution; Private Educational Institution, Nonprofit\n",
      "Beneficiaries: Education (0-8); Education (9-12)\n",
      "\n",
      "Output a JSON object with three entries: \n",
      " 1) 'keywords' a string listing important keywords found in the program description that impacts your decision\n",
      " 1) 'reasoning' a string describing your reasoning and justification of the categorizaitons\n",
      " 2) 'categories' an array of strings with your categories (the choices are ['Broadband','Economic Development','Opioid Epidemic Response','STEM Education','Workforce Development','Native American','Flood Risk','A.I. R&D/Quantum R&D','Global Health','Homelessness','HIV/AIDS','Transportation Infrastructure'])\n",
      " 3) 'confidence' a number from 0 to 100 representing your confidence (100 being the most confident)\n",
      "\n",
      " Please note that a program may not fit into any of the categories.\n"
     ]
    }
   ],
   "source": [
    "query = (\"You are natural language processing categorization tool.\\n\" +\n",
    "         \"Given examples of nearest-neighbor US grant programs and their categories. You will assign \" +\n",
    "         \"zero to many categories to a new grant program.\\n\" +\n",
    "         \"The category choices are ['\" + \"','\".join(categories) + \"'])\\n\" +\n",
    "         \"The following are pre-categorized programs and their known categories:\\n\\n\")\n",
    "for match in res['matches']:\n",
    "    if (match['id'] != f\"fpi-{key}\"):  # EXCLUDE THE ACTUAL PROGRAM\n",
    "        query += (match['metadata']['text'] + \"\\n\\n\" +\n",
    "                  \"Categories: \" + ', '.join(match['metadata']['categories']) + \"\\n\\n\" +\n",
    "                  \"---\" + \"\\n\\n\")\n",
    "query += (\"Please use the above categorized programs to assign categories to the following program description: \\n\\n\" +\n",
    "          \"Program text: \" + labeled_text[key] + \"\\n\\n\" +\n",
    "          \"Output a JSON object with three entries: \\n\" +\n",
    "          \" 1) 'keywords' a string listing important keywords found in the program description that impacts your decision\\n\" + \n",
    "          \" 1) 'reasoning' a string describing your reasoning and justification of the categorizaitons\\n\" + \n",
    "          \" 2) 'categories' an array of strings with your categories (the choices are ['\" + \"','\".join(categories) + \"'])\\n\" +\n",
    "          \" 3) 'confidence' a number from 0 to 100 representing your confidence (100 being the most confident)\\n\\n\" +\n",
    "          \" Please note that a program may not fit into any of the categories.\")\n",
    "\n",
    "print(query)"
   ]
  },
  {
   "cell_type": "code",
   "execution_count": 69,
   "id": "cdd75067",
   "metadata": {},
   "outputs": [
    {
     "name": "stdout",
     "output_type": "stream",
     "text": [
      "{\n",
      "  \"keywords\": \"low-income students, postsecondary education\",\n",
      "  \"reasoning\": \"Based on the program description, the focus of the grant program is to increase the number of low-income students who are prepared for and succeed in postsecondary education. This aligns with the mission/purpose of higher education. Additionally, the beneficiaries include Education (0-8) and Education (9-12), indicating a focus on students at various educational levels.\",\n",
      "  \"categories\": [\"STEM Education\"],\n",
      "  \"confidence\": 80\n",
      "}\n"
     ]
    }
   ],
   "source": [
    "# now query GPT 3.5\n",
    "chat = openai.ChatCompletion.create(\n",
    "    model='gpt-3.5-turbo',\n",
    "    temperature=0,\n",
    "    messages=[\n",
    "        {\"role\": \"user\", \"content\" : query}\n",
    "    ]\n",
    ")\n",
    "\n",
    "print(chat['choices'][0]['message']['content'])"
   ]
  },
  {
   "cell_type": "code",
   "execution_count": 70,
   "id": "775149c5",
   "metadata": {},
   "outputs": [
    {
     "data": {
      "text/plain": [
       "['Native American']"
      ]
     },
     "execution_count": 70,
     "metadata": {},
     "output_type": "execute_result"
    }
   ],
   "source": [
    "labeled_categories[key]"
   ]
  },
  {
   "cell_type": "code",
   "execution_count": 34,
   "id": "90efe709",
   "metadata": {},
   "outputs": [],
   "source": [
    "import json\n",
    "\n",
    "# Gets the categories, excluding key\n",
    "# openai, index, categories, embed_model are global\n",
    "def llm_vd_get_categories(text, key, top_k=5):\n",
    "    # First get the related hits from Pinecone\n",
    "    qe = openai.Embedding.create(input=[text], engine=embed_model)\n",
    "    res = index.query(qe['data'][0]['embedding'], top_k=top_k, include_metadata=True)\n",
    "    # Construct the query\n",
    "    query = (\"You are natural language processing categorization tool.\\n\" +\n",
    "             \"Given examples of nearest-neighbor US grant programs and their categories. You will assign \" +\n",
    "             \"zero to many categories to a new grant program.\\n\" +\n",
    "             \"The category choices are ['\" + \"','\".join(categories) + \"'])\\n\" +\n",
    "             \"The following are pre-categorized programs and their known categories:\\n\\n\")\n",
    "    for match in res['matches']:\n",
    "        if (match['id'] != f\"fpi-{key}\"):  # EXCLUDE THE ACTUAL PROGRAM\n",
    "            query += (match['metadata']['text'] + \"\\n\\n\" +\n",
    "                      \"Categories: \" + ', '.join(match['metadata']['categories']) + \"\\n\\n\" +\n",
    "                      \"---\" + \"\\n\\n\")\n",
    "    query += (\"Please use the above categorized programs to assign categories to the following program description: \\n\\n\" +\n",
    "              \"Program text: \" + labeled_text[key] + \"\\n\\n\" +\n",
    "              \"Output a JSON object with three entries: \\n\" +\n",
    "              \" 1) 'keywords' a string listing important keywords found in the program description that impacts your decision\\n\" + \n",
    "              \" 1) 'reasoning' a string describing your reasoning and justification of the categorizaitons\\n\" + \n",
    "              \" 2) 'categories' an array of strings with your categories (the choices are ['\" + \"','\".join(categories) + \"'])\\n\" +\n",
    "              \" 3) 'confidence' a number from 0 to 100 representing your confidence (100 being the most confident)\\n\\n\" +\n",
    "              \" Please note that a program may not fit into any of the categories.\")\n",
    "    # print(query)\n",
    "    chat = openai.ChatCompletion.create(\n",
    "        model='gpt-3.5-turbo',\n",
    "        messages=[{\"role\": \"user\", \"content\" : query}]\n",
    "    )\n",
    "    return(json.loads(chat['choices'][0]['message']['content']))"
   ]
  },
  {
   "cell_type": "code",
   "execution_count": 35,
   "id": "828203db",
   "metadata": {},
   "outputs": [
    {
     "data": {
      "text/plain": [
       "{'keywords': 'technical assistance, water resources planning, flood risk management',\n",
       " 'reasoning': 'Based on the keywords found in the program description, it is clear that the program focuses on providing technical assistance for water resources planning, specifically related to flood risk management.',\n",
       " 'categories': ['Flood Risk'],\n",
       " 'confidence': 100}"
      ]
     },
     "execution_count": 35,
     "metadata": {},
     "output_type": "execute_result"
    }
   ],
   "source": [
    "llm_vd_get_categories(labeled_text[24],24)"
   ]
  },
  {
   "cell_type": "code",
   "execution_count": 130,
   "id": "982406cd",
   "metadata": {},
   "outputs": [],
   "source": [
    "found_categories=[]\n",
    "if os.path.exists(\"found_categories.json\"):\n",
    "    with open(\"found_categories.json\",\"r\") as infile:\n",
    "        found_categories = json.load(infile)\n",
    "        \n",
    "# found_categories"
   ]
  },
  {
   "cell_type": "code",
   "execution_count": 131,
   "id": "1416b417",
   "metadata": {},
   "outputs": [],
   "source": [
    "# The following is a reentrant loop so that we can calculate the categories for all of the FPI programs\n",
    "# in batches\n",
    "for i in range(0,len(labeled_text)):\n",
    "    if (i >= len(found_categories)):\n",
    "        chat_result = llm_vd_get_categories(labeled_text[i],i)\n",
    "        chat_result[\"key\"] = i # Record key just in case\n",
    "        print(chat_result)\n",
    "        found_categories.append(chat_result)\n",
    "        with open(\"found_categories.json\",\"w\") as outfile:\n",
    "            outfile.write(json.dumps(found_categories))\n",
    "   "
   ]
  },
  {
   "cell_type": "code",
   "execution_count": 132,
   "id": "fd33cc1d",
   "metadata": {},
   "outputs": [],
   "source": [
    "# Count false positives, false negatives, true positives and true negatives\n",
    "fp_total = 0\n",
    "fn_total = 0\n",
    "tp_total = 0\n",
    "tn_total = 0\n",
    "total_categories = len(set(categories))\n",
    "for fc in found_categories:\n",
    "    i = fc[\"key\"]\n",
    "    real_categories = set(labeled_categories[i])\n",
    "    assigned_categories = set(categories).intersection(set(fc[\"categories\"]))\n",
    "#    print(f\"{i}: {real_categories} -> {assigned_categories}\")\n",
    "#    print(f\" TP={len(real_categories.intersection(assigned_categories))}\")\n",
    "    tp = len(real_categories.intersection(assigned_categories))\n",
    "    tp_total += tp\n",
    "#    print(f\" FP={len(assigned_categories.difference(real_categories))}\")\n",
    "    fp = len(assigned_categories.difference(real_categories))\n",
    "    fp_total += fp\n",
    "#    print(f\" FN={len(real_categories.difference(assigned_categories))}\")\n",
    "    fn = len(real_categories.difference(assigned_categories))\n",
    "    fn_total += fn\n",
    "#    print(f\" TN={total_categories - tp - fp - fn}\")\n",
    "    tn = total_categories - tp - fp - fn\n",
    "    tn_total += tn\n",
    "#    print(f\" {tp_total} {fp_total} {fn_total} {tn_total}\")\n",
    "    "
   ]
  },
  {
   "cell_type": "code",
   "execution_count": 133,
   "id": "2df06e15",
   "metadata": {},
   "outputs": [
    {
     "name": "stdout",
     "output_type": "stream",
     "text": [
      "Accuracy: 96.24941397093296\n",
      "Precision: 79.31844888366626\n",
      "Recall: 82.41758241758241\n",
      "f1: 80.83832335329342\n"
     ]
    }
   ],
   "source": [
    "accuracy = (tp_total+tn_total)/(tp_total+tn_total+fp_total+fn_total)\n",
    "precision = tp_total/(tp_total + fp_total)\n",
    "recall = tp_total/(tp_total + fn_total)\n",
    "f1 = 2.0 / ((1/precision) + (1/recall))\n",
    "print(f\"Accuracy: {accuracy*100}\")\n",
    "print(f\"Precision: {precision*100}\")\n",
    "print(f\"Recall: {recall*100}\")\n",
    "print(f\"f1: {f1*100}\")\n"
   ]
  },
  {
   "cell_type": "code",
   "execution_count": 134,
   "id": "1e2ae06d",
   "metadata": {},
   "outputs": [
    {
     "data": {
      "text/html": [
       "<div>\n",
       "<style scoped>\n",
       "    .dataframe tbody tr th:only-of-type {\n",
       "        vertical-align: middle;\n",
       "    }\n",
       "\n",
       "    .dataframe tbody tr th {\n",
       "        vertical-align: top;\n",
       "    }\n",
       "\n",
       "    .dataframe thead th {\n",
       "        text-align: right;\n",
       "    }\n",
       "</style>\n",
       "<table border=\"1\" class=\"dataframe\">\n",
       "  <thead>\n",
       "    <tr style=\"text-align: right;\">\n",
       "      <th></th>\n",
       "      <th>Category</th>\n",
       "      <th>True Pos</th>\n",
       "      <th>True Neg</th>\n",
       "      <th>False Pos</th>\n",
       "      <th>False Neg</th>\n",
       "      <th>Accuracy</th>\n",
       "      <th>Precision</th>\n",
       "      <th>Recall</th>\n",
       "      <th>F1</th>\n",
       "    </tr>\n",
       "  </thead>\n",
       "  <tbody>\n",
       "    <tr>\n",
       "      <th>0</th>\n",
       "      <td>Broadband</td>\n",
       "      <td>28</td>\n",
       "      <td>665</td>\n",
       "      <td>9</td>\n",
       "      <td>9</td>\n",
       "      <td>0.974684</td>\n",
       "      <td>0.756757</td>\n",
       "      <td>0.756757</td>\n",
       "      <td>0.756757</td>\n",
       "    </tr>\n",
       "    <tr>\n",
       "      <th>1</th>\n",
       "      <td>Economic Development</td>\n",
       "      <td>41</td>\n",
       "      <td>639</td>\n",
       "      <td>27</td>\n",
       "      <td>4</td>\n",
       "      <td>0.956399</td>\n",
       "      <td>0.602941</td>\n",
       "      <td>0.911111</td>\n",
       "      <td>0.725664</td>\n",
       "    </tr>\n",
       "    <tr>\n",
       "      <th>2</th>\n",
       "      <td>Opioid Epidemic Response</td>\n",
       "      <td>35</td>\n",
       "      <td>660</td>\n",
       "      <td>5</td>\n",
       "      <td>11</td>\n",
       "      <td>0.977496</td>\n",
       "      <td>0.875000</td>\n",
       "      <td>0.760870</td>\n",
       "      <td>0.813953</td>\n",
       "    </tr>\n",
       "    <tr>\n",
       "      <th>3</th>\n",
       "      <td>STEM Education</td>\n",
       "      <td>72</td>\n",
       "      <td>600</td>\n",
       "      <td>23</td>\n",
       "      <td>16</td>\n",
       "      <td>0.945148</td>\n",
       "      <td>0.757895</td>\n",
       "      <td>0.818182</td>\n",
       "      <td>0.786885</td>\n",
       "    </tr>\n",
       "    <tr>\n",
       "      <th>4</th>\n",
       "      <td>Workforce Development</td>\n",
       "      <td>62</td>\n",
       "      <td>597</td>\n",
       "      <td>35</td>\n",
       "      <td>17</td>\n",
       "      <td>0.926864</td>\n",
       "      <td>0.639175</td>\n",
       "      <td>0.784810</td>\n",
       "      <td>0.704545</td>\n",
       "    </tr>\n",
       "    <tr>\n",
       "      <th>5</th>\n",
       "      <td>Native American</td>\n",
       "      <td>225</td>\n",
       "      <td>406</td>\n",
       "      <td>17</td>\n",
       "      <td>63</td>\n",
       "      <td>0.887482</td>\n",
       "      <td>0.929752</td>\n",
       "      <td>0.781250</td>\n",
       "      <td>0.849057</td>\n",
       "    </tr>\n",
       "    <tr>\n",
       "      <th>6</th>\n",
       "      <td>Flood Risk</td>\n",
       "      <td>40</td>\n",
       "      <td>658</td>\n",
       "      <td>8</td>\n",
       "      <td>5</td>\n",
       "      <td>0.981716</td>\n",
       "      <td>0.833333</td>\n",
       "      <td>0.888889</td>\n",
       "      <td>0.860215</td>\n",
       "    </tr>\n",
       "    <tr>\n",
       "      <th>7</th>\n",
       "      <td>A.I. R&amp;D/Quantum R&amp;D</td>\n",
       "      <td>52</td>\n",
       "      <td>638</td>\n",
       "      <td>7</td>\n",
       "      <td>14</td>\n",
       "      <td>0.970464</td>\n",
       "      <td>0.881356</td>\n",
       "      <td>0.787879</td>\n",
       "      <td>0.832000</td>\n",
       "    </tr>\n",
       "    <tr>\n",
       "      <th>8</th>\n",
       "      <td>Global Health</td>\n",
       "      <td>25</td>\n",
       "      <td>677</td>\n",
       "      <td>9</td>\n",
       "      <td>0</td>\n",
       "      <td>0.987342</td>\n",
       "      <td>0.735294</td>\n",
       "      <td>1.000000</td>\n",
       "      <td>0.847458</td>\n",
       "    </tr>\n",
       "    <tr>\n",
       "      <th>9</th>\n",
       "      <td>Homelessness</td>\n",
       "      <td>31</td>\n",
       "      <td>667</td>\n",
       "      <td>11</td>\n",
       "      <td>2</td>\n",
       "      <td>0.981716</td>\n",
       "      <td>0.738095</td>\n",
       "      <td>0.939394</td>\n",
       "      <td>0.826667</td>\n",
       "    </tr>\n",
       "    <tr>\n",
       "      <th>10</th>\n",
       "      <td>HIV/AIDS</td>\n",
       "      <td>23</td>\n",
       "      <td>683</td>\n",
       "      <td>3</td>\n",
       "      <td>2</td>\n",
       "      <td>0.992968</td>\n",
       "      <td>0.884615</td>\n",
       "      <td>0.920000</td>\n",
       "      <td>0.901961</td>\n",
       "    </tr>\n",
       "    <tr>\n",
       "      <th>11</th>\n",
       "      <td>Transportation Infrastructure</td>\n",
       "      <td>41</td>\n",
       "      <td>647</td>\n",
       "      <td>22</td>\n",
       "      <td>1</td>\n",
       "      <td>0.967651</td>\n",
       "      <td>0.650794</td>\n",
       "      <td>0.976190</td>\n",
       "      <td>0.780952</td>\n",
       "    </tr>\n",
       "    <tr>\n",
       "      <th>12</th>\n",
       "      <td>All Categories</td>\n",
       "      <td>675</td>\n",
       "      <td>7537</td>\n",
       "      <td>176</td>\n",
       "      <td>144</td>\n",
       "      <td>0.962494</td>\n",
       "      <td>0.793184</td>\n",
       "      <td>0.824176</td>\n",
       "      <td>0.808383</td>\n",
       "    </tr>\n",
       "  </tbody>\n",
       "</table>\n",
       "</div>"
      ],
      "text/plain": [
       "                         Category  True Pos  True Neg  False Pos  False Neg   \n",
       "0                       Broadband        28       665          9          9  \\\n",
       "1            Economic Development        41       639         27          4   \n",
       "2        Opioid Epidemic Response        35       660          5         11   \n",
       "3                  STEM Education        72       600         23         16   \n",
       "4           Workforce Development        62       597         35         17   \n",
       "5                 Native American       225       406         17         63   \n",
       "6                      Flood Risk        40       658          8          5   \n",
       "7            A.I. R&D/Quantum R&D        52       638          7         14   \n",
       "8                   Global Health        25       677          9          0   \n",
       "9                    Homelessness        31       667         11          2   \n",
       "10                       HIV/AIDS        23       683          3          2   \n",
       "11  Transportation Infrastructure        41       647         22          1   \n",
       "12                 All Categories       675      7537        176        144   \n",
       "\n",
       "    Accuracy  Precision    Recall        F1  \n",
       "0   0.974684   0.756757  0.756757  0.756757  \n",
       "1   0.956399   0.602941  0.911111  0.725664  \n",
       "2   0.977496   0.875000  0.760870  0.813953  \n",
       "3   0.945148   0.757895  0.818182  0.786885  \n",
       "4   0.926864   0.639175  0.784810  0.704545  \n",
       "5   0.887482   0.929752  0.781250  0.849057  \n",
       "6   0.981716   0.833333  0.888889  0.860215  \n",
       "7   0.970464   0.881356  0.787879  0.832000  \n",
       "8   0.987342   0.735294  1.000000  0.847458  \n",
       "9   0.981716   0.738095  0.939394  0.826667  \n",
       "10  0.992968   0.884615  0.920000  0.901961  \n",
       "11  0.967651   0.650794  0.976190  0.780952  \n",
       "12  0.962494   0.793184  0.824176  0.808383  "
      ]
     },
     "execution_count": 134,
     "metadata": {},
     "output_type": "execute_result"
    }
   ],
   "source": [
    "# Calculate and display Accuracy, Precision, and Recall for each category\n",
    "precision_data = []\n",
    "fp_total = 0\n",
    "fn_total = 0\n",
    "tp_total = 0\n",
    "tn_total = 0\n",
    "for c in categories:\n",
    "    in_cat = [(c in lc) for lc in labeled_categories]\n",
    "    assigned_cat = [(c in fc[\"categories\"]) for fc in found_categories]\n",
    "    tp = ([(a and b) for a, b in zip(in_cat, assigned_cat)]).count(True)\n",
    "    tn = ([(not(a) and not(b)) for a, b in zip(in_cat, assigned_cat)]).count(True)\n",
    "    fp = ([(not(a) and b) for a, b in zip(in_cat, assigned_cat)]).count(True)\n",
    "    fn = ([(a and not(b)) for a, b in zip(in_cat, assigned_cat)]).count(True)\n",
    "    accuracy = (tp+tn)/(tp+tn+fp+fn)\n",
    "    precision = tp/(tp + fp)\n",
    "    recall = tp/(tp + fn)\n",
    "    f1 = 2.0 / ((1/precision) + (1/recall))\n",
    "    precision_data.append([c,tp,tn,fp,fn,accuracy,precision,recall,f1])\n",
    "    tp_total += tp\n",
    "    tn_total += tn\n",
    "    fp_total += fp\n",
    "    fn_total += fn\n",
    "    \n",
    "accuracy = (tp_total+tn_total)/(tp_total+tn_total+fp_total+fn_total)\n",
    "precision = tp_total/(tp_total + fp_total)\n",
    "recall = tp_total/(tp_total + fn_total)\n",
    "f1 = 2.0 / ((1/precision) + (1/recall))\n",
    "precision_data.append([\"All Categories\",tp_total,tn_total,fp_total,fn_total,accuracy,precision,recall,f1])\n",
    "\n",
    "df = pd.DataFrame(precision_data, columns = ['Category','True Pos','True Neg','False Pos',\n",
    "                                             'False Neg','Accuracy','Precision','Recall','F1'])\n",
    "df"
   ]
  },
  {
   "cell_type": "code",
   "execution_count": 139,
   "id": "8335a891",
   "metadata": {},
   "outputs": [
    {
     "data": {
      "text/plain": [
       "['Broadband',\n",
       " 'Economic Development',\n",
       " 'Opioid Epidemic Response',\n",
       " 'STEM Education',\n",
       " 'Workforce Development',\n",
       " 'Native American',\n",
       " 'Flood Risk',\n",
       " 'A.I. R&D/Quantum R&D',\n",
       " 'Global Health',\n",
       " 'Homelessness',\n",
       " 'HIV/AIDS',\n",
       " 'Transportation Infrastructure']"
      ]
     },
     "execution_count": 139,
     "metadata": {},
     "output_type": "execute_result"
    }
   ],
   "source": [
    "categories"
   ]
  },
  {
   "cell_type": "code",
   "execution_count": 146,
   "id": "135c4391",
   "metadata": {},
   "outputs": [],
   "source": [
    "# Export key information to a spreadsheet for analysis\n",
    "data = [[i, lt, sorted(lc), sorted(fc[\"categories\"]), fc[\"keywords\"], \n",
    "         fc[\"reasoning\"]] for (i, lt, lc, fc) in \n",
    "        zip(range(0,len(labeled_text)), labeled_text, labeled_categories, found_categories)]\n",
    "                                   \n",
    "df = pd.DataFrame(data, columns = ['idx','Text','real_categories','found_categories','keywords','reasoning'])\n",
    "df.to_csv(\"llm_vd_results.csv\")"
   ]
  },
  {
   "cell_type": "code",
   "execution_count": 8,
   "id": "cafabae8",
   "metadata": {},
   "outputs": [],
   "source": [
    "# When we are done, delete the index\n",
    "# pinecone.delete_index(index_name)"
   ]
  },
  {
   "cell_type": "markdown",
   "id": "9eaca617",
   "metadata": {},
   "source": [
    "## How Accurate is Just the Nearest Neighbor (Vector Database)?"
   ]
  },
  {
   "cell_type": "code",
   "execution_count": 103,
   "id": "ecdc9502",
   "metadata": {},
   "outputs": [],
   "source": [
    "# Gets the categories from the nearest neighbor\n",
    "def vd_get_categories(text, key):\n",
    "    # Get the related hits from Pinecone\n",
    "    qe = openai.Embedding.create(input=[text], engine=embed_model)\n",
    "    res = index.query(qe['data'][0]['embedding'], top_k=2, include_metadata=True)\n",
    "    for match in res['matches']:\n",
    "        if (match['id'] != f\"fpi-{key}\"):  # EXCLUDE THE ACTUAL PROGRAM\n",
    "            c = match['metadata']['categories'] # Grab the categories from the first match\n",
    "            break\n",
    "    return(c)\n"
   ]
  },
  {
   "cell_type": "code",
   "execution_count": 121,
   "id": "68c85f9a",
   "metadata": {},
   "outputs": [],
   "source": [
    "found_vd_categories=[]\n",
    "if os.path.exists(\"found_vd_categories.json\"):\n",
    "    with open(\"found_vd_categories.json\",\"r\") as infile:\n",
    "        found_vd_categories = json.load(infile)"
   ]
  },
  {
   "cell_type": "code",
   "execution_count": 122,
   "id": "566ba68b",
   "metadata": {},
   "outputs": [],
   "source": [
    "# The following is a reentrant loop so that we can calculate the categories for all of the FPI programs\n",
    "# in batches\n",
    "for i in range(0,len(labeled_text)):\n",
    "    if (i >= len(found_vd_categories)):\n",
    "        cat = vd_get_categories(labeled_text[i],i)\n",
    "        print(f\"{i} {cat}\")\n",
    "        found_vd_categories.append(cat)\n",
    "        with open(\"found_vd_categories.json\",\"w\") as outfile:\n",
    "            outfile.write(json.dumps(found_vd_categories))"
   ]
  },
  {
   "cell_type": "code",
   "execution_count": 123,
   "id": "f37d245b",
   "metadata": {},
   "outputs": [
    {
     "data": {
      "text/html": [
       "<div>\n",
       "<style scoped>\n",
       "    .dataframe tbody tr th:only-of-type {\n",
       "        vertical-align: middle;\n",
       "    }\n",
       "\n",
       "    .dataframe tbody tr th {\n",
       "        vertical-align: top;\n",
       "    }\n",
       "\n",
       "    .dataframe thead th {\n",
       "        text-align: right;\n",
       "    }\n",
       "</style>\n",
       "<table border=\"1\" class=\"dataframe\">\n",
       "  <thead>\n",
       "    <tr style=\"text-align: right;\">\n",
       "      <th></th>\n",
       "      <th>Category</th>\n",
       "      <th>True Pos</th>\n",
       "      <th>True Neg</th>\n",
       "      <th>False Pos</th>\n",
       "      <th>False Neg</th>\n",
       "      <th>Accuracy</th>\n",
       "      <th>Precision</th>\n",
       "      <th>Recall</th>\n",
       "      <th>F1</th>\n",
       "    </tr>\n",
       "  </thead>\n",
       "  <tbody>\n",
       "    <tr>\n",
       "      <th>0</th>\n",
       "      <td>Broadband</td>\n",
       "      <td>27</td>\n",
       "      <td>666</td>\n",
       "      <td>8</td>\n",
       "      <td>10</td>\n",
       "      <td>0.974684</td>\n",
       "      <td>0.771429</td>\n",
       "      <td>0.729730</td>\n",
       "      <td>0.750000</td>\n",
       "    </tr>\n",
       "    <tr>\n",
       "      <th>1</th>\n",
       "      <td>Economic Development</td>\n",
       "      <td>38</td>\n",
       "      <td>655</td>\n",
       "      <td>11</td>\n",
       "      <td>7</td>\n",
       "      <td>0.974684</td>\n",
       "      <td>0.775510</td>\n",
       "      <td>0.844444</td>\n",
       "      <td>0.808511</td>\n",
       "    </tr>\n",
       "    <tr>\n",
       "      <th>2</th>\n",
       "      <td>Opioid Epidemic Response</td>\n",
       "      <td>35</td>\n",
       "      <td>657</td>\n",
       "      <td>8</td>\n",
       "      <td>11</td>\n",
       "      <td>0.973277</td>\n",
       "      <td>0.813953</td>\n",
       "      <td>0.760870</td>\n",
       "      <td>0.786517</td>\n",
       "    </tr>\n",
       "    <tr>\n",
       "      <th>3</th>\n",
       "      <td>STEM Education</td>\n",
       "      <td>60</td>\n",
       "      <td>601</td>\n",
       "      <td>22</td>\n",
       "      <td>28</td>\n",
       "      <td>0.929677</td>\n",
       "      <td>0.731707</td>\n",
       "      <td>0.681818</td>\n",
       "      <td>0.705882</td>\n",
       "    </tr>\n",
       "    <tr>\n",
       "      <th>4</th>\n",
       "      <td>Workforce Development</td>\n",
       "      <td>50</td>\n",
       "      <td>610</td>\n",
       "      <td>22</td>\n",
       "      <td>29</td>\n",
       "      <td>0.928270</td>\n",
       "      <td>0.694444</td>\n",
       "      <td>0.632911</td>\n",
       "      <td>0.662252</td>\n",
       "    </tr>\n",
       "    <tr>\n",
       "      <th>5</th>\n",
       "      <td>Native American</td>\n",
       "      <td>259</td>\n",
       "      <td>382</td>\n",
       "      <td>41</td>\n",
       "      <td>29</td>\n",
       "      <td>0.901547</td>\n",
       "      <td>0.863333</td>\n",
       "      <td>0.899306</td>\n",
       "      <td>0.880952</td>\n",
       "    </tr>\n",
       "    <tr>\n",
       "      <th>6</th>\n",
       "      <td>Flood Risk</td>\n",
       "      <td>43</td>\n",
       "      <td>658</td>\n",
       "      <td>8</td>\n",
       "      <td>2</td>\n",
       "      <td>0.985935</td>\n",
       "      <td>0.843137</td>\n",
       "      <td>0.955556</td>\n",
       "      <td>0.895833</td>\n",
       "    </tr>\n",
       "    <tr>\n",
       "      <th>7</th>\n",
       "      <td>A.I. R&amp;D/Quantum R&amp;D</td>\n",
       "      <td>51</td>\n",
       "      <td>625</td>\n",
       "      <td>20</td>\n",
       "      <td>15</td>\n",
       "      <td>0.950774</td>\n",
       "      <td>0.718310</td>\n",
       "      <td>0.772727</td>\n",
       "      <td>0.744526</td>\n",
       "    </tr>\n",
       "    <tr>\n",
       "      <th>8</th>\n",
       "      <td>Global Health</td>\n",
       "      <td>21</td>\n",
       "      <td>685</td>\n",
       "      <td>1</td>\n",
       "      <td>4</td>\n",
       "      <td>0.992968</td>\n",
       "      <td>0.954545</td>\n",
       "      <td>0.840000</td>\n",
       "      <td>0.893617</td>\n",
       "    </tr>\n",
       "    <tr>\n",
       "      <th>9</th>\n",
       "      <td>Homelessness</td>\n",
       "      <td>28</td>\n",
       "      <td>671</td>\n",
       "      <td>7</td>\n",
       "      <td>5</td>\n",
       "      <td>0.983122</td>\n",
       "      <td>0.800000</td>\n",
       "      <td>0.848485</td>\n",
       "      <td>0.823529</td>\n",
       "    </tr>\n",
       "    <tr>\n",
       "      <th>10</th>\n",
       "      <td>HIV/AIDS</td>\n",
       "      <td>21</td>\n",
       "      <td>677</td>\n",
       "      <td>9</td>\n",
       "      <td>4</td>\n",
       "      <td>0.981716</td>\n",
       "      <td>0.700000</td>\n",
       "      <td>0.840000</td>\n",
       "      <td>0.763636</td>\n",
       "    </tr>\n",
       "    <tr>\n",
       "      <th>11</th>\n",
       "      <td>Transportation Infrastructure</td>\n",
       "      <td>39</td>\n",
       "      <td>663</td>\n",
       "      <td>6</td>\n",
       "      <td>3</td>\n",
       "      <td>0.987342</td>\n",
       "      <td>0.866667</td>\n",
       "      <td>0.928571</td>\n",
       "      <td>0.896552</td>\n",
       "    </tr>\n",
       "    <tr>\n",
       "      <th>12</th>\n",
       "      <td>All Categories</td>\n",
       "      <td>672</td>\n",
       "      <td>7550</td>\n",
       "      <td>163</td>\n",
       "      <td>147</td>\n",
       "      <td>0.963666</td>\n",
       "      <td>0.804790</td>\n",
       "      <td>0.820513</td>\n",
       "      <td>0.812576</td>\n",
       "    </tr>\n",
       "  </tbody>\n",
       "</table>\n",
       "</div>"
      ],
      "text/plain": [
       "                         Category  True Pos  True Neg  False Pos  False Neg   \n",
       "0                       Broadband        27       666          8         10  \\\n",
       "1            Economic Development        38       655         11          7   \n",
       "2        Opioid Epidemic Response        35       657          8         11   \n",
       "3                  STEM Education        60       601         22         28   \n",
       "4           Workforce Development        50       610         22         29   \n",
       "5                 Native American       259       382         41         29   \n",
       "6                      Flood Risk        43       658          8          2   \n",
       "7            A.I. R&D/Quantum R&D        51       625         20         15   \n",
       "8                   Global Health        21       685          1          4   \n",
       "9                    Homelessness        28       671          7          5   \n",
       "10                       HIV/AIDS        21       677          9          4   \n",
       "11  Transportation Infrastructure        39       663          6          3   \n",
       "12                 All Categories       672      7550        163        147   \n",
       "\n",
       "    Accuracy  Precision    Recall        F1  \n",
       "0   0.974684   0.771429  0.729730  0.750000  \n",
       "1   0.974684   0.775510  0.844444  0.808511  \n",
       "2   0.973277   0.813953  0.760870  0.786517  \n",
       "3   0.929677   0.731707  0.681818  0.705882  \n",
       "4   0.928270   0.694444  0.632911  0.662252  \n",
       "5   0.901547   0.863333  0.899306  0.880952  \n",
       "6   0.985935   0.843137  0.955556  0.895833  \n",
       "7   0.950774   0.718310  0.772727  0.744526  \n",
       "8   0.992968   0.954545  0.840000  0.893617  \n",
       "9   0.983122   0.800000  0.848485  0.823529  \n",
       "10  0.981716   0.700000  0.840000  0.763636  \n",
       "11  0.987342   0.866667  0.928571  0.896552  \n",
       "12  0.963666   0.804790  0.820513  0.812576  "
      ]
     },
     "execution_count": 123,
     "metadata": {},
     "output_type": "execute_result"
    }
   ],
   "source": [
    "# Calculate and display Accuracy, Precision, and Recall for each category\n",
    "precision_data = []\n",
    "fp_total = 0\n",
    "fn_total = 0\n",
    "tp_total = 0\n",
    "tn_total = 0\n",
    "for c in categories:\n",
    "    in_cat = [(c in lc) for lc in labeled_categories]\n",
    "    assigned_cat = [(c in fc) for fc in found_vd_categories]\n",
    "    tp = ([(a and b) for a, b in zip(in_cat, assigned_cat)]).count(True)\n",
    "    tn = ([(not(a) and not(b)) for a, b in zip(in_cat, assigned_cat)]).count(True)\n",
    "    fp = ([(not(a) and b) for a, b in zip(in_cat, assigned_cat)]).count(True)\n",
    "    fn = ([(a and not(b)) for a, b in zip(in_cat, assigned_cat)]).count(True)\n",
    "    accuracy = (tp+tn)/(tp+tn+fp+fn)\n",
    "    precision = tp/(tp + fp)\n",
    "    recall = tp/(tp + fn)\n",
    "    f1 = 2.0 / ((1/precision) + (1/recall))\n",
    "    precision_data.append([c,tp,tn,fp,fn,accuracy,precision,recall,f1])\n",
    "    tp_total += tp\n",
    "    tn_total += tn\n",
    "    fp_total += fp\n",
    "    fn_total += fn\n",
    "    \n",
    "accuracy = (tp_total+tn_total)/(tp_total+tn_total+fp_total+fn_total)\n",
    "precision = tp_total/(tp_total + fp_total)\n",
    "recall = tp_total/(tp_total + fn_total)\n",
    "f1 = 2.0 / ((1/precision) + (1/recall))\n",
    "precision_data.append([\"All Categories\",tp_total,tn_total,fp_total,fn_total,accuracy,precision,recall,f1])\n",
    "\n",
    "df = pd.DataFrame(precision_data, columns = ['Category','True Pos','True Neg','False Pos',\n",
    "                                             'False Neg','Accuracy','Precision','Recall','F1'])\n",
    "df"
   ]
  },
  {
   "cell_type": "code",
   "execution_count": null,
   "id": "f68d7f5f",
   "metadata": {},
   "outputs": [],
   "source": []
  }
 ],
 "metadata": {
  "kernelspec": {
   "display_name": "py310",
   "language": "python",
   "name": "py310"
  },
  "language_info": {
   "codemirror_mode": {
    "name": "ipython",
    "version": 3
   },
   "file_extension": ".py",
   "mimetype": "text/x-python",
   "name": "python",
   "nbconvert_exporter": "python",
   "pygments_lexer": "ipython3",
   "version": "3.10.11"
  }
 },
 "nbformat": 4,
 "nbformat_minor": 5
}
