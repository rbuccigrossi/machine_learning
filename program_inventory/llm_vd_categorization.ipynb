{
 "cells": [
  {
   "cell_type": "markdown",
   "id": "ba4f7589",
   "metadata": {},
   "source": [
    "## Using Large Language Model & Vector Database for Categorization\n",
    "\n",
    "### Set OPENAI_API_KEY before running jupyter\n",
    "You need an API key set up from: https://platform.openai.com/account/api-keys\n",
    "\n",
    "    export OPENAI_API_KEY=\"secret key from site\""
   ]
  },
  {
   "cell_type": "code",
   "execution_count": 1,
   "id": "faf96481",
   "metadata": {},
   "outputs": [
    {
     "name": "stdout",
     "output_type": "stream",
     "text": [
      "3.10.11 (main, Apr  5 2023, 14:15:30) [GCC 7.5.0]\n"
     ]
    }
   ],
   "source": [
    "import sys\n",
    "print (sys.version)"
   ]
  },
  {
   "cell_type": "markdown",
   "id": "756d5819",
   "metadata": {},
   "source": [
    "Log into openai with OPEN_API_KEY"
   ]
  },
  {
   "cell_type": "code",
   "execution_count": 3,
   "id": "85841c81",
   "metadata": {},
   "outputs": [],
   "source": [
    "import os\n",
    "import openai\n",
    "\n",
    "# get API key from top-right dropdown on OpenAI website\n",
    "openai.api_key = os.getenv(\"OPENAI_API_KEY\") or \"OPENAI_API_KEY\"\n",
    "\n",
    "# openai.Engine.list()  # check we have authenticated"
   ]
  },
  {
   "cell_type": "markdown",
   "id": "a1667fcc",
   "metadata": {},
   "source": [
    "Connect to Pinecone with PINECONE_API_KEY and PINECONE_ENVIRONMENT"
   ]
  },
  {
   "cell_type": "code",
   "execution_count": 5,
   "id": "862c8fbd",
   "metadata": {},
   "outputs": [],
   "source": [
    "import pinecone\n",
    "from tqdm import tqdm\n",
    "\n",
    "api_key = os.getenv(\"PINECONE_API_KEY\") or \"PINECONE_API_KEY\"\n",
    "# find your environment next to the api key in pinecone console\n",
    "env = os.getenv(\"PINECONE_ENVIRONMENT\") or \"PINECONE_ENVIRONMENT\"\n",
    "\n",
    "pinecone.init(api_key=api_key, enviroment=env)\n",
    "# pinecone.whoami()"
   ]
  },
  {
   "cell_type": "markdown",
   "id": "afa67c59",
   "metadata": {},
   "source": [
    "Create a sample embedding so that we know the embedding length"
   ]
  },
  {
   "cell_type": "code",
   "execution_count": 7,
   "id": "d2b7919c",
   "metadata": {},
   "outputs": [
    {
     "data": {
      "text/plain": [
       "1536"
      ]
     },
     "execution_count": 7,
     "metadata": {},
     "output_type": "execute_result"
    }
   ],
   "source": [
    "embed_model = \"text-embedding-ada-002\"\n",
    "\n",
    "res = openai.Embedding.create(\n",
    "    input=[\"This is sample test that will determine the length\"],\n",
    "    engine=embed_model\n",
    ")\n",
    "\n",
    "embedding_length = len(res['data'][0]['embedding'])\n",
    "embedding_length"
   ]
  },
  {
   "cell_type": "code",
   "execution_count": 9,
   "id": "a5fafed4",
   "metadata": {},
   "outputs": [],
   "source": [
    "index_name = 'openai-fpi-categorization'\n",
    "\n",
    "# Create the index if it doesn't exist already\n",
    "if index_name not in pinecone.list_indexes():\n",
    "    # if does not exist, create index\n",
    "    pinecone.create_index(\n",
    "        index_name,\n",
    "        dimension=embedding_length,\n",
    "        metric='cosine'\n",
    "    )"
   ]
  },
  {
   "cell_type": "code",
   "execution_count": 10,
   "id": "3154b938",
   "metadata": {},
   "outputs": [
    {
     "data": {
      "text/plain": [
       "{'dimension': 1536,\n",
       " 'index_fullness': 0.0,\n",
       " 'namespaces': {},\n",
       " 'total_vector_count': 0}"
      ]
     },
     "execution_count": 10,
     "metadata": {},
     "output_type": "execute_result"
    }
   ],
   "source": [
    "# connect to index\n",
    "index = pinecone.Index(index_name)\n",
    "# view index stats \n",
    "index_stats = index.describe_index_stats()\n",
    "index_stats"
   ]
  },
  {
   "cell_type": "markdown",
   "id": "336f75b0",
   "metadata": {},
   "source": [
    "## Populate the Vector Database\n",
    "### Key Imports"
   ]
  },
  {
   "cell_type": "code",
   "execution_count": 12,
   "id": "e6ccf098",
   "metadata": {},
   "outputs": [],
   "source": [
    "import pandas as pd\n",
    "import numpy as np\n",
    "from sklearn.model_selection import train_test_split"
   ]
  },
  {
   "cell_type": "markdown",
   "id": "ab62d979",
   "metadata": {},
   "source": [
    "### Import our Labeled Text into a DataFrame"
   ]
  },
  {
   "cell_type": "code",
   "execution_count": 16,
   "id": "74faff25",
   "metadata": {},
   "outputs": [
    {
     "data": {
      "text/plain": [
       "['Broadband',\n",
       " 'Economic Development',\n",
       " 'Opioid Epidemic Response',\n",
       " 'STEM Education',\n",
       " 'Workforce Development',\n",
       " 'Native American',\n",
       " 'Flood Risk',\n",
       " 'A.I. R&D/Quantum R&D',\n",
       " 'Global Health',\n",
       " 'Homelessness',\n",
       " 'HIV/AIDS',\n",
       " 'Transportation Infrastructure']"
      ]
     },
     "execution_count": 16,
     "metadata": {},
     "output_type": "execute_result"
    }
   ],
   "source": [
    "# Read the CSV File into a dataframe\n",
    "\n",
    "labeled_data = pd.read_csv('Federal_Program_Inventory_Pilot_Data.csv',encoding='cp1252',\n",
    "                           usecols=['Agency','Program Name','Program Description','Mission/Purpose',\n",
    "                                    'Recipients','Associated Categories'])\n",
    "\n",
    "# Remove duplicate rows\n",
    "labeled_data = labeled_data.drop_duplicates().reset_index(drop=True)\n",
    "\n",
    "# Get the categories\n",
    "categories = pd.read_csv('Federal_Program_Inventory_Pilot_Data.csv',encoding='cp1252',\n",
    "                         usecols=['Category'])\n",
    "categories = categories.drop_duplicates().reset_index(drop=True)\n",
    "categories = [r[\"Category\"] for _, r in categories.iterrows()]\n",
    "categories"
   ]
  },
  {
   "cell_type": "markdown",
   "id": "42101e1a",
   "metadata": {},
   "source": [
    "### Let's create our comparison string and our category list"
   ]
  },
  {
   "cell_type": "code",
   "execution_count": 17,
   "id": "a2deff96",
   "metadata": {},
   "outputs": [],
   "source": [
    "# Let's join the Agency, Program Name, Program Description, Mission/Purpose, and Recipients \n",
    "# into a single Text field \n",
    "labeled_data['text'] = labeled_data[['Agency','Program Name','Program Description','Mission/Purpose',\n",
    "                                    'Recipients']].agg(' '.join, axis=1)\n",
    "\n",
    "# Let's generate the list of categories for each entry\n",
    "labeled_data['categories'] = labeled_data['Associated Categories'].str.split('; ')"
   ]
  },
  {
   "cell_type": "code",
   "execution_count": 26,
   "id": "85a6fa64",
   "metadata": {},
   "outputs": [],
   "source": [
    "# Set up arrays of labeled data and calculate the embeddings\n",
    "labeled_text = labeled_data['text'].tolist()\n",
    "labeled_categories = labeled_data['categories'].tolist()\n",
    "embeddings = openai.Embedding.create(input=labeled_text, engine=embed_model)"
   ]
  },
  {
   "cell_type": "code",
   "execution_count": 31,
   "id": "8bbac590",
   "metadata": {},
   "outputs": [
    {
     "name": "stdout",
     "output_type": "stream",
     "text": [
      "0\n",
      "50\n",
      "100\n",
      "150\n",
      "200\n",
      "250\n",
      "300\n",
      "350\n",
      "400\n",
      "450\n",
      "500\n",
      "550\n",
      "600\n",
      "650\n",
      "700\n"
     ]
    }
   ],
   "source": [
    "if (index_stats.total_vector_count == 0):\n",
    "    to_upsert = [('fpi-'+str(i), embeddings['data'][i]['embedding'], \n",
    "                  {'text':labeled_text[i], 'categories':labeled_categories[i]})\n",
    "                 for i in range(len(labeled_text))]\n",
    "    # Insert in groups of 50\n",
    "    for i in range(0, len(to_upsert), 50):\n",
    "        print(i)\n",
    "        index.upsert(vectors=to_upsert[i:i+50])"
   ]
  },
  {
   "cell_type": "code",
   "execution_count": 32,
   "id": "75782d80",
   "metadata": {},
   "outputs": [
    {
     "data": {
      "text/plain": [
       "{'dimension': 1536,\n",
       " 'index_fullness': 0.0,\n",
       " 'namespaces': {'': {'vector_count': 711}},\n",
       " 'total_vector_count': 711}"
      ]
     },
     "execution_count": 32,
     "metadata": {},
     "output_type": "execute_result"
    }
   ],
   "source": [
    "# view index stats \n",
    "index_stats = index.describe_index_stats()\n",
    "index_stats"
   ]
  },
  {
   "cell_type": "code",
   "execution_count": 34,
   "id": "e0073bd3",
   "metadata": {},
   "outputs": [],
   "source": [
    "# Let's try a to search our index!\n",
    "query = \" economic and community development, empowering Appalachian communities to work with their state governments\"\n",
    "qe = openai.Embedding.create(input=[query], engine=embed_model)\n",
    "res = index.query(qe['data'][0]['embedding'], top_k=5, include_metadata=True)\n",
    "# res"
   ]
  },
  {
   "cell_type": "code",
   "execution_count": 35,
   "id": "6cc25883",
   "metadata": {},
   "outputs": [
    {
     "data": {
      "text/plain": [
       "{'matches': [{'id': 'fpi-2',\n",
       "              'metadata': {'categories': ['Broadband',\n",
       "                                          'Economic Development',\n",
       "                                          'Opioid Epidemic Response',\n",
       "                                          'Workforce Development'],\n",
       "                           'text': 'Appalachian Regional Commission POWER '\n",
       "                                   'Initiative The POWER (Partnerships for '\n",
       "                                   'Opportunity and Workforce and Economic '\n",
       "                                   'Revitalization) Initiative helps '\n",
       "                                   'communities and regions that have been '\n",
       "                                   'affected by job losses in coal mining, '\n",
       "                                   'coal power plant operations, and '\n",
       "                                   'coal-related supply chain industries due '\n",
       "                                   'to the changing economics of America’s '\n",
       "                                   'energy production. The POWER Initiative '\n",
       "                                   'funds projects that cultivate economic '\n",
       "                                   'diversity, enhance job training and '\n",
       "                                   're-employment opportunities, create jobs '\n",
       "                                   'in existing or new industries, attract new '\n",
       "                                   'sources of investment, and strengthen the '\n",
       "                                   'Region’s broadband infrastructure. Area '\n",
       "                                   'and regional development U.S. State '\n",
       "                                   'Government (including the District of '\n",
       "                                   'Columbia); Public/State Controlled '\n",
       "                                   'Institution; Nonprofit with 501(c)(3) '\n",
       "                                   'Status; Domestic Local Government '\n",
       "                                   '(includes territories unless otherwise '\n",
       "                                   'specified)'},\n",
       "              'score': 0.865812361,\n",
       "              'values': []},\n",
       "             {'id': 'fpi-0',\n",
       "              'metadata': {'categories': ['Broadband',\n",
       "                                          'Economic Development',\n",
       "                                          'Opioid Epidemic Response',\n",
       "                                          'STEM Education',\n",
       "                                          'Workforce Development'],\n",
       "                           'text': 'Appalachian Regional Commission Area '\n",
       "                                   'Development Base Program ARC’s Area '\n",
       "                                   'Development Base Program relies on a '\n",
       "                                   'flexible “bottom up” approach to economic '\n",
       "                                   'and community development, empowering '\n",
       "                                   'Appalachian communities to work with their '\n",
       "                                   'state governments to design impactful '\n",
       "                                   'investment opportunities. The program '\n",
       "                                   'makes investments in two general areas: '\n",
       "                                   'critical infrastructure (e.g., water and '\n",
       "                                   'wastewater systems, transportation '\n",
       "                                   'networks, broadband) and business and '\n",
       "                                   'workforce development (e.g., '\n",
       "                                   'entrepreneurship, worker training and '\n",
       "                                   'education, food systems, leadership, and '\n",
       "                                   'other human capital development). Area and '\n",
       "                                   'regional development Nonprofit with '\n",
       "                                   '501(c)(3) Status; Domestic Local '\n",
       "                                   'Government (includes territories unless '\n",
       "                                   'otherwise specified); U.S. State '\n",
       "                                   'Government (including the District of '\n",
       "                                   'Columbia); Public/State Controlled '\n",
       "                                   'Institution'},\n",
       "              'score': 0.863487422,\n",
       "              'values': []},\n",
       "             {'id': 'fpi-119',\n",
       "              'metadata': {'categories': ['Broadband',\n",
       "                                          'Economic Development',\n",
       "                                          'Native American'],\n",
       "                           'text': 'Department of Commerce Economic '\n",
       "                                   'Development Assistance Programs Guided by '\n",
       "                                   'the basic principle that sustainable '\n",
       "                                   'economic development should be '\n",
       "                                   'locally-driven, the Economic Development '\n",
       "                                   'Administration (EDA) works directly with '\n",
       "                                   'communities and regions to help them build '\n",
       "                                   'the capacity for economic development '\n",
       "                                   'based on local business conditions and '\n",
       "                                   'needs. EDA’s grant investments are '\n",
       "                                   'designed to leverage existing regional '\n",
       "                                   'assets to support the implementation of '\n",
       "                                   'economic development strategies that make '\n",
       "                                   'it easier for businesses to start and '\n",
       "                                   'grow. These grants are competitive in '\n",
       "                                   'nature. Area and regional development U.S. '\n",
       "                                   'State Government (including the District '\n",
       "                                   'of Columbia); Nonprofit without 501(c)(3) '\n",
       "                                   'IRS Status; Nonprofit with 501(c)(3) '\n",
       "                                   'Status; Private Educational Institution, '\n",
       "                                   'Nonprofit; Public/State Controlled '\n",
       "                                   'Institution; Domestic Local Government '\n",
       "                                   '(includes territories unless otherwise '\n",
       "                                   'specified); Indian/Native American Tribal '\n",
       "                                   'Government'},\n",
       "              'score': 0.837298751,\n",
       "              'values': []},\n",
       "             {'id': 'fpi-553',\n",
       "              'metadata': {'categories': ['Transportation Infrastructure'],\n",
       "                           'text': 'Department of Transportation FHWA '\n",
       "                                   'Appalachian Development Highway System '\n",
       "                                   'This program provides funding for the '\n",
       "                                   'construction of the Appalachian '\n",
       "                                   'Development Highway System as authorized '\n",
       "                                   'under section 1069(y) of Public Law '\n",
       "                                   '102-240. Ground transportation U.S. State '\n",
       "                                   'Government (including the District of '\n",
       "                                   'Columbia)'},\n",
       "              'score': 0.836607635,\n",
       "              'values': []},\n",
       "             {'id': 'fpi-1',\n",
       "              'metadata': {'categories': ['Opioid Epidemic Response'],\n",
       "                           'text': 'Appalachian Regional Commission INSPIRE '\n",
       "                                   'Initiative The INvestments Supporting '\n",
       "                                   'Partnerships In Recovery Ecosystems '\n",
       "                                   '(INSPIRE) Initiative addresses the '\n",
       "                                   'substance abuse crisis by creating or '\n",
       "                                   'expanding a recovery ecosystem that will '\n",
       "                                   'lead to workforce entry or re-entry. '\n",
       "                                   'Successful projects will support the '\n",
       "                                   'post-treatment to employment continuum, as '\n",
       "                                   'well as initiatives designed to '\n",
       "                                   'coordinate, or link, recovery services and '\n",
       "                                   'training that support the recovery '\n",
       "                                   'ecosystem. Area and regional development '\n",
       "                                   'U.S. State Government (including the '\n",
       "                                   'District of Columbia); Nonprofit with '\n",
       "                                   '501(c)(3) Status; Public/State Controlled '\n",
       "                                   'Institution; Domestic Local Government '\n",
       "                                   '(includes territories unless otherwise '\n",
       "                                   'specified)'},\n",
       "              'score': 0.836562395,\n",
       "              'values': []}],\n",
       " 'namespace': ''}"
      ]
     },
     "execution_count": 35,
     "metadata": {},
     "output_type": "execute_result"
    }
   ],
   "source": [
    "res"
   ]
  },
  {
   "cell_type": "code",
   "execution_count": 85,
   "id": "65fece29",
   "metadata": {},
   "outputs": [
    {
     "data": {
      "text/plain": [
       "'Corps of Engineers--Civil Works Planning Assistance to States The Corps uses this funding to provide technical assistance to states, local governments, Indian tribes, and regional and interstate water resources authorities to assist them in their water resources planning efforts.  The Corps would use the requested funds for work related to flood risk management.  The Corps also is able under this program to provide technical analysis to support a broader effort by a state, regional, or interstate authority that is evaluating options involving a range of issues across a large watershed. Water resources U.S. Federal Government'"
      ]
     },
     "execution_count": 85,
     "metadata": {},
     "output_type": "execute_result"
    }
   ],
   "source": [
    "labeled_text[24]"
   ]
  },
  {
   "cell_type": "code",
   "execution_count": 115,
   "id": "8f6a9901",
   "metadata": {},
   "outputs": [],
   "source": [
    "# Let's try a to search our index!\n",
    "key = 72\n",
    "query = labeled_text[key]\n",
    "qe = openai.Embedding.create(input=[query], engine=embed_model)\n",
    "res = index.query(qe['data'][0]['embedding'], top_k=5, include_metadata=True)\n",
    "# res"
   ]
  },
  {
   "cell_type": "code",
   "execution_count": 116,
   "id": "a1adb983",
   "metadata": {},
   "outputs": [
    {
     "name": "stdout",
     "output_type": "stream",
     "text": [
      "You are a natural language processing categorization tool. The following are pre-categorized programs and their known categories:\n",
      "\n",
      "Program text: Department of Agriculture Regional Food System Partnership Grants supports partnerships that connect public and private resources to plan and develop local or regional food systems Agricultural research and services Indian/Native American Tribal Government\n",
      "\n",
      "Categories: Native American\n",
      "\n",
      "---\n",
      "\n",
      "Program text: Department of Agriculture Tribal College This program provides funding to 1994 Land Grant Institutions (Tribal Colleges) to make capital improvements to their educational facilities and to purchase equipment Community development Indian/Native American Tribal Government\n",
      "\n",
      "Categories: Native American\n",
      "\n",
      "---\n",
      "\n",
      "Program text: Department of Agriculture Intermediary Relending Program The purpose of this program is to provide loans to intermediaries that establish revolving loan programs to provide loans to ultimate recipients for business lending. Area and regional development Nonprofit with 501(c)(3) Status; For-Profit Organization; Indian/Native American Tribal Government; Public/State Controlled Institution\n",
      "\n",
      "Categories: Economic Development, Native American\n",
      "\n",
      "---\n",
      "\n",
      "Program text: Department of Agriculture NIFA - Extension Activities - Capacity The mission of the Cooperative Extension System, a national educational network, is to help people improve their lives through an educational process that uses scientific knowledge focused on issues and needs. Agricultural research and services Indian/Native American Tribal Government; Domestic Local Government (includes territories unless otherwise specified); Public/State Controlled Institution\n",
      "\n",
      "Categories: Native American\n",
      "\n",
      "---\n",
      "\n",
      "Please use the above categorized programs to assign categories to the following program description: \n",
      "\n",
      "Program text: Department of Agriculture Local Agriculture Market Program projects that develop, coordinate and expand local and regional food business enterprises that engage as intermediaries in indirect producer to consumer marketing to help increase access to and availability of locally and regionally produced agricultural products Agricultural research and services Indian/Native American Tribal Government\n",
      "\n",
      "Output a JSON object with three entries: \n",
      " 1) 'keywords' a string listing important keywords found in the program description that impacts your decision\n",
      " 1) 'reasoning' a string describing your reasoning and justification of the categorizaitons\n",
      " 2) 'categories' an array of strings with your categories (the choices are ['Broadband','Economic Development','Opioid Epidemic Response','STEM Education','Workforce Development','Native American','Flood Risk','A.I. R&D/Quantum R&D','Global Health','Homelessness','HIV/AIDS','Transportation Infrastructure'])\n",
      " 3) 'confidence' a number from 0 to 100 representing your confidence (100 being the most confident)\n",
      "\n",
      " Please note that a program may not fit into any of the categories.\n"
     ]
    }
   ],
   "source": [
    "query = (\"You are a natural language processing categorization tool. \" + \n",
    "         \"The following are pre-categorized programs and their known categories:\\n\\n\")\n",
    "for match in res['matches']:\n",
    "    if (match['id'] != f\"fpi-{key}\"):  # EXCLUDE THE ACTUAL PROGRAM\n",
    "        query += (\"Program text: \" + match['metadata']['text'] + \"\\n\\n\" +\n",
    "                  \"Categories: \" + ', '.join(match['metadata']['categories']) + \"\\n\\n\" +\n",
    "                  \"---\" + \"\\n\\n\")\n",
    "query += (\"Please use the above categorized programs to assign categories to the following program description: \\n\\n\" +\n",
    "          \"Program text: \" + labeled_text[key] + \"\\n\\n\" +\n",
    "          \"Output a JSON object with three entries: \\n\" +\n",
    "          \" 1) 'keywords' a string listing important keywords found in the program description that impacts your decision\\n\" + \n",
    "          \" 1) 'reasoning' a string describing your reasoning and justification of the categorizaitons\\n\" + \n",
    "          \" 2) 'categories' an array of strings with your categories (the choices are ['\" + \"','\".join(categories) + \"'])\\n\" +\n",
    "          \" 3) 'confidence' a number from 0 to 100 representing your confidence (100 being the most confident)\\n\\n\" +\n",
    "          \" Please note that a program may not fit into any of the categories.\")\n",
    "\n",
    "print(query)"
   ]
  },
  {
   "cell_type": "code",
   "execution_count": 117,
   "id": "f447cee0",
   "metadata": {},
   "outputs": [
    {
     "name": "stdout",
     "output_type": "stream",
     "text": [
      "{\n",
      "  \"keywords\": \"local agriculture, regional food business, intermediaries, producer to consumer marketing, agricultural products\",\n",
      "  \"reasoning\": \"Based on the keywords found in the program description, it is clear that this program focuses on supporting local and regional food business enterprises, intermediaries, and increasing access to and availability of locally and regionally produced agricultural products. This aligns with the categories of Economic Development and Native American, as the program aims to promote economic growth in the agriculture sector and supports the development of local and regional food systems, which could include Native American communities.\",\n",
      "  \"categories\": [\"Economic Development\", \"Native American\"],\n",
      "  \"confidence\": 95\n",
      "}\n"
     ]
    }
   ],
   "source": [
    "# now query GPT 3.5\n",
    "chat = openai.ChatCompletion.create(\n",
    "    model='gpt-3.5-turbo',\n",
    "    messages=[\n",
    "        {\"role\": \"user\", \"content\" : query}\n",
    "    ]\n",
    ")\n",
    "\n",
    "print(chat['choices'][0]['message']['content'])"
   ]
  },
  {
   "cell_type": "code",
   "execution_count": 118,
   "id": "08519b43",
   "metadata": {},
   "outputs": [
    {
     "data": {
      "text/plain": [
       "['Native American']"
      ]
     },
     "execution_count": 118,
     "metadata": {},
     "output_type": "execute_result"
    }
   ],
   "source": [
    "labeled_categories[key]"
   ]
  },
  {
   "cell_type": "code",
   "execution_count": null,
   "id": "6872fb1d",
   "metadata": {},
   "outputs": [],
   "source": []
  }
 ],
 "metadata": {
  "kernelspec": {
   "display_name": "py310",
   "language": "python",
   "name": "py310"
  },
  "language_info": {
   "codemirror_mode": {
    "name": "ipython",
    "version": 3
   },
   "file_extension": ".py",
   "mimetype": "text/x-python",
   "name": "python",
   "nbconvert_exporter": "python",
   "pygments_lexer": "ipython3",
   "version": "3.10.11"
  }
 },
 "nbformat": 4,
 "nbformat_minor": 5
}
