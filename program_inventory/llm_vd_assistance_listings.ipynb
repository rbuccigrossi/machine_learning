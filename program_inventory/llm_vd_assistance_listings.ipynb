{
 "cells": [
  {
   "cell_type": "markdown",
   "metadata": {},
   "source": [
    "# Use LLM/VD Model on Assistance Listings"
   ]
  },
  {
   "cell_type": "code",
   "execution_count": 1,
   "metadata": {},
   "outputs": [
    {
     "name": "stdout",
     "output_type": "stream",
     "text": [
      "3.10.11 (main, Apr  5 2023, 14:15:30) [GCC 7.5.0]\n"
     ]
    }
   ],
   "source": [
    "import sys\n",
    "print (sys.version)"
   ]
  },
  {
   "cell_type": "markdown",
   "metadata": {},
   "source": [
    "## Open ChatGPT and Pinecone VD"
   ]
  },
  {
   "cell_type": "code",
   "execution_count": 2,
   "metadata": {},
   "outputs": [],
   "source": [
    "import os\n",
    "import openai\n",
    "\n",
    "# get API key from top-right dropdown on OpenAI website\n",
    "openai.api_key = os.getenv(\"OPENAI_API_KEY\") or \"OPENAI_API_KEY\"\n",
    "\n",
    "# openai.Engine.list()  # check we have authenticated"
   ]
  },
  {
   "cell_type": "code",
   "execution_count": 4,
   "metadata": {},
   "outputs": [
    {
     "data": {
      "text/plain": [
       "1536"
      ]
     },
     "execution_count": 4,
     "metadata": {},
     "output_type": "execute_result"
    }
   ],
   "source": [
    "# Connect to Pinecone with PINECONE_API_KEY and PINECONE_ENVIRONMENT\n",
    "\n",
    "import pinecone\n",
    "from tqdm import tqdm\n",
    "\n",
    "api_key = os.getenv(\"PINECONE_API_KEY\") or \"PINECONE_API_KEY\"\n",
    "# find your environment next to the api key in pinecone console\n",
    "env = os.getenv(\"PINECONE_ENVIRONMENT\") or \"PINECONE_ENVIRONMENT\"\n",
    "\n",
    "pinecone.init(api_key=api_key, enviroment=env)\n",
    "\n",
    "# Create a sample embedding so that we know the embedding length\n",
    "\n",
    "embed_model = \"text-embedding-ada-002\"\n",
    "\n",
    "res = openai.Embedding.create(\n",
    "    input=[\"This is sample test that will determine the length\"],\n",
    "    engine=embed_model\n",
    ")\n",
    "\n",
    "embedding_length = len(res['data'][0]['embedding'])\n",
    "embedding_length"
   ]
  },
  {
   "cell_type": "code",
   "execution_count": 5,
   "metadata": {},
   "outputs": [
    {
     "data": {
      "text/plain": [
       "{'dimension': 1536,\n",
       " 'index_fullness': 0.0,\n",
       " 'namespaces': {'': {'vector_count': 711}},\n",
       " 'total_vector_count': 711}"
      ]
     },
     "execution_count": 5,
     "metadata": {},
     "output_type": "execute_result"
    }
   ],
   "source": [
    "# Connect to Pinecone VD Index\n",
    "\n",
    "index_name = 'openai-fpi-categorization'\n",
    "\n",
    "# connect to index\n",
    "index = pinecone.Index(index_name)\n",
    "# view index stats \n",
    "index_stats = index.describe_index_stats()\n",
    "index_stats"
   ]
  },
  {
   "cell_type": "markdown",
   "metadata": {},
   "source": [
    "## Now import the Assistance Listings"
   ]
  },
  {
   "cell_type": "code",
   "execution_count": 59,
   "metadata": {},
   "outputs": [
    {
     "data": {
      "text/html": [
       "<div>\n",
       "<style scoped>\n",
       "    .dataframe tbody tr th:only-of-type {\n",
       "        vertical-align: middle;\n",
       "    }\n",
       "\n",
       "    .dataframe tbody tr th {\n",
       "        vertical-align: top;\n",
       "    }\n",
       "\n",
       "    .dataframe thead th {\n",
       "        text-align: right;\n",
       "    }\n",
       "</style>\n",
       "<table border=\"1\" class=\"dataframe\">\n",
       "  <thead>\n",
       "    <tr style=\"text-align: right;\">\n",
       "      <th></th>\n",
       "      <th>Program Title</th>\n",
       "      <th>Program Number</th>\n",
       "      <th>Federal Agency (030)</th>\n",
       "      <th>Objectives (050)</th>\n",
       "      <th>Beneficiary Eligibility (082)</th>\n",
       "      <th>text</th>\n",
       "    </tr>\n",
       "  </thead>\n",
       "  <tbody>\n",
       "    <tr>\n",
       "      <th>0</th>\n",
       "      <td>Agricultural Research Basic and Applied Research</td>\n",
       "      <td>10.001</td>\n",
       "      <td>AGRICULTURAL RESEARCH SERVICE, AGRICULTURE, DE...</td>\n",
       "      <td>To make agricultural research discoveries, eva...</td>\n",
       "      <td>Usually nonprofit institutions of higher educa...</td>\n",
       "      <td>Program Name: Agricultural Research Basic and ...</td>\n",
       "    </tr>\n",
       "    <tr>\n",
       "      <th>1</th>\n",
       "      <td>Plant and Animal Disease, Pest Control, and An...</td>\n",
       "      <td>10.025</td>\n",
       "      <td>ANIMAL AND PLANT HEALTH INSPECTION SERVICE, AG...</td>\n",
       "      <td>To protect U.S. agriculture from economically ...</td>\n",
       "      <td>Farmers, ranchers, agriculture producers, Stat...</td>\n",
       "      <td>Program Name: Plant and Animal Disease, Pest C...</td>\n",
       "    </tr>\n",
       "    <tr>\n",
       "      <th>2</th>\n",
       "      <td>Wildlife Services</td>\n",
       "      <td>10.028</td>\n",
       "      <td>ANIMAL AND PLANT HEALTH INSPECTION SERVICE, AG...</td>\n",
       "      <td>To reduce damage caused by mammals and birds a...</td>\n",
       "      <td>States, local jurisdictions, U.S. Territorial ...</td>\n",
       "      <td>Program Name: Wildlife Services\\nAgency: ANIMA...</td>\n",
       "    </tr>\n",
       "    <tr>\n",
       "      <th>3</th>\n",
       "      <td>Avian Influenza Indemnity Program</td>\n",
       "      <td>10.029</td>\n",
       "      <td>ANIMAL AND PLANT HEALTH INSPECTION SERVICE, AG...</td>\n",
       "      <td>The Animal and Plant Health Inspection Service...</td>\n",
       "      <td>Poultry owners and contract growers.</td>\n",
       "      <td>Program Name: Avian Influenza Indemnity Progra...</td>\n",
       "    </tr>\n",
       "    <tr>\n",
       "      <th>4</th>\n",
       "      <td>Indemnity Program</td>\n",
       "      <td>10.030</td>\n",
       "      <td>ANIMAL AND PLANT HEALTH INSPECTION SERVICE, AG...</td>\n",
       "      <td>Animal and Plant Health Inspection Service adm...</td>\n",
       "      <td>N/A</td>\n",
       "      <td>Program Name: Indemnity Program\\nAgency: ANIMA...</td>\n",
       "    </tr>\n",
       "    <tr>\n",
       "      <th>...</th>\n",
       "      <td>...</td>\n",
       "      <td>...</td>\n",
       "      <td>...</td>\n",
       "      <td>...</td>\n",
       "      <td>...</td>\n",
       "      <td>...</td>\n",
       "    </tr>\n",
       "    <tr>\n",
       "      <th>3499</th>\n",
       "      <td>Food for Peace Emergency Program (EP)</td>\n",
       "      <td>98.008</td>\n",
       "      <td>AGENCY FOR INTERNATIONAL DEVELOPMENT, AGENCY F...</td>\n",
       "      <td>To improve access, availability and utilizatio...</td>\n",
       "      <td>Private, non-profit institutions/organizations...</td>\n",
       "      <td>Program Name: Food for Peace Emergency Program...</td>\n",
       "    </tr>\n",
       "    <tr>\n",
       "      <th>3500</th>\n",
       "      <td>John Ogonowski Farmer-to-Farmer Program</td>\n",
       "      <td>98.009</td>\n",
       "      <td>AGENCY FOR INTERNATIONAL DEVELOPMENT, AGENCY F...</td>\n",
       "      <td>Improve global food production and marketing b...</td>\n",
       "      <td>Farms, cooperatives, farmers associations, agr...</td>\n",
       "      <td>Program Name: John Ogonowski Farmer-to-Farmer ...</td>\n",
       "    </tr>\n",
       "    <tr>\n",
       "      <th>3501</th>\n",
       "      <td>Denton Program</td>\n",
       "      <td>98.010</td>\n",
       "      <td>AGENCY FOR INTERNATIONAL DEVELOPMENT, AGENCY F...</td>\n",
       "      <td>To put the empty space on U.S. Military transp...</td>\n",
       "      <td>PVOs, NGOs and International Organizations (IO...</td>\n",
       "      <td>Program Name: Denton Program\\nAgency: AGENCY F...</td>\n",
       "    </tr>\n",
       "    <tr>\n",
       "      <th>3502</th>\n",
       "      <td>Global Development Alliance</td>\n",
       "      <td>98.011</td>\n",
       "      <td>AGENCY FOR INTERNATIONAL DEVELOPMENT, AGENCY F...</td>\n",
       "      <td>The Global Development Alliance (GDA) business...</td>\n",
       "      <td>Beneficiaries are foreign governments, foreign...</td>\n",
       "      <td>Program Name: Global Development Alliance\\nAge...</td>\n",
       "    </tr>\n",
       "    <tr>\n",
       "      <th>3503</th>\n",
       "      <td>USAID Development Partnerships for University ...</td>\n",
       "      <td>98.012</td>\n",
       "      <td>AGENCY FOR INTERNATIONAL DEVELOPMENT, AGENCY F...</td>\n",
       "      <td>The purpose of the program is to support and a...</td>\n",
       "      <td>US institutions of higher education, including...</td>\n",
       "      <td>Program Name: USAID Development Partnerships f...</td>\n",
       "    </tr>\n",
       "  </tbody>\n",
       "</table>\n",
       "<p>3504 rows × 6 columns</p>\n",
       "</div>"
      ],
      "text/plain": [
       "                                          Program Title Program Number   \n",
       "0      Agricultural Research Basic and Applied Research         10.001  \\\n",
       "1     Plant and Animal Disease, Pest Control, and An...         10.025   \n",
       "2                                     Wildlife Services         10.028   \n",
       "3                     Avian Influenza Indemnity Program         10.029   \n",
       "4                                     Indemnity Program         10.030   \n",
       "...                                                 ...            ...   \n",
       "3499              Food for Peace Emergency Program (EP)         98.008   \n",
       "3500           John Ogonowski Farmer-to-Farmer Program          98.009   \n",
       "3501                                     Denton Program         98.010   \n",
       "3502                        Global Development Alliance         98.011   \n",
       "3503  USAID Development Partnerships for University ...         98.012   \n",
       "\n",
       "                                   Federal Agency (030)   \n",
       "0     AGRICULTURAL RESEARCH SERVICE, AGRICULTURE, DE...  \\\n",
       "1     ANIMAL AND PLANT HEALTH INSPECTION SERVICE, AG...   \n",
       "2     ANIMAL AND PLANT HEALTH INSPECTION SERVICE, AG...   \n",
       "3     ANIMAL AND PLANT HEALTH INSPECTION SERVICE, AG...   \n",
       "4     ANIMAL AND PLANT HEALTH INSPECTION SERVICE, AG...   \n",
       "...                                                 ...   \n",
       "3499  AGENCY FOR INTERNATIONAL DEVELOPMENT, AGENCY F...   \n",
       "3500  AGENCY FOR INTERNATIONAL DEVELOPMENT, AGENCY F...   \n",
       "3501  AGENCY FOR INTERNATIONAL DEVELOPMENT, AGENCY F...   \n",
       "3502  AGENCY FOR INTERNATIONAL DEVELOPMENT, AGENCY F...   \n",
       "3503  AGENCY FOR INTERNATIONAL DEVELOPMENT, AGENCY F...   \n",
       "\n",
       "                                       Objectives (050)   \n",
       "0     To make agricultural research discoveries, eva...  \\\n",
       "1     To protect U.S. agriculture from economically ...   \n",
       "2     To reduce damage caused by mammals and birds a...   \n",
       "3     The Animal and Plant Health Inspection Service...   \n",
       "4     Animal and Plant Health Inspection Service adm...   \n",
       "...                                                 ...   \n",
       "3499  To improve access, availability and utilizatio...   \n",
       "3500  Improve global food production and marketing b...   \n",
       "3501  To put the empty space on U.S. Military transp...   \n",
       "3502  The Global Development Alliance (GDA) business...   \n",
       "3503  The purpose of the program is to support and a...   \n",
       "\n",
       "                          Beneficiary Eligibility (082)   \n",
       "0     Usually nonprofit institutions of higher educa...  \\\n",
       "1     Farmers, ranchers, agriculture producers, Stat...   \n",
       "2     States, local jurisdictions, U.S. Territorial ...   \n",
       "3                  Poultry owners and contract growers.   \n",
       "4                                                   N/A   \n",
       "...                                                 ...   \n",
       "3499  Private, non-profit institutions/organizations...   \n",
       "3500  Farms, cooperatives, farmers associations, agr...   \n",
       "3501  PVOs, NGOs and International Organizations (IO...   \n",
       "3502  Beneficiaries are foreign governments, foreign...   \n",
       "3503  US institutions of higher education, including...   \n",
       "\n",
       "                                                   text  \n",
       "0     Program Name: Agricultural Research Basic and ...  \n",
       "1     Program Name: Plant and Animal Disease, Pest C...  \n",
       "2     Program Name: Wildlife Services\\nAgency: ANIMA...  \n",
       "3     Program Name: Avian Influenza Indemnity Progra...  \n",
       "4     Program Name: Indemnity Program\\nAgency: ANIMA...  \n",
       "...                                                 ...  \n",
       "3499  Program Name: Food for Peace Emergency Program...  \n",
       "3500  Program Name: John Ogonowski Farmer-to-Farmer ...  \n",
       "3501  Program Name: Denton Program\\nAgency: AGENCY F...  \n",
       "3502  Program Name: Global Development Alliance\\nAge...  \n",
       "3503  Program Name: USAID Development Partnerships f...  \n",
       "\n",
       "[3504 rows x 6 columns]"
      ]
     },
     "execution_count": 59,
     "metadata": {},
     "output_type": "execute_result"
    }
   ],
   "source": [
    "import pandas as pd\n",
    "\n",
    "# Read the CSV File into a dataframe\n",
    "\n",
    "labeled_data = pd.read_csv('AssistanceListings_USASpendingGov_PUBLIC_WEEKLY_20230520.csv',encoding='cp1252',\n",
    "                           dtype=str, keep_default_na=False,\n",
    "                           usecols=['Program Title','Program Number','Federal Agency (030)','Objectives (050)',\n",
    "                                   'Beneficiary Eligibility (082)'])\n",
    "\n",
    "# Join Program Title, Federal Agency and Objectives into a single text field\n",
    "# Let's join the Agency, Program Name, Program Description, Mission/Purpose, and Beneficiaries\n",
    "# into a single Text field (make it human readable for the LLM)\n",
    "labeled_data['text'] = (\"Program Name: \" + labeled_data['Program Title'] + \"\\n\" +\n",
    "                        \"Agency: \" + labeled_data['Federal Agency (030)'] + \"\\n\" +\n",
    "                        \"Program Description: \" + labeled_data['Objectives (050)'] + \"\\n\" +\n",
    "                        \"Beneficiaries: \" + labeled_data['Beneficiary Eligibility (082)'])\n",
    "\n",
    "labeled_data"
   ]
  },
  {
   "cell_type": "code",
   "execution_count": 27,
   "metadata": {},
   "outputs": [
    {
     "data": {
      "text/plain": [
       "['Broadband',\n",
       " 'Economic Development',\n",
       " 'Opioid Epidemic Response',\n",
       " 'STEM Education',\n",
       " 'Workforce Development',\n",
       " 'Native American',\n",
       " 'Flood Risk',\n",
       " 'A.I. R&D/Quantum R&D',\n",
       " 'Global Health',\n",
       " 'Homelessness',\n",
       " 'HIV/AIDS',\n",
       " 'Transportation Infrastructure']"
      ]
     },
     "execution_count": 27,
     "metadata": {},
     "output_type": "execute_result"
    }
   ],
   "source": [
    "# Get the categories\n",
    "categories = pd.read_csv('Federal_Program_Inventory_Pilot_Data.csv',encoding='cp1252',usecols=['Category'])\n",
    "categories = categories.drop_duplicates().reset_index(drop=True)\n",
    "categories = [r[\"Category\"] for _, r in categories.iterrows()]\n",
    "categories"
   ]
  },
  {
   "cell_type": "code",
   "execution_count": 60,
   "metadata": {},
   "outputs": [
    {
     "name": "stdout",
     "output_type": "stream",
     "text": [
      "10.751\n",
      "Program Name: Rural Energy Savings Program (RESP)\n",
      "Agency: RURAL UTILITIES SERVICE, AGRICULTURE, DEPARTMENT OF\n",
      "Program Description: The Rural Energy Savings Program (RESP) provides loans to entities who provide energy efficiency \n",
      "services in rural areas that agree to make affordable loans to help Qualified consumers implement cost- effective, energy efficiency measures. This program, authorized by Congress in the 2014 Farm Bill, helps to build a cleaner and more sustainable domestic energy sector for future generations. RESP will help lower energy bills for rural families and businesses and will reduce barriers to \n",
      "investment in energy efficiency projects or activities.\n",
      "Beneficiaries: N/A\n"
     ]
    }
   ],
   "source": [
    "print(labeled_data['Program Number'][400])\n",
    "print(labeled_data['text'][400])"
   ]
  },
  {
   "cell_type": "markdown",
   "metadata": {},
   "source": [
    "## Define the Categorization Query"
   ]
  },
  {
   "cell_type": "code",
   "execution_count": 65,
   "metadata": {},
   "outputs": [],
   "source": [
    "import json\n",
    "\n",
    "# Gets the categories\n",
    "# openai, index, categories, embed_model are global\n",
    "def llm_vd_get_categories_4(text, temperature=0, top_k=5):\n",
    "    # First get the related hits from Pinecone\n",
    "    qe = openai.Embedding.create(input=[text], engine=embed_model)\n",
    "    res = index.query(qe['data'][0]['embedding'], top_k=top_k, include_metadata=True)\n",
    "    # Construct the query\n",
    "    query = (\"You are natural language processing categorization tool.\\n\" +\n",
    "             \"Given examples of nearest-neighbor US grant programs and their categories. You will assign \" +\n",
    "             \"zero to many categories to a new grant program.\\n\" +\n",
    "             \"The category choices are ['\" + \"','\".join(categories) + \"'])\\n\" +\n",
    "             \"The following are pre-categorized programs and their known categories:\\n\\n\")\n",
    "    for match in res['matches']:\n",
    "        query += (match['metadata']['text'] + \"\\n\\n\" +\n",
    "                  \"Categories: \" + ', '.join(match['metadata']['categories']) + \"\\n\\n\" +\n",
    "                  \"---\" + \"\\n\\n\")\n",
    "    query += (\"Please use the above categorized programs to assign categories to the following program description: \\n\\n\" +\n",
    "              \"Program text: \" + text + \"\\n\\n\" +\n",
    "              \"Output a JSON object (do not output any other text) with four entries: \\n\" +\n",
    "              \" 1) 'clues' First, list CLUES (i.e. Keywords, phrases, contextual information, smenatic relations, semantic meaning, tones, references) that support the categorization\\n\" + \n",
    "              \" 2) 'reasoning' Second, deduce the diagnostic REASONING process from premises (i.e., clues, input) that supports the categorization\\n\" + \n",
    "              \" 3) 'categories' an array of strings with your categories based upon the clues and reasoning (the choices are ['\" + \"','\".join(categories) + \"'])\\n\" +\n",
    "              \" 4) 'confidence' a number from 0 to 100 representing your confidence (100 being the most confident)\"\"\\n\\n\")\n",
    "#    print(query)\n",
    "    chat = openai.ChatCompletion.create(\n",
    "        model='gpt-4',\n",
    "        temperature=temperature,\n",
    "        messages=[{\"role\": \"user\", \"content\" : query}]\n",
    "    )\n",
    "    return(json.loads(chat['choices'][0]['message']['content']))"
   ]
  },
  {
   "cell_type": "code",
   "execution_count": 66,
   "metadata": {},
   "outputs": [
    {
     "data": {
      "text/plain": [
       "{'clues': ['Rural Energy Savings Program',\n",
       "  'provides loans',\n",
       "  'energy efficiency services',\n",
       "  'rural areas',\n",
       "  'cost-effective, energy efficiency measures',\n",
       "  'lower energy bills for rural families and businesses',\n",
       "  'reduce barriers to investment in energy efficiency projects or activities'],\n",
       " 'reasoning': \"The program is designed to provide loans for energy efficiency services in rural areas. This is similar to the 'Rural Economic Development Loans' and 'Rural Economic Development Grants' programs, which also provide funding for rural areas and are categorized under 'Economic Development'. The focus on energy efficiency also aligns with the 'Energy Efficiency and Renewable Energy (EERE)' program, which falls under the 'A.I. R&D/Quantum R&D' category. However, the RESP program does not mention any involvement of Native American communities or STEM education, unlike the EERE program.\",\n",
       " 'categories': ['Economic Development', 'A.I. R&D/Quantum R&D'],\n",
       " 'confidence': 85}"
      ]
     },
     "execution_count": 66,
     "metadata": {},
     "output_type": "execute_result"
    }
   ],
   "source": [
    "llm_vd_get_categories_4(labeled_data['text'][400],0)"
   ]
  },
  {
   "cell_type": "markdown",
   "metadata": {
    "scrolled": true
   },
   "source": [
    "## Sample for Model Validation\n",
    "\n",
    "Here we grab examples for review"
   ]
  },
  {
   "cell_type": "code",
   "execution_count": 67,
   "metadata": {},
   "outputs": [
    {
     "name": "stdout",
     "output_type": "stream",
     "text": [
      "[81, 182, 400, 680, 957, 1049, 1278, 1361, 1458, 1522, 1658, 1711, 1745, 1924, 2078, 2433, 2719, 2760, 2784, 2891, 2932, 2994, 3358, 3402, 3437]\n"
     ]
    }
   ],
   "source": [
    "sample_count = 25\n",
    "\n",
    "import random\n",
    "# sample_ids = random.sample(range(0, len(labeled_data['text'])), sample_count)\n",
    "# sample_ids.sort()\n",
    "# Record for repeatability\n",
    "sample_ids = [81, 182, 400, 680, 957, 1049, 1278, 1361, 1458, 1522, 1658, \n",
    "              1711, 1745, 1924, 2078, 2433, 2719, 2760, 2784, 2891, 2932, 2994, 3358, 3402, 3437]\n",
    "print(sample_ids)"
   ]
  },
  {
   "cell_type": "code",
   "execution_count": 68,
   "metadata": {},
   "outputs": [],
   "source": [
    "found_categories=[]\n",
    "if os.path.exists(\"found_categories_al.json\"):\n",
    "    with open(\"found_categories_al.json\",\"r\") as infile:\n",
    "        found_categories = json.load(infile)"
   ]
  },
  {
   "cell_type": "code",
   "execution_count": 69,
   "metadata": {},
   "outputs": [
    {
     "name": "stdout",
     "output_type": "stream",
     "text": [
      "0 81\n",
      "1 182\n",
      "2 400\n",
      "3 680\n",
      "4 957\n",
      "5 1049\n",
      "6 1278\n",
      "7 1361\n",
      "8 1458\n",
      "9 1522\n",
      "10 1658\n",
      "11 1711\n",
      "12 1745\n",
      "13 1924\n",
      "14 2078\n",
      "15 2433\n",
      "16 2719\n",
      "17 2760\n",
      "18 2784\n",
      "19 2891\n",
      "20 2932\n",
      "21 2994\n",
      "22 3358\n",
      "23 3402\n",
      "24 3437\n"
     ]
    }
   ],
   "source": [
    "import time\n",
    "\n",
    "# The following is a reentrant loop so that we can calculate the categories\n",
    "# in batches\n",
    "error_count = 0\n",
    "for i in range(0,len(sample_ids)):\n",
    "    if (i >= len(found_categories)):\n",
    "        key = sample_ids[i]\n",
    "        while True:\n",
    "            try:\n",
    "                chat_result = llm_vd_get_categories_4(labeled_data['text'][key],error_count * 0.1)\n",
    "                error_count = 0\n",
    "                break\n",
    "            except Exception as e:\n",
    "                print(e)\n",
    "                error_count += 1\n",
    "                if error_count > 3:\n",
    "                    raise Exception(\"Three errors in a row\")\n",
    "                time.sleep(5)\n",
    "        chat_result[\"key\"] = key # Record key just in case\n",
    "        chat_result[\"Program Number\"] = labeled_data['Program Number'][key] # Record key just in case\n",
    "        # print(chat_result)\n",
    "        print(f\"{i} {sample_ids[i]}\")\n",
    "        found_categories.append(chat_result)\n",
    "        with open(\"found_categories_al.json\",\"w\") as outfile:\n",
    "            outfile.write(json.dumps(found_categories))"
   ]
  },
  {
   "cell_type": "code",
   "execution_count": null,
   "metadata": {},
   "outputs": [],
   "source": []
  }
 ],
 "metadata": {
  "kernelspec": {
   "display_name": "Python 3 (ipykernel)",
   "language": "python",
   "name": "python3"
  },
  "language_info": {
   "codemirror_mode": {
    "name": "ipython",
    "version": 3
   },
   "file_extension": ".py",
   "mimetype": "text/x-python",
   "name": "python",
   "nbconvert_exporter": "python",
   "pygments_lexer": "ipython3",
   "version": "3.10.11"
  }
 },
 "nbformat": 4,
 "nbformat_minor": 2
}
