{
 "cells": [
  {
   "cell_type": "markdown",
   "metadata": {},
   "source": [
    "## Virtual Environment Configuration\n",
    "### Install Python 3.10 on Ubuntu\n",
    "Follow https://computingforgeeks.com/how-to-install-python-on-ubuntu-linux-system/ .\n",
    "\n",
    "    sudo apt-get update\n",
    "    sudo apt install software-properties-common -y\n",
    "    sudo add-apt-repository ppa:deadsnakes/ppa\n",
    "    sudo apt install python3.10\n",
    "\n",
    "### Create Python 3.10 virtualenv in ~/py310\n",
    "\n",
    "    cd ~\n",
    "    pip3 install virtualenv\n",
    "    virtualenv --python=/usr/bin/python3.10 py310\n",
    "    source py310/bin/activate\n",
    "    pip list # Show packages\n",
    "    pip install --upgrade pip\n",
    "\n",
    "### Add py310 virtualenv to Jupyter\n",
    "\n",
    "    ipython kernel install --user --name py310\n",
    "\n",
    "Now select the kernel when running this notebook.    "
   ]
  },
  {
   "cell_type": "code",
   "execution_count": 2,
   "metadata": {},
   "outputs": [
    {
     "name": "stdout",
     "output_type": "stream",
     "text": [
      "3.10.11 (main, Apr  5 2023, 14:15:30) [GCC 7.5.0]\n"
     ]
    }
   ],
   "source": [
    "import sys\n",
    "print (sys.version)"
   ]
  },
  {
   "cell_type": "markdown",
   "metadata": {},
   "source": [
    "# Retrieval-Augmented Generation with Pinecone & ChatGPT\n",
    "More information at https://www.pinecone.io/learn/openai-gen-qa/\n",
    "Github repository: https://github.com/pinecone-io/examples/tree/master/generation/generative-qa/openai/gen-qa-openai\n",
    "\n",
    "## Install dependencies\n",
    "   \n",
    "    pip install -qU openai pinecone-client datasets tqdm\n",
    "\n",
    "## Set OPENAI_API_KEY before running jupyter\n",
    "\n",
    "You need an API key set up from: https://platform.openai.com/account/api-keys\n",
    "\n",
    "    export OPENAI_API_KEY=\"secret key from site\""
   ]
  },
  {
   "cell_type": "code",
   "execution_count": null,
   "metadata": {},
   "outputs": [],
   "source": []
  }
 ],
 "metadata": {
  "kernelspec": {
   "display_name": "py310",
   "language": "python",
   "name": "py310"
  },
  "language_info": {
   "codemirror_mode": {
    "name": "ipython",
    "version": 3
   },
   "file_extension": ".py",
   "mimetype": "text/x-python",
   "name": "python",
   "nbconvert_exporter": "python",
   "pygments_lexer": "ipython3",
   "version": "3.10.11"
  }
 },
 "nbformat": 4,
 "nbformat_minor": 4
}
