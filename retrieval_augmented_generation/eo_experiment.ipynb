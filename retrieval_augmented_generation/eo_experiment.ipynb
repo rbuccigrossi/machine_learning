{
 "cells": [
  {
   "cell_type": "markdown",
   "metadata": {},
   "source": [
    "## Executive Order Experiment\n",
    "Here we start with the rag_experiment database, add Executive Order 14028, and ask more questions.\n",
    "\n",
    "See rag_experiment.ipynb for more details.\n"
   ]
  },
  {
   "cell_type": "code",
   "execution_count": 1,
   "metadata": {},
   "outputs": [
    {
     "name": "stdout",
     "output_type": "stream",
     "text": [
      "3.10.11 (main, Apr  5 2023, 14:15:30) [GCC 7.5.0]\n"
     ]
    }
   ],
   "source": [
    "import sys\n",
    "print (sys.version)"
   ]
  },
  {
   "cell_type": "markdown",
   "metadata": {},
   "source": [
    "Log into openai with OPEN_API_KEY"
   ]
  },
  {
   "cell_type": "code",
   "execution_count": 2,
   "metadata": {},
   "outputs": [],
   "source": [
    "import os\n",
    "import openai\n",
    "\n",
    "# get API key from top-right dropdown on OpenAI website\n",
    "openai.api_key = os.getenv(\"OPENAI_API_KEY\") or \"OPENAI_API_KEY\"\n",
    "\n",
    "# openai.Engine.list()  # check we have authenticated"
   ]
  },
  {
   "cell_type": "markdown",
   "metadata": {},
   "source": [
    "Connect to Pinecone with PINECONE_API_KEY and PINECONE_ENVIRONMENT\n",
    "\n",
    "We assume the index is already there"
   ]
  },
  {
   "cell_type": "code",
   "execution_count": 5,
   "metadata": {},
   "outputs": [],
   "source": [
    "import pinecone\n",
    "from tqdm import tqdm\n",
    "\n",
    "api_key = os.getenv(\"PINECONE_API_KEY\") or \"PINECONE_API_KEY\"\n",
    "# find your environment next to the api key in pinecone console\n",
    "env = os.getenv(\"PINECONE_ENVIRONMENT\") or \"PINECONE_ENVIRONMENT\"\n",
    "\n",
    "pinecone.init(api_key=api_key, enviroment=env)\n",
    "# pinecone.whoami()"
   ]
  },
  {
   "cell_type": "markdown",
   "metadata": {},
   "source": [
    "### Create a sample embedding so that we know the embedding length"
   ]
  },
  {
   "cell_type": "code",
   "execution_count": 6,
   "metadata": {},
   "outputs": [
    {
     "data": {
      "text/plain": [
       "1536"
      ]
     },
     "execution_count": 6,
     "metadata": {},
     "output_type": "execute_result"
    }
   ],
   "source": [
    "embed_model = \"text-embedding-ada-002\"\n",
    "\n",
    "res = openai.Embedding.create(\n",
    "    input=[\"This is sample test that will determine the length\"],\n",
    "    engine=embed_model\n",
    ")\n",
    "\n",
    "embedding_length = len(res['data'][0]['embedding'])\n",
    "embedding_length"
   ]
  },
  {
   "cell_type": "code",
   "execution_count": 7,
   "metadata": {},
   "outputs": [],
   "source": [
    "index_name = 'openai-nist-sp'\n",
    "\n",
    "# Create the index if it doesn't exist already\n",
    "if index_name not in pinecone.list_indexes():\n",
    "    # if does not exist, create index\n",
    "    pinecone.create_index(\n",
    "        index_name,\n",
    "        dimension=embedding_length,\n",
    "        metric='cosine',\n",
    "        metadata_config={'indexed': ['document']}\n",
    "    )"
   ]
  },
  {
   "cell_type": "code",
   "execution_count": 8,
   "metadata": {},
   "outputs": [
    {
     "data": {
      "text/plain": [
       "{'dimension': 1536,\n",
       " 'index_fullness': 0.0,\n",
       " 'namespaces': {'': {'vector_count': 7}},\n",
       " 'total_vector_count': 7}"
      ]
     },
     "execution_count": 8,
     "metadata": {},
     "output_type": "execute_result"
    }
   ],
   "source": [
    "# connect to index\n",
    "index = pinecone.Index(index_name)\n",
    "# view index stats \n",
    "index_stats = index.describe_index_stats()\n",
    "index_stats"
   ]
  },
  {
   "cell_type": "code",
   "execution_count": 9,
   "metadata": {},
   "outputs": [
    {
     "data": {
      "text/plain": [
       "0"
      ]
     },
     "execution_count": 9,
     "metadata": {},
     "output_type": "execute_result"
    }
   ],
   "source": [
    "# Read NIST SP 800-207 and add to the vector database if it is empty\n",
    "\n",
    "entry_word_max = 1500\n",
    "entries=[] # Collect our entries\n",
    "\n",
    "if (index_stats.total_vector_count == 0):\n",
    "    with open('EO14028.txt', 'r') as file:\n",
    "        book = file.read()\n",
    "\n",
    "    # Collect the text by paragraph into blocks of entry_word_max words\n",
    "    entry = \"\"\n",
    "    entry_word_count = 0\n",
    "    for line in book.split('SECTION'):\n",
    "        line_word_count = len(line.split())\n",
    "        if ((line_word_count + entry_word_count) > entry_word_max):\n",
    "            entries.append(entry)\n",
    "            entry = \"\"\n",
    "            entry_word_count = 0\n",
    "        entry += line + \" \"\n",
    "        entry_word_count += line_word_count\n",
    "\n",
    "    # record last entry if not empty\n",
    "    if (entry_word_count > 0):\n",
    "        entries.append(entry)\n",
    "\n",
    "len(entries)\n"
   ]
  },
  {
   "cell_type": "code",
   "execution_count": 10,
   "metadata": {},
   "outputs": [],
   "source": [
    "# Now calculate the embeddings\n",
    "\n",
    "if (len(entries) > 0):\n",
    "    embeddings = openai.Embedding.create(input=entries, engine=embed_model)"
   ]
  },
  {
   "cell_type": "code",
   "execution_count": 11,
   "metadata": {},
   "outputs": [],
   "source": [
    "# Now zip up the embeddings and insert!\n",
    "\n",
    "if (len(entries) > 0):\n",
    "    # Object is of the form (id, vector, meta_data)\n",
    "    to_upsert = [('800-207-'+str(i), embeddings['data'][i]['embedding'],{'document':'NIST SP 800-207', 'text':entries[i]}) \n",
    "                 for i in range(len(entries)) ]\n",
    "    index.upsert(vectors=to_upsert)\n",
    "    "
   ]
  },
  {
   "cell_type": "code",
   "execution_count": 12,
   "metadata": {},
   "outputs": [],
   "source": [
    "# Define a convenience function to conduct searches\n",
    "def search_with_rag(openai, index, query):\n",
    "    # Create an embedding of the query\n",
    "    qe = openai.Embedding.create(input=[query], engine=embed_model)\n",
    "    # Search our index\n",
    "    res = index.query(qe['data'][0]['embedding'], top_k=2, include_metadata=True)\n",
    "    # Construct the chat question\n",
    "    context_1 = ( \n",
    "    \"This is initial context for a question below\\n\\n\" +\n",
    "    \"Context: \\n\" +\n",
    "    res['matches'][0]['metadata']['text'] + \"\\n\\n\"\n",
    "    )\n",
    "    context_2 = ( \n",
    "        \"This is additional context for a question below\\n\\n\" +\n",
    "        \"Context: \\n\" +\n",
    "        res['matches'][1]['metadata']['text'] + \"\\n\\n\"\n",
    "    )\n",
    "    question = (\n",
    "        \"Answer the question based upon the previous context. If the answer is not clear from the source, \" +\n",
    "        \"state 'I cannot answer based upon the context.'.\\n\\n\" +\n",
    "        \"Question: \" + query\n",
    "    )\n",
    "    # Ask GPT 3.5 WITH context\n",
    "    res = openai.ChatCompletion.create(\n",
    "        model='gpt-3.5-turbo',\n",
    "        messages=[\n",
    "            {\"role\": \"user\", \"content\" : context_1},\n",
    "            {\"role\": \"user\", \"content\" : context_2},\n",
    "            {\"role\": \"user\", \"content\" : question}\n",
    "        ]\n",
    "    )\n",
    "\n",
    "    return(res['choices'][0]['message']['content'])"
   ]
  },
  {
   "cell_type": "code",
   "execution_count": 27,
   "metadata": {},
   "outputs": [
    {
     "data": {
      "text/plain": [
       "\"The purpose of Executive Order 14028 is to improve the nation's cybersecurity and to protect Federal Government computer systems, including systems that process data and those that run vital machinery, from malicious cyber actors. The order aims to make bold changes, significant investments, and bring the full scope of Federal Government authorities and resources to protect and secure its computer systems. It is also the policy of the Administration that the prevention, detection, assessment, and remediation of cyber incidents is a top priority and essential to national and economic security.\""
      ]
     },
     "execution_count": 27,
     "metadata": {},
     "output_type": "execute_result"
    }
   ],
   "source": [
    "search_with_rag(openai, index, \"What is the purpose of Executive Order 14028?\")"
   ]
  },
  {
   "cell_type": "code",
   "execution_count": 28,
   "metadata": {},
   "outputs": [
    {
     "data": {
      "text/plain": [
       "'Executive Order 14028 was released on May 12, 2021.'"
      ]
     },
     "execution_count": 28,
     "metadata": {},
     "output_type": "execute_result"
    }
   ],
   "source": [
    "search_with_rag(openai, index, \"When was Executive Order 14028 released?\")"
   ]
  },
  {
   "cell_type": "code",
   "execution_count": 29,
   "metadata": {},
   "outputs": [
    {
     "data": {
      "text/plain": [
       "'You can get an official copy of Executive Order 14028 from the official website of the White House.'"
      ]
     },
     "execution_count": 29,
     "metadata": {},
     "output_type": "execute_result"
    }
   ],
   "source": [
    "search_with_rag(openai, index, \"Where can I get an official copy of the Executive Order 14028?\")"
   ]
  },
  {
   "cell_type": "code",
   "execution_count": 30,
   "metadata": {
    "scrolled": true
   },
   "outputs": [
    {
     "data": {
      "text/plain": [
       "'The context does not provide information about when Executive Order 14028 expires.'"
      ]
     },
     "execution_count": 30,
     "metadata": {},
     "output_type": "execute_result"
    }
   ],
   "source": [
    "search_with_rag(openai, index, \"When does Executive Order 14028 expire?\")"
   ]
  },
  {
   "cell_type": "code",
   "execution_count": 13,
   "metadata": {},
   "outputs": [
    {
     "data": {
      "text/plain": [
       "'Executive Order 14028 applies to the Federal Government and Federal Information Systems, including those operated by Federal Civilian Executive Branch Agencies and excludes National Security Systems. It also aims to encourage partnerships between the Federal Government and the private sector to improve cybersecurity.'"
      ]
     },
     "execution_count": 13,
     "metadata": {},
     "output_type": "execute_result"
    }
   ],
   "source": [
    "search_with_rag(openai, index, \"Who does Executive Order 14028 apply to?\")"
   ]
  },
  {
   "cell_type": "code",
   "execution_count": 14,
   "metadata": {},
   "outputs": [
    {
     "data": {
      "text/plain": [
       "'The author of Executive Order 14028 is Joseph R. Biden Jr. It is mentioned at the end of the document.'"
      ]
     },
     "execution_count": 14,
     "metadata": {},
     "output_type": "execute_result"
    }
   ],
   "source": [
    "search_with_rag(openai, index, \"Who is the author of Executive Order 14028?\")"
   ]
  },
  {
   "cell_type": "code",
   "execution_count": 34,
   "metadata": {},
   "outputs": [
    {
     "data": {
      "text/plain": [
       "'Executive Order 14028 requires the Federal Government to improve its efforts to identify, deter, protect against, detect, and respond to cybersecurity threats. It also requires the Federal Government to partner with the private sector in order to foster a more secure cyber space. Additionally, the order requires Federal Information Systems to meet or exceed the standards and requirements for cybersecurity set forth in the order, and for agencies to establish requirements for logging, log retention, and log management. The order also mandates the implementation of an Endpoint Detection and Response (EDR) initiative to support proactive detection of cybersecurity incidents within Federal Government infrastructure. Finally, the order requires the adoption of National Security Systems requirements that are equivalent to or exceed the cybersecurity requirements set forth in this order.'"
      ]
     },
     "execution_count": 34,
     "metadata": {},
     "output_type": "execute_result"
    }
   ],
   "source": [
    "search_with_rag(openai, index, \"What is required by Executive Order 14028?\")"
   ]
  },
  {
   "cell_type": "code",
   "execution_count": 45,
   "metadata": {},
   "outputs": [
    {
     "name": "stdout",
     "output_type": "stream",
     "text": [
      "There are several deadlines and milestones mentioned in Executive Order 14028, including:\n",
      "\n",
      "- Within 30 days of the order, the Director of NIST shall solicit input from various actors to identify existing or develop new standards, tools, and best practices for software security.\n",
      "- Within 180 days of the order, the Director of NIST shall publish preliminary guidelines for enhancing software supply chain security.\n",
      "- Within 360 days of the order, the Director of NIST shall publish additional guidelines that include procedures for periodic review and updating of the preliminary guidelines.\n",
      "- Within 90 days of publication of the preliminary guidelines, the Secretary of Commerce, acting through the Director of NIST, shall issue guidance identifying practices that enhance the security of the software supply chain.\n",
      "- Within 60 days of the order, the Secretary of Commerce shall publish minimum elements for a Software Bill of Materials (SBOM).\n",
      "- Within 45 days of the order, the Secretary of Commerce, acting through the Director of NIST, shall publish a definition of the term \"critical software\" for inclusion in the guidance.\n",
      "- Within 30 days of the publication of the definition, the Secretary of Homeland Security, acting through the Director of CISA, shall identify and make available to agencies a list of categories of software and software products meeting the definition of critical software.\n",
      "- Within 60 days of the order, the Director of NIST, in consultation with the Secretary of Defense, shall publish guidelines recommending minimum standards for vendors' testing of their software source code.\n",
      "- Within 270 days of the order, the Secretary of Commerce shall identify IoT cybersecurity criteria for a consumer labeling program and secure software development practices or criteria for a consumer software labeling program.\n",
      "- Within 1 year of the order, the Director of NIST shall conduct a review of pilot programs and submit a summary report to the APNSA.\n",
      "- Within 1 year of the order, the Secretary of Commerce shall provide a report to the President that reviews the progress made under this section and outlines additional steps needed to secure the software supply chain.\n",
      "\n",
      "Note: This list may not be exhaustive, and there may be other important deadlines or milestones not listed here.\n"
     ]
    }
   ],
   "source": [
    "print(search_with_rag(openai, index, \"What deadlines or milestones are important in Executive Order 14028?\"))"
   ]
  },
  {
   "cell_type": "code",
   "execution_count": 37,
   "metadata": {},
   "outputs": [
    {
     "data": {
      "text/plain": [
       "'The context does not provide information on who to contact for more information.'"
      ]
     },
     "execution_count": 37,
     "metadata": {},
     "output_type": "execute_result"
    }
   ],
   "source": [
    "search_with_rag(openai, index, \"Who should I talk to for more information?\")"
   ]
  },
  {
   "cell_type": "code",
   "execution_count": 38,
   "metadata": {},
   "outputs": [
    {
     "data": {
      "text/plain": [
       "\"OMB's responsibilities include reviewing the Federal Acquisition Regulation (FAR) and the Defense Federal Acquisition Regulation Supplement contract requirements and language for contracting with IT and OT service providers, recommending updates to such requirements and language to the FAR Council and other appropriate agencies, formulating policies for agencies to establish requirements for logging, log retention, and log management, ensuring that agencies have adequate resources to comply with the requirements identified in the section on Improving the Federal Government's Investigative and Remediation Capabilities, and working with the Secretary of Homeland Security and agency heads to ensure that agencies have adequate resources to comply with the requirements issued pursuant to the section on Improving Detection of Cybersecurity Vulnerabilities and Incidents on Federal Government Networks.\""
      ]
     },
     "execution_count": 38,
     "metadata": {},
     "output_type": "execute_result"
    }
   ],
   "source": [
    "search_with_rag(openai, index, \"What are OMB's responsibilities?\")"
   ]
  },
  {
   "cell_type": "code",
   "execution_count": 39,
   "metadata": {},
   "outputs": [
    {
     "data": {
      "text/plain": [
       "'There is no information in the provided context that suggests whether there has been an update to Executive Order 14028.'"
      ]
     },
     "execution_count": 39,
     "metadata": {},
     "output_type": "execute_result"
    }
   ],
   "source": [
    "search_with_rag(openai, index, \"Has there been an update to Executive Order 14028?\")"
   ]
  },
  {
   "cell_type": "code",
   "execution_count": 44,
   "metadata": {},
   "outputs": [
    {
     "name": "stdout",
     "output_type": "stream",
     "text": [
      "Yes, I can. \n",
      "\n",
      "Table of Contents for Executive Order 14028:\n",
      "\n",
      "Section 1 - Policy\n",
      "Section 2 - Removing Barriers to Sharing Threat Information Between Government and the Private Sector\n",
      "Section 3 - Modernizing Federal Government Cybersecurity\n",
      "Section 4 - Enhancing Software Supply Chain Security\n",
      "Section 5 - Establishing a Cybersecurity Safety Review Board\n",
      "Section 6 - Standardizing the Federal Government’s Playbook for Responding to Cybersecurity Vulnerabilities and Incidents\n",
      "Section 7 - Improving Detection of Cybersecurity Vulnerabilities and Incidents on Federal Government Networks\n",
      "Section 8 - Improving the Federal Government’s Investigative and Remediation Capabilities\n",
      "Section 9 - National Security Systems\n",
      "\n",
      "Main Sections:\n",
      "\n",
      "- Policy statement on the need for bold changes and significant investments in cybersecurity to defend vital institutions\n",
      "- Removing barriers to sharing threat information between government and private sector\n",
      "- Modernizing federal government cybersecurity efforts\n",
      "- Enhancing software supply chain security\n",
      "- Establishing a Cybersecurity Safety Review Board\n",
      "- Standardizing playbook for responding to cybersecurity vulnerabilities and incidents\n",
      "- Improving detection of cybersecurity vulnerabilities and incidents on federal government networks\n",
      "- Improving the federal government's investigative and remediation capabilities\n",
      "- Establishing cybersecurity requirements for national security systems\n"
     ]
    }
   ],
   "source": [
    "print(search_with_rag(openai, index, \n",
    "                      \"Can you create a table of contents for Executive Order 14028 and summarize the main sections?\"))"
   ]
  },
  {
   "cell_type": "code",
   "execution_count": 46,
   "metadata": {},
   "outputs": [
    {
     "name": "stdout",
     "output_type": "stream",
     "text": [
      "The most important points of Executive Order 14028 are the need for the Federal Government to improve its efforts to identify, deter, protect against, detect, and respond to cyber threats, the importance of private sector partnership to adapt to changing threats, the need for bold changes and significant investments to defend vital institutions, and the policy of improving detection, prevention, assessment, and remediation of cyber incidents on federal government networks. The order also emphasizes the importance of logging and retaining data, the need for adequate resources, and the adoption of National Security Systems requirements that exceed cybersecurity requirements set forth in the order.\n"
     ]
    }
   ],
   "source": [
    "print(search_with_rag(openai, index, \"What are the most important points of Executive Order 14028 overall?\"))"
   ]
  },
  {
   "cell_type": "code",
   "execution_count": 47,
   "metadata": {},
   "outputs": [
    {
     "name": "stdout",
     "output_type": "stream",
     "text": [
      "The concept of Software Bill of Materials (SBOMs) is not explicitly mentioned in Executive Order 14028, and no specific requirements for SBOMs are given. However, the order emphasizes the importance of improving the detection of cybersecurity vulnerabilities and incidents on Federal Government networks, and enhancing the Federal Government's investigative and remediation capabilities. These goals may necessitate the collection and sharing of detailed information regarding the software and systems in use, which could include some aspects of an SBOM.\n"
     ]
    }
   ],
   "source": [
    "print(search_with_rag(openai, index, \"What are SBOMs and what are their requirements in Executive Order 14028?\"))"
   ]
  },
  {
   "cell_type": "code",
   "execution_count": 48,
   "metadata": {},
   "outputs": [
    {
     "name": "stdout",
     "output_type": "stream",
     "text": [
      "Executive Order 14028 is titled \"Improving the Nation’s Cybersecurity,\" and it states that the Federal Government must improve cybersecurity efforts to identify, deter, protect against, detect, and respond to malicious cyber actors. The order emphasizes that protecting the nation from malicious cyber actors requires the Federal Government to partner with the private sector and make significant investments to defend vital institutions. Incremental improvements will not give us the security we need. The order also directs federal agencies to deploy an Endpoint Detection and Response (EDR) initiative for proactive detection of cybersecurity incidents utilizing host-level visibility, attribution, and responses. Furthermore, it tasks Federal Information Systems with meeting or exceeding the standards and requirements for cybersecurity issued pursuant to this order.\n"
     ]
    }
   ],
   "source": [
    "print(search_with_rag(openai, index, \"What does Executive Order 14028 say about Cybersecurity?\"))"
   ]
  },
  {
   "cell_type": "code",
   "execution_count": 51,
   "metadata": {},
   "outputs": [
    {
     "name": "stdout",
     "output_type": "stream",
     "text": [
      "There are no obvious contradictions or conflicts in the text of the document.\n"
     ]
    }
   ],
   "source": [
    "print(search_with_rag(openai, index, \"Do you see any contradictions or conflicts in the text of the document? What are they?\"))"
   ]
  },
  {
   "cell_type": "code",
   "execution_count": 53,
   "metadata": {},
   "outputs": [
    {
     "name": "stdout",
     "output_type": "stream",
     "text": [
      "As an AI language model, I cannot determine subjective elements such as what may be considered as \"vague\" by a reader. However, the document does contain technical terms and acronyms that may not be familiar to all readers, which could potentially make those parts difficult to understand without further explanation.\n"
     ]
    }
   ],
   "source": [
    "print(search_with_rag(openai, index, \"What are the vaguest parts in the text of this document?\"))"
   ]
  },
  {
   "cell_type": "code",
   "execution_count": 11,
   "metadata": {},
   "outputs": [],
   "source": [
    "# When we are done, delete the index\n",
    "# pinecone.delete_index(index_name)"
   ]
  }
 ],
 "metadata": {
  "kernelspec": {
   "display_name": "py310",
   "language": "python",
   "name": "py310"
  },
  "language_info": {
   "codemirror_mode": {
    "name": "ipython",
    "version": 3
   },
   "file_extension": ".py",
   "mimetype": "text/x-python",
   "name": "python",
   "nbconvert_exporter": "python",
   "pygments_lexer": "ipython3",
   "version": "3.10.11"
  }
 },
 "nbformat": 4,
 "nbformat_minor": 4
}
