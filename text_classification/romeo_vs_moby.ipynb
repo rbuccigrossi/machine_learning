{
 "cells": [
  {
   "cell_type": "markdown",
   "metadata": {},
   "source": [
    "# Text Classification\n",
    "Can we figure out of a set of lines is from Moby Dick vs. Romeo and Juliet?\n",
    "\n",
    "Starting with \"Romeo and Juliet\" and \"Moby Dick\" split into 5 line chunks, using scikit-learn, we will\n",
    "1. Split the data into a training set (80%) and a test set (20%)\n",
    "2. Create \"features\" of word vectors (count words or word phrases in the two texts) using TfidfVectorizer\n",
    "3. Determine which features best differentiate between the two books using SelectKBest\n",
    "4. Train a stochastic gradient descent classifier (SGDClassifier) \n",
    "5. Test the performance of the classifier against the test set \n",
    "\n",
    "Most of this code is modified from \"Hands on Machine Learning with Scikit\" by Aurélien Géron\n",
    "\n",
    "## Splitting Moby Dick and Romeo and Juliet\n",
    "\n",
    "``` bash\n",
    "# Word wrap at 80 characters\n",
    "fold -w 80 -s moby_dick.txt\n",
    "\n",
    "# Now split the text every 5 lines, and prefix with a label\n",
    "cd book_data\n",
    "split -d -l 5 ../romeo_juliet.txt RJ_\n",
    "split -d -l 5 ../moby_dick.txt MD_\n",
    "```"
   ]
  },
  {
   "cell_type": "markdown",
   "metadata": {},
   "source": [
    "## Key Imports"
   ]
  },
  {
   "cell_type": "code",
   "execution_count": 1,
   "metadata": {},
   "outputs": [],
   "source": [
    "import os\n",
    "import pandas as pd\n",
    "import numpy as np\n",
    "from sklearn.model_selection import train_test_split\n",
    "from imblearn.pipeline import Pipeline\n",
    "from sklearn.feature_extraction.text import TfidfVectorizer\n",
    "from sklearn.feature_selection import SelectKBest\n",
    "from sklearn.linear_model import SGDClassifier\n",
    "from sklearn import metrics\n",
    "import matplotlib.pyplot as plt\n",
    "%matplotlib inline"
   ]
  },
  {
   "cell_type": "markdown",
   "metadata": {},
   "source": [
    "## Useful Functions"
   ]
  },
  {
   "cell_type": "code",
   "execution_count": 2,
   "metadata": {},
   "outputs": [],
   "source": [
    "def plot_precision_recall_vs_threshold(precisions, recalls, thresholds):\n",
    "    \"\"\"\n",
    "    Modified from:\n",
    "    Hands-On Machine learning with Scikit-Learn\n",
    "    and TensorFlow; p.89\n",
    "    \"\"\"\n",
    "    font = {'family' : 'Dejavu Sans',\n",
    "            'weight' : 'medium',\n",
    "            'size'   : 18}\n",
    "\n",
    "    plt.rc('font', **font)\n",
    "    \n",
    "    plt.figure(figsize=(16, 8))\n",
    "    plt.title(\"Precision and Recall Scores as a function of the decision threshold\",fontdict=font)\n",
    "    plt.plot(thresholds, precisions[:-1], \"b--\", label=\"Precision\")\n",
    "    plt.plot(thresholds, recalls[:-1], \"g-\", label=\"Recall\")\n",
    "    plt.ylabel(\"Score\",fontdict=font)\n",
    "    plt.xlabel(\"Decision Threshold\",fontdict=font)\n",
    "    plt.legend(loc='best',fontsize=16)"
   ]
  },
  {
   "cell_type": "markdown",
   "metadata": {},
   "source": [
    "## Import our Labeled Text into a DataFrame"
   ]
  },
  {
   "cell_type": "code",
   "execution_count": 3,
   "metadata": {},
   "outputs": [
    {
     "data": {
      "text/html": [
       "<div>\n",
       "<style scoped>\n",
       "    .dataframe tbody tr th:only-of-type {\n",
       "        vertical-align: middle;\n",
       "    }\n",
       "\n",
       "    .dataframe tbody tr th {\n",
       "        vertical-align: top;\n",
       "    }\n",
       "\n",
       "    .dataframe thead th {\n",
       "        text-align: right;\n",
       "    }\n",
       "</style>\n",
       "<table border=\"1\" class=\"dataframe\">\n",
       "  <thead>\n",
       "    <tr style=\"text-align: right;\">\n",
       "      <th></th>\n",
       "      <th>filename</th>\n",
       "      <th>text</th>\n",
       "      <th>label</th>\n",
       "    </tr>\n",
       "  </thead>\n",
       "  <tbody>\n",
       "    <tr>\n",
       "      <td>0</td>\n",
       "      <td>MD_990986</td>\n",
       "      <td>“Cook,” said Stubb, rapidly lifting a rather r...</td>\n",
       "      <td>MD</td>\n",
       "    </tr>\n",
       "    <tr>\n",
       "      <td>1</td>\n",
       "      <td>MD_991098</td>\n",
       "      <td>\\nA short space elapsed, and up into this nois...</td>\n",
       "      <td>MD</td>\n",
       "    </tr>\n",
       "    <tr>\n",
       "      <td>2</td>\n",
       "      <td>MD_990803</td>\n",
       "      <td>said humorous Stubb one day, “he can never be ...</td>\n",
       "      <td>MD</td>\n",
       "    </tr>\n",
       "    <tr>\n",
       "      <td>3</td>\n",
       "      <td>MD_9128</td>\n",
       "      <td>and portion off their nieces with a few porpoi...</td>\n",
       "      <td>MD</td>\n",
       "    </tr>\n",
       "    <tr>\n",
       "      <td>4</td>\n",
       "      <td>MD_991281</td>\n",
       "      <td>as ordinary fish possess what is called a swim...</td>\n",
       "      <td>MD</td>\n",
       "    </tr>\n",
       "    <tr>\n",
       "      <td>5</td>\n",
       "      <td>RJ_9286</td>\n",
       "      <td>JULIET\\nNow, good sweet nurse,--O Lord, why lo...</td>\n",
       "      <td>RJ</td>\n",
       "    </tr>\n",
       "  </tbody>\n",
       "</table>\n",
       "</div>"
      ],
      "text/plain": [
       "    filename                                               text label\n",
       "0  MD_990986  “Cook,” said Stubb, rapidly lifting a rather r...    MD\n",
       "1  MD_991098  \\nA short space elapsed, and up into this nois...    MD\n",
       "2  MD_990803  said humorous Stubb one day, “he can never be ...    MD\n",
       "3    MD_9128  and portion off their nieces with a few porpoi...    MD\n",
       "4  MD_991281  as ordinary fish possess what is called a swim...    MD\n",
       "5    RJ_9286  JULIET\\nNow, good sweet nurse,--O Lord, why lo...    RJ"
      ]
     },
     "execution_count": 3,
     "metadata": {},
     "output_type": "execute_result"
    }
   ],
   "source": [
    "# First, let's import the full collection of labeled texts\n",
    "#\n",
    "# All of the text is in \"book_data\" and begins with a label \"MD_\" for \"Moby Dick\" \n",
    "# or \"RJ_\" for Romeo and Juliet\n",
    "#\n",
    "\n",
    "filenames = []\n",
    "texts = []\n",
    "labels = []\n",
    "path = \"book_data\"\n",
    "# First let's\n",
    "for file in os.listdir(path):\n",
    "    if not file.startswith('.'):\n",
    "        filenames.append(file)\n",
    "        labels.append(file.split('_')[0])\n",
    "        with open(os.path.join(path,file), 'r') as f:\n",
    "            texts.append(f.read())\n",
    "\n",
    "# We read the text and insert it into a pandas dataframe. Sklearn uses dataframes\n",
    "# because it is a table class with nice analysis methods\n",
    "labeled_data = pd.DataFrame()\n",
    "labeled_data['filename'] = filenames\n",
    "labeled_data['text'] = texts\n",
    "labeled_data['label'] = labels\n",
    "\n",
    "# Display the first 6 rows to show that we successfully read it\n",
    "labeled_data.head(6)"
   ]
  },
  {
   "cell_type": "markdown",
   "metadata": {},
   "source": [
    "## Split our Data into Training and Test Sets\n",
    "It is very important to set aside part of our available data into a \"test set\" that is not used to train the model.\n",
    "Why? Because it is very easy to \"overfit\" a model with our training data. Overfitting creates a complex model that\n",
    "works wondefully with the training data, but does not generalize well to other data. By setting aside a test set \n",
    "until the very end, we ensure that our model is better suited to classify data we haven't encountered before."
   ]
  },
  {
   "cell_type": "code",
   "execution_count": 4,
   "metadata": {},
   "outputs": [],
   "source": [
    "# Now let's split our data into a training set and test set\n",
    "training_data, test_data = train_test_split(labeled_data, test_size=0.2, stratify=labeled_data['label'])"
   ]
  },
  {
   "cell_type": "code",
   "execution_count": 5,
   "metadata": {},
   "outputs": [
    {
     "data": {
      "text/plain": [
       "MD    3079\n",
       "RJ     691\n",
       "Name: label, dtype: int64"
      ]
     },
     "execution_count": 5,
     "metadata": {},
     "output_type": "execute_result"
    }
   ],
   "source": [
    "# Make sure our data is split 80/20 and that we have examples of both labels in our sets\n",
    "training_data['label'].value_counts()\n"
   ]
  },
  {
   "cell_type": "code",
   "execution_count": 6,
   "metadata": {},
   "outputs": [
    {
     "data": {
      "text/plain": [
       "MD    770\n",
       "RJ    173\n",
       "Name: label, dtype: int64"
      ]
     },
     "execution_count": 6,
     "metadata": {},
     "output_type": "execute_result"
    }
   ],
   "source": [
    "test_data['label'].value_counts()"
   ]
  },
  {
   "cell_type": "markdown",
   "metadata": {},
   "source": [
    "## Create a Classifier Pipeline and Fit Against Test Data\n",
    "Note: There are many \"hyperparameters\" that can be used to improve the quality of our classifier.\n",
    "For this demo, we're picking simple options (leaving most at the defaults). We will explore\n",
    "improving the options in another notebook."
   ]
  },
  {
   "cell_type": "code",
   "execution_count": 7,
   "metadata": {},
   "outputs": [],
   "source": [
    "# Now let's make a classifier with 3 steps:\n",
    "#   1. Vectorize the text as individual words with English stop words\n",
    "#   2. Select the best K=100 features\n",
    "#   3. SGDClassification\n",
    "estimator = Pipeline([('vectorizer', TfidfVectorizer(stop_words='english')),\n",
    "                      ('select', SelectKBest(k=100)),\n",
    "                      ('classifier', SGDClassifier())])"
   ]
  },
  {
   "cell_type": "code",
   "execution_count": 8,
   "metadata": {},
   "outputs": [],
   "source": [
    "# This powerful line will initialize the vectorizer, select the k=10 best features\n",
    "# and find the weights of the features to best separate (classify) the two\n",
    "# classes of book segments\n",
    "estimator.fit(training_data['text'],training_data['label']);"
   ]
  },
  {
   "cell_type": "markdown",
   "metadata": {},
   "source": [
    "## Check the Accuracy of the Classifier Against the Training Data\n",
    "\n",
    "Here we are going to make predicitions using our classifier against our training set. This should be\n",
    "pretty accurate if we have enough quality features. Sklearn provides a nice report to tell us if our\n",
    "classification performs well, but it requires some definitions:\n",
    "\n",
    "\"precision\" is the ratio of true positive predictions over all positive predictions \n",
    "\n",
    "    precision = TruePos / (TruePos + FalsePos)\n",
    "    \n",
    "\"recall\" is the ratio of true positive predictions over all actual positive items\n",
    "\n",
    "    recall = TruePos / (TruePos + FalseNeg)\n",
    "  \n",
    "The f1-score is the harmonic mean of precision and recall \n",
    "\n",
    "    f1-score = ( 2 / (1/recall) + (1/precision) ) = 2 * (precision * recall) / (precision + recall)\n",
    "             = TruePos / (TrusPos + ((FalsNeg + FalsePos)/2)))"
   ]
  },
  {
   "cell_type": "code",
   "execution_count": 9,
   "metadata": {},
   "outputs": [],
   "source": [
    "pred = estimator.predict(training_data['text'])"
   ]
  },
  {
   "cell_type": "code",
   "execution_count": 10,
   "metadata": {},
   "outputs": [
    {
     "name": "stdout",
     "output_type": "stream",
     "text": [
      "              precision    recall  f1-score   support\n",
      "\n",
      "          MD       0.97      1.00      0.98      3079\n",
      "          RJ       0.99      0.85      0.91       691\n",
      "\n",
      "    accuracy                           0.97      3770\n",
      "   macro avg       0.98      0.92      0.95      3770\n",
      "weighted avg       0.97      0.97      0.97      3770\n",
      "\n"
     ]
    }
   ],
   "source": [
    "print(metrics.classification_report(training_data['label'],pred))"
   ]
  },
  {
   "cell_type": "markdown",
   "metadata": {},
   "source": [
    "## Check the Accuracy of the Classifier Against the Test Data\n",
    "\n",
    "And now for the moment of truth: Does our classifier do well against the test data we set aside from the beginning?\n"
   ]
  },
  {
   "cell_type": "code",
   "execution_count": 11,
   "metadata": {},
   "outputs": [],
   "source": [
    "pred = estimator.predict(test_data['text'])"
   ]
  },
  {
   "cell_type": "code",
   "execution_count": 12,
   "metadata": {},
   "outputs": [
    {
     "name": "stdout",
     "output_type": "stream",
     "text": [
      "              precision    recall  f1-score   support\n",
      "\n",
      "          MD       0.97      1.00      0.98       770\n",
      "          RJ       0.99      0.85      0.91       173\n",
      "\n",
      "    accuracy                           0.97       943\n",
      "   macro avg       0.98      0.92      0.95       943\n",
      "weighted avg       0.97      0.97      0.97       943\n",
      "\n"
     ]
    }
   ],
   "source": [
    "print(metrics.classification_report(test_data['label'],pred))"
   ]
  },
  {
   "cell_type": "markdown",
   "metadata": {},
   "source": [
    "## Plot Precision and Recall Vs. the Threshold\n",
    "The classifier creates a score based upon coefficients it calculated for each feature. If the total score for a piece of text is over a threshold (designed to be \"0\"), then that text is determined to be in the positive class (\"Romeo and Juliet\" in our example).\n",
    "\n",
    "But the threshold is a natural tradeoff between precision and recall. If we set our threshold lower, we'd catch more false negatives (improving recall) but also let more false positives in (hurting precision). Similarly, if we increase our threshold, we'd remove false positives (improving precision) but create more false negatives (hurting recall).  We can plot this relationship between recall and the threshold and between precision and the threshold:"
   ]
  },
  {
   "cell_type": "code",
   "execution_count": 13,
   "metadata": {},
   "outputs": [
    {
     "data": {
      "image/png": "[encoded data removed]",
      "text/plain": [
       "<Figure size 1152x576 with 1 Axes>"
      ]
     },
     "metadata": {
      "needs_background": "light"
     },
     "output_type": "display_data"
    }
   ],
   "source": [
    "def plot_precision_recall_vs_threshold(precisions, recalls, thresholds):\n",
    "    \"\"\"\n",
    "    Modified from:\n",
    "    Hands-On Machine learning with Scikit-Learn\n",
    "    and TensorFlow; p.89\n",
    "    \"\"\"\n",
    "    font = {'family' : 'Dejavu Sans',\n",
    "            'weight' : 'medium',\n",
    "            'size'   : 18}\n",
    "\n",
    "    plt.rc('font', **font)\n",
    "    \n",
    "    plt.figure(figsize=(16, 8))\n",
    "    plt.title(\"Precision and Recall Scores as a function of the decision threshold\",fontdict=font)\n",
    "    plt.plot(thresholds, precisions[:-1], \"b--\", label=\"Precision\")\n",
    "    plt.plot(thresholds, recalls[:-1], \"g-\", label=\"Recall\")\n",
    "    plt.ylabel(\"Score\",fontdict=font)\n",
    "    plt.xlabel(\"Decision Threshold\",fontdict=font)\n",
    "    plt.legend(loc='best',fontsize=16)\n",
    "    \n",
    "    \n",
    "pos_label = 'RJ'\n",
    "# Calculate a \"score\" (a decision threshold)\n",
    "try:\n",
    "    # Get the index of the class that is \"Romeo and Juliet\"\n",
    "    positive_class_col = list(estimator.classes_).index(pos_label)\n",
    "    scores = estimator.predict_proba(test_data['text'])[:, positive_class_col]\n",
    "except AttributeError:\n",
    "    scores = estimator.decision_function(test_data['text'])\n",
    "\n",
    "precisions, recalls, thresholds = metrics.precision_recall_curve(test_data['label'], scores, pos_label=pos_label)    \n",
    "plot_precision_recall_vs_threshold(precisions, recalls, thresholds)\n",
    "plt.show()"
   ]
  },
  {
   "cell_type": "markdown",
   "metadata": {},
   "source": [
    "## Let's use our estimator to predict (and display the score) of some phrases!"
   ]
  },
  {
   "cell_type": "code",
   "execution_count": 14,
   "metadata": {},
   "outputs": [
    {
     "data": {
      "text/plain": [
       "'MD'"
      ]
     },
     "execution_count": 14,
     "metadata": {},
     "output_type": "execute_result"
    }
   ],
   "source": [
    "estimator.predict([\"And yet I would it were to give again.\"])[0]"
   ]
  },
  {
   "cell_type": "code",
   "execution_count": 15,
   "metadata": {},
   "outputs": [
    {
     "data": {
      "text/plain": [
       "-1.076109014434242"
      ]
     },
     "execution_count": 15,
     "metadata": {},
     "output_type": "execute_result"
    }
   ],
   "source": [
    "estimator.decision_function([\"And yet I would it were to give again.\"])[0]"
   ]
  },
  {
   "cell_type": "code",
   "execution_count": 16,
   "metadata": {},
   "outputs": [
    {
     "data": {
      "text/plain": [
       "'MD'"
      ]
     },
     "execution_count": 16,
     "metadata": {},
     "output_type": "execute_result"
    }
   ],
   "source": [
    "estimator.predict([\"I might proceed with several more examples, one way or another known to me, of the great power and malice at times of the sperm whale. In more than one instance, he has been known, not only to chase the assailing boats back to their ships, but to pursue the ship itself, and long withstand all the lances hurled at him from its decks.\"])[0]"
   ]
  },
  {
   "cell_type": "code",
   "execution_count": 17,
   "metadata": {},
   "outputs": [
    {
     "data": {
      "text/plain": [
       "'RJ'"
      ]
     },
     "execution_count": 17,
     "metadata": {},
     "output_type": "execute_result"
    }
   ],
   "source": [
    "estimator.predict([\"Wouldst thou withdraw it? for what purpose, love?\"])[0]"
   ]
  },
  {
   "cell_type": "code",
   "execution_count": 18,
   "metadata": {},
   "outputs": [
    {
     "data": {
      "text/plain": [
       "0.8731490181178372"
      ]
     },
     "execution_count": 18,
     "metadata": {},
     "output_type": "execute_result"
    }
   ],
   "source": [
    "estimator.decision_function([\"Wouldst thou withdraw it? for what purpose, love?\"])[0]"
   ]
  },
  {
   "cell_type": "code",
   "execution_count": 19,
   "metadata": {},
   "outputs": [
    {
     "data": {
      "text/plain": [
       "3.3631317703883825"
      ]
     },
     "execution_count": 19,
     "metadata": {},
     "output_type": "execute_result"
    }
   ],
   "source": [
    "estimator.decision_function([\"Is this sentence more like Romeo and Juliet or like Moby Dick?\"])[0]"
   ]
  },
  {
   "cell_type": "code",
   "execution_count": 20,
   "metadata": {},
   "outputs": [
    {
     "data": {
      "text/plain": [
       "'MD'"
      ]
     },
     "execution_count": 20,
     "metadata": {},
     "output_type": "execute_result"
    }
   ],
   "source": [
    "estimator.predict([\"Is this sentence more like Shakespeare or like Moby Dick?\"])[0]"
   ]
  },
  {
   "cell_type": "code",
   "execution_count": 21,
   "metadata": {},
   "outputs": [
    {
     "data": {
      "text/plain": [
       "-1.107131962012471"
      ]
     },
     "execution_count": 21,
     "metadata": {},
     "output_type": "execute_result"
    }
   ],
   "source": [
    "estimator.decision_function([\"Is this sentence more like Shakespeare or like Moby Dick?\"])[0]"
   ]
  },
  {
   "cell_type": "markdown",
   "metadata": {},
   "source": [
    "## What are the chosen features and their coefficients?\n",
    "With a little work, we can ask the pipeline what features it chose and what coefficients it assigned to those features. Intuitively, a positive coefficient means that the word belongs to Romeo and Juliet. A negative coefficient means that the word belongs to Moby Dick."
   ]
  },
  {
   "cell_type": "code",
   "execution_count": 22,
   "metadata": {},
   "outputs": [
    {
     "data": {
      "text/html": [
       "<div>\n",
       "<style scoped>\n",
       "    .dataframe tbody tr th:only-of-type {\n",
       "        vertical-align: middle;\n",
       "    }\n",
       "\n",
       "    .dataframe tbody tr th {\n",
       "        vertical-align: top;\n",
       "    }\n",
       "\n",
       "    .dataframe thead th {\n",
       "        text-align: right;\n",
       "    }\n",
       "</style>\n",
       "<table border=\"1\" class=\"dataframe\">\n",
       "  <thead>\n",
       "    <tr style=\"text-align: right;\">\n",
       "      <th></th>\n",
       "      <th>features</th>\n",
       "      <th>coef</th>\n",
       "    </tr>\n",
       "  </thead>\n",
       "  <tbody>\n",
       "    <tr>\n",
       "      <td>68</td>\n",
       "      <td>romeo</td>\n",
       "      <td>8.627817</td>\n",
       "    </tr>\n",
       "    <tr>\n",
       "      <td>39</td>\n",
       "      <td>juliet</td>\n",
       "      <td>6.430605</td>\n",
       "    </tr>\n",
       "    <tr>\n",
       "      <td>46</td>\n",
       "      <td>love</td>\n",
       "      <td>5.710010</td>\n",
       "    </tr>\n",
       "    <tr>\n",
       "      <td>20</td>\n",
       "      <td>doth</td>\n",
       "      <td>5.258717</td>\n",
       "    </tr>\n",
       "    <tr>\n",
       "      <td>60</td>\n",
       "      <td>nurse</td>\n",
       "      <td>5.211412</td>\n",
       "    </tr>\n",
       "    <tr>\n",
       "      <td>...</td>\n",
       "      <td>...</td>\n",
       "      <td>...</td>\n",
       "    </tr>\n",
       "    <tr>\n",
       "      <td>99</td>\n",
       "      <td>ye</td>\n",
       "      <td>-1.486681</td>\n",
       "    </tr>\n",
       "    <tr>\n",
       "      <td>9</td>\n",
       "      <td>captain</td>\n",
       "      <td>-1.549035</td>\n",
       "    </tr>\n",
       "    <tr>\n",
       "      <td>81</td>\n",
       "      <td>starbuck</td>\n",
       "      <td>-1.931502</td>\n",
       "    </tr>\n",
       "    <tr>\n",
       "      <td>1</td>\n",
       "      <td>ahab</td>\n",
       "      <td>-2.017812</td>\n",
       "    </tr>\n",
       "    <tr>\n",
       "      <td>95</td>\n",
       "      <td>whale</td>\n",
       "      <td>-2.115613</td>\n",
       "    </tr>\n",
       "  </tbody>\n",
       "</table>\n",
       "<p>100 rows × 2 columns</p>\n",
       "</div>"
      ],
      "text/plain": [
       "    features      coef\n",
       "68     romeo  8.627817\n",
       "39    juliet  6.430605\n",
       "46      love  5.710010\n",
       "20      doth  5.258717\n",
       "60     nurse  5.211412\n",
       "..       ...       ...\n",
       "99        ye -1.486681\n",
       "9    captain -1.549035\n",
       "81  starbuck -1.931502\n",
       "1       ahab -2.017812\n",
       "95     whale -2.115613\n",
       "\n",
       "[100 rows x 2 columns]"
      ]
     },
     "execution_count": 22,
     "metadata": {},
     "output_type": "execute_result"
    }
   ],
   "source": [
    "features = estimator.named_steps['vectorizer'].get_feature_names()\n",
    "mask = estimator.named_steps['select'].get_support()\n",
    "new_features = [ feature for bool, feature in zip (mask, features) if bool ]\n",
    "nf = pd.DataFrame({'features': new_features, 'coef': estimator.named_steps['classifier'].coef_[0] })\n",
    "nf.sort_values(['coef'], ascending=0)"
   ]
  }
 ],
 "metadata": {
  "kernelspec": {
   "display_name": "Python 3",
   "language": "python",
   "name": "python3"
  },
  "language_info": {
   "codemirror_mode": {
    "name": "ipython",
    "version": 3
   },
   "file_extension": ".py",
   "mimetype": "text/x-python",
   "name": "python",
   "nbconvert_exporter": "python",
   "pygments_lexer": "ipython3",
   "version": "3.6.8"
  }
 },
 "nbformat": 4,
 "nbformat_minor": 2
}
